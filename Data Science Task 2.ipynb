{
 "cells": [
  {
   "cell_type": "markdown",
   "id": "fef6757d",
   "metadata": {},
   "source": [
    "# Data Science Task 2"
   ]
  },
  {
   "cell_type": "markdown",
   "id": "80a92510",
   "metadata": {},
   "source": [
    "This is a segmentation task that uses company sales data as the data basis. In this task, customers are to be divided into segments based on their purchasing behavior (customer segmentation). The main task is to identify relevant patterns in the purchasing behavior of customers. Several segmentation solutions are possible. The ones of particular importance to the company are those that are associated with a gain in customer insight, with implications for revenue and profit growth.\n",
    "\n",
    "In general, a customer segmentation is carried out so that customers can be addressed in a targeted manner or in order to offer suitable products and services to the customer. **Meaningful** differentiation criteria for the company would be the customer price sensitivity, the assortment mix (similarity of the articles purchased by the customer), seasonal buying behavior of the customer, etc."
   ]
  },
  {
   "cell_type": "markdown",
   "id": "8aaa757a",
   "metadata": {},
   "source": [
    "## Goal of this task"
   ]
  },
  {
   "cell_type": "markdown",
   "id": "1030295c",
   "metadata": {},
   "source": [
    "Write a small program that divides customers into customer groups based on their purchasing behavior. Use a suitable, respectively preferred programming language (Python, Matlab, R) or library. You are welcome to use notebooks (e.g., Jupyter Notebook) for the purpose of writing and documenting your code.\n",
    "\n",
    "For this task several solutions are possible. Therefore, it is important to document the program code. A logging of a progress, function and error report provides extra points in evaluation.\n",
    "Use company sales data as data basis."
   ]
  },
  {
   "cell_type": "markdown",
   "id": "ca6075a1",
   "metadata": {},
   "source": [
    "# Scores:"
   ]
  },
  {
   "cell_type": "markdown",
   "id": "6fa3611d",
   "metadata": {},
   "source": [
    "- Final segmentation of customers. The code should be clean, understandable and sufficiently commented. (**50 points**)\n",
    "\n",
    "- Adequate comments and user instructions. All necessary means (e.g. extra libraries to be installed) to run the program (**10 points**).\n",
    "\n",
    "- Graphical representation and interpretation of the final solution (your created customer segmentation) (**15 points**)\n",
    "\n",
    "- Logging of your progress, function and error report (**25 points**)\n",
    "\n",
    "Total **100 points**"
   ]
  },
  {
   "cell_type": "code",
   "execution_count": 357,
   "id": "4c5f0223",
   "metadata": {},
   "outputs": [],
   "source": [
    "%matplotlib inline\n",
    "import os\n",
    "import glob\n",
    "import numpy as np\n",
    "import seaborn as sns\n",
    "\n",
    "from datetime import datetime\n",
    "import locale\n",
    "locale.setlocale(locale.LC_ALL, \"german\")\n",
    "\n",
    "from scipy import io\n",
    "import matplotlib.pyplot as plt\n",
    "import pandas as pd\n",
    "from scipy import stats\n",
    "from pyclustertend import hopkins\n",
    "\n",
    "from sklearn.cluster import KMeans\n",
    "\n",
    "from yellowbrick.cluster import SilhouetteVisualizer"
   ]
  },
  {
   "cell_type": "markdown",
   "id": "2d340a4d",
   "metadata": {},
   "source": [
    "# 1. Data Cleaning & Exploratory Data Analysis"
   ]
  },
  {
   "cell_type": "markdown",
   "id": "0f860fdb",
   "metadata": {},
   "source": [
    "## Import Modules, Load Data & Data Review"
   ]
  },
  {
   "cell_type": "code",
   "execution_count": 310,
   "id": "18b10967",
   "metadata": {},
   "outputs": [
    {
     "data": {
      "text/plain": [
       "customerNumber                           int64\n",
       "purchaseDate                            object\n",
       "branchNumber                             int64\n",
       "articleNumber                            int64\n",
       "quantity                               float64\n",
       "discountOnRecommendedRetailPrice[%]    float64\n",
       "purchaseAmount                         float64\n",
       "dtype: object"
      ]
     },
     "execution_count": 310,
     "metadata": {},
     "output_type": "execute_result"
    }
   ],
   "source": [
    "### Import factura data as data frame ###\n",
    "# The file \"DataScienceAufgabe2_FacturaData\" is located in folder \"/DataScienceAufgabe2/Data/\".\n",
    "# In order to use it in jupyter notebook you have to upload it (See \"Upload\" Button in http://localhost:8889/tree) )\n",
    "\n",
    "factura_df = pd.read_csv(\"DataScienceAufgabe2_FacturaData.csv\", encoding=\"iso-8859-1\", decimal=\",\", sep=\";\")\n",
    "# Get column overview\n",
    "factura_df.dtypes"
   ]
  },
  {
   "cell_type": "code",
   "execution_count": 311,
   "id": "33c0a825",
   "metadata": {},
   "outputs": [
    {
     "data": {
      "text/html": [
       "<div>\n",
       "<style scoped>\n",
       "    .dataframe tbody tr th:only-of-type {\n",
       "        vertical-align: middle;\n",
       "    }\n",
       "\n",
       "    .dataframe tbody tr th {\n",
       "        vertical-align: top;\n",
       "    }\n",
       "\n",
       "    .dataframe thead th {\n",
       "        text-align: right;\n",
       "    }\n",
       "</style>\n",
       "<table border=\"1\" class=\"dataframe\">\n",
       "  <thead>\n",
       "    <tr style=\"text-align: right;\">\n",
       "      <th></th>\n",
       "      <th>customerNumber</th>\n",
       "      <th>purchaseDate</th>\n",
       "      <th>branchNumber</th>\n",
       "      <th>articleNumber</th>\n",
       "      <th>quantity</th>\n",
       "      <th>discountOnRecommendedRetailPrice[%]</th>\n",
       "      <th>purchaseAmount</th>\n",
       "    </tr>\n",
       "  </thead>\n",
       "  <tbody>\n",
       "    <tr>\n",
       "      <th>0</th>\n",
       "      <td>557</td>\n",
       "      <td>2021-01-04</td>\n",
       "      <td>19</td>\n",
       "      <td>6013</td>\n",
       "      <td>1.00</td>\n",
       "      <td>0.00</td>\n",
       "      <td>17.24</td>\n",
       "    </tr>\n",
       "    <tr>\n",
       "      <th>1</th>\n",
       "      <td>557</td>\n",
       "      <td>2021-01-04</td>\n",
       "      <td>19</td>\n",
       "      <td>6663</td>\n",
       "      <td>2.00</td>\n",
       "      <td>8.37</td>\n",
       "      <td>94.96</td>\n",
       "    </tr>\n",
       "    <tr>\n",
       "      <th>2</th>\n",
       "      <td>189</td>\n",
       "      <td>2021-01-04</td>\n",
       "      <td>17</td>\n",
       "      <td>2982</td>\n",
       "      <td>2.00</td>\n",
       "      <td>32.23</td>\n",
       "      <td>59.96</td>\n",
       "    </tr>\n",
       "    <tr>\n",
       "      <th>3</th>\n",
       "      <td>490</td>\n",
       "      <td>2021-01-04</td>\n",
       "      <td>19</td>\n",
       "      <td>10658</td>\n",
       "      <td>1.00</td>\n",
       "      <td>25.04</td>\n",
       "      <td>24.05</td>\n",
       "    </tr>\n",
       "    <tr>\n",
       "      <th>4</th>\n",
       "      <td>896</td>\n",
       "      <td>2021-01-04</td>\n",
       "      <td>36</td>\n",
       "      <td>14971</td>\n",
       "      <td>3.00</td>\n",
       "      <td>0.00</td>\n",
       "      <td>26.69</td>\n",
       "    </tr>\n",
       "  </tbody>\n",
       "</table>\n",
       "</div>"
      ],
      "text/plain": [
       "   customerNumber purchaseDate  branchNumber  articleNumber  quantity  \\\n",
       "0             557   2021-01-04            19           6013      1.00   \n",
       "1             557   2021-01-04            19           6663      2.00   \n",
       "2             189   2021-01-04            17           2982      2.00   \n",
       "3             490   2021-01-04            19          10658      1.00   \n",
       "4             896   2021-01-04            36          14971      3.00   \n",
       "\n",
       "   discountOnRecommendedRetailPrice[%]  purchaseAmount  \n",
       "0                                 0.00           17.24  \n",
       "1                                 8.37           94.96  \n",
       "2                                32.23           59.96  \n",
       "3                                25.04           24.05  \n",
       "4                                 0.00           26.69  "
      ]
     },
     "execution_count": 311,
     "metadata": {},
     "output_type": "execute_result"
    }
   ],
   "source": [
    "factura_df.head()"
   ]
  },
  {
   "cell_type": "code",
   "execution_count": 312,
   "id": "18f87ecb",
   "metadata": {},
   "outputs": [
    {
     "data": {
      "text/html": [
       "<div>\n",
       "<style scoped>\n",
       "    .dataframe tbody tr th:only-of-type {\n",
       "        vertical-align: middle;\n",
       "    }\n",
       "\n",
       "    .dataframe tbody tr th {\n",
       "        vertical-align: top;\n",
       "    }\n",
       "\n",
       "    .dataframe thead th {\n",
       "        text-align: right;\n",
       "    }\n",
       "</style>\n",
       "<table border=\"1\" class=\"dataframe\">\n",
       "  <thead>\n",
       "    <tr style=\"text-align: right;\">\n",
       "      <th></th>\n",
       "      <th>count</th>\n",
       "      <th>mean</th>\n",
       "      <th>std</th>\n",
       "      <th>min</th>\n",
       "      <th>25%</th>\n",
       "      <th>50%</th>\n",
       "      <th>75%</th>\n",
       "      <th>max</th>\n",
       "    </tr>\n",
       "  </thead>\n",
       "  <tbody>\n",
       "    <tr>\n",
       "      <th>customerNumber</th>\n",
       "      <td>718987.00</td>\n",
       "      <td>509.37</td>\n",
       "      <td>287.25</td>\n",
       "      <td>1.00</td>\n",
       "      <td>253.00</td>\n",
       "      <td>522.00</td>\n",
       "      <td>746.00</td>\n",
       "      <td>1000.00</td>\n",
       "    </tr>\n",
       "    <tr>\n",
       "      <th>branchNumber</th>\n",
       "      <td>718987.00</td>\n",
       "      <td>48.62</td>\n",
       "      <td>29.36</td>\n",
       "      <td>1.00</td>\n",
       "      <td>25.00</td>\n",
       "      <td>42.00</td>\n",
       "      <td>74.00</td>\n",
       "      <td>101.00</td>\n",
       "    </tr>\n",
       "    <tr>\n",
       "      <th>articleNumber</th>\n",
       "      <td>718987.00</td>\n",
       "      <td>10418.54</td>\n",
       "      <td>6267.80</td>\n",
       "      <td>1.00</td>\n",
       "      <td>4730.00</td>\n",
       "      <td>10207.00</td>\n",
       "      <td>15982.00</td>\n",
       "      <td>21088.00</td>\n",
       "    </tr>\n",
       "    <tr>\n",
       "      <th>quantity</th>\n",
       "      <td>718987.00</td>\n",
       "      <td>15.63</td>\n",
       "      <td>89.42</td>\n",
       "      <td>0.00</td>\n",
       "      <td>1.00</td>\n",
       "      <td>2.00</td>\n",
       "      <td>6.00</td>\n",
       "      <td>13013.00</td>\n",
       "    </tr>\n",
       "    <tr>\n",
       "      <th>discountOnRecommendedRetailPrice[%]</th>\n",
       "      <td>718987.00</td>\n",
       "      <td>3.53</td>\n",
       "      <td>10.93</td>\n",
       "      <td>0.00</td>\n",
       "      <td>0.00</td>\n",
       "      <td>0.00</td>\n",
       "      <td>0.00</td>\n",
       "      <td>100.00</td>\n",
       "    </tr>\n",
       "    <tr>\n",
       "      <th>purchaseAmount</th>\n",
       "      <td>718987.00</td>\n",
       "      <td>123.19</td>\n",
       "      <td>244.96</td>\n",
       "      <td>0.03</td>\n",
       "      <td>21.29</td>\n",
       "      <td>51.96</td>\n",
       "      <td>128.63</td>\n",
       "      <td>24728.52</td>\n",
       "    </tr>\n",
       "  </tbody>\n",
       "</table>\n",
       "</div>"
      ],
      "text/plain": [
       "                                        count     mean     std  min     25%  \\\n",
       "customerNumber                      718987.00   509.37  287.25 1.00  253.00   \n",
       "branchNumber                        718987.00    48.62   29.36 1.00   25.00   \n",
       "articleNumber                       718987.00 10418.54 6267.80 1.00 4730.00   \n",
       "quantity                            718987.00    15.63   89.42 0.00    1.00   \n",
       "discountOnRecommendedRetailPrice[%] 718987.00     3.53   10.93 0.00    0.00   \n",
       "purchaseAmount                      718987.00   123.19  244.96 0.03   21.29   \n",
       "\n",
       "                                         50%      75%      max  \n",
       "customerNumber                        522.00   746.00  1000.00  \n",
       "branchNumber                           42.00    74.00   101.00  \n",
       "articleNumber                       10207.00 15982.00 21088.00  \n",
       "quantity                                2.00     6.00 13013.00  \n",
       "discountOnRecommendedRetailPrice[%]     0.00     0.00   100.00  \n",
       "purchaseAmount                         51.96   128.63 24728.52  "
      ]
     },
     "execution_count": 312,
     "metadata": {},
     "output_type": "execute_result"
    }
   ],
   "source": [
    "factura_df.describe().T"
   ]
  },
  {
   "cell_type": "markdown",
   "id": "09248240",
   "metadata": {},
   "source": [
    "Here we can roughly analyze the data distribution. There are no negative values for quantity in the data set. It can be concluded that the data set does not indicate order cancellation. "
   ]
  },
  {
   "cell_type": "code",
   "execution_count": 313,
   "id": "a0b36fbb",
   "metadata": {},
   "outputs": [
    {
     "name": "stdout",
     "output_type": "stream",
     "text": [
      "Data shape: (718987, 1)\n",
      "___________________________\n",
      "Data Types:\n",
      "int64      3\n",
      "float64    3\n",
      "object     1\n",
      "Name: Types, dtype: int64\n",
      "___________________________\n"
     ]
    },
    {
     "data": {
      "text/html": [
       "<div>\n",
       "<style scoped>\n",
       "    .dataframe tbody tr th:only-of-type {\n",
       "        vertical-align: middle;\n",
       "    }\n",
       "\n",
       "    .dataframe tbody tr th {\n",
       "        vertical-align: top;\n",
       "    }\n",
       "\n",
       "    .dataframe thead th {\n",
       "        text-align: right;\n",
       "    }\n",
       "</style>\n",
       "<table border=\"1\" class=\"dataframe\">\n",
       "  <thead>\n",
       "    <tr style=\"text-align: right;\">\n",
       "      <th></th>\n",
       "      <th>Types</th>\n",
       "      <th>Counts</th>\n",
       "      <th>Uniques</th>\n",
       "      <th>Nulls</th>\n",
       "      <th>Min</th>\n",
       "      <th>Max</th>\n",
       "    </tr>\n",
       "  </thead>\n",
       "  <tbody>\n",
       "    <tr>\n",
       "      <th>articleNumber</th>\n",
       "      <td>int64</td>\n",
       "      <td>718987</td>\n",
       "      <td>21063</td>\n",
       "      <td>0</td>\n",
       "      <td>1</td>\n",
       "      <td>21088</td>\n",
       "    </tr>\n",
       "    <tr>\n",
       "      <th>branchNumber</th>\n",
       "      <td>int64</td>\n",
       "      <td>718987</td>\n",
       "      <td>101</td>\n",
       "      <td>0</td>\n",
       "      <td>1</td>\n",
       "      <td>101</td>\n",
       "    </tr>\n",
       "    <tr>\n",
       "      <th>customerNumber</th>\n",
       "      <td>int64</td>\n",
       "      <td>718987</td>\n",
       "      <td>1000</td>\n",
       "      <td>0</td>\n",
       "      <td>1</td>\n",
       "      <td>1000</td>\n",
       "    </tr>\n",
       "    <tr>\n",
       "      <th>discountOnRecommendedRetailPrice[%]</th>\n",
       "      <td>float64</td>\n",
       "      <td>718987</td>\n",
       "      <td>7733</td>\n",
       "      <td>0</td>\n",
       "      <td>0.00</td>\n",
       "      <td>100.00</td>\n",
       "    </tr>\n",
       "    <tr>\n",
       "      <th>purchaseAmount</th>\n",
       "      <td>float64</td>\n",
       "      <td>718987</td>\n",
       "      <td>26282</td>\n",
       "      <td>0</td>\n",
       "      <td>0.03</td>\n",
       "      <td>24728.52</td>\n",
       "    </tr>\n",
       "    <tr>\n",
       "      <th>purchaseDate</th>\n",
       "      <td>object</td>\n",
       "      <td>718987</td>\n",
       "      <td>307</td>\n",
       "      <td>0</td>\n",
       "      <td>2021-01-02</td>\n",
       "      <td>2021-12-31</td>\n",
       "    </tr>\n",
       "    <tr>\n",
       "      <th>quantity</th>\n",
       "      <td>float64</td>\n",
       "      <td>718987</td>\n",
       "      <td>1296</td>\n",
       "      <td>0</td>\n",
       "      <td>0.00</td>\n",
       "      <td>13013.00</td>\n",
       "    </tr>\n",
       "  </tbody>\n",
       "</table>\n",
       "</div>"
      ],
      "text/plain": [
       "                                       Types  Counts  Uniques  Nulls  \\\n",
       "articleNumber                          int64  718987    21063      0   \n",
       "branchNumber                           int64  718987      101      0   \n",
       "customerNumber                         int64  718987     1000      0   \n",
       "discountOnRecommendedRetailPrice[%]  float64  718987     7733      0   \n",
       "purchaseAmount                       float64  718987    26282      0   \n",
       "purchaseDate                          object  718987      307      0   \n",
       "quantity                             float64  718987     1296      0   \n",
       "\n",
       "                                            Min         Max  \n",
       "articleNumber                                 1       21088  \n",
       "branchNumber                                  1         101  \n",
       "customerNumber                                1        1000  \n",
       "discountOnRecommendedRetailPrice[%]        0.00      100.00  \n",
       "purchaseAmount                             0.03    24728.52  \n",
       "purchaseDate                         2021-01-02  2021-12-31  \n",
       "quantity                                   0.00    13013.00  "
      ]
     },
     "metadata": {},
     "output_type": "display_data"
    }
   ],
   "source": [
    "def summary(factura_df, pred=None):\n",
    "    obs = factura_df.shape[0]\n",
    "    Types = factura_df.dtypes\n",
    "    Counts = factura_df.apply(lambda x: x.count())\n",
    "    Min = factura_df.min()\n",
    "    Max = factura_df.max()\n",
    "    Uniques = factura_df.apply(lambda x: x.unique().shape[0])\n",
    "    Nulls = factura_df.apply(lambda x: x.isnull().sum())\n",
    "    print('Data shape:', df.shape)\n",
    "\n",
    "    if pred is None:\n",
    "        cols = ['Types', 'Counts', 'Uniques', 'Nulls', 'Min', 'Max']\n",
    "        str = pd.concat([Types, Counts, Uniques, Nulls, Min, Max], axis = 1, sort=True)\n",
    "\n",
    "    str.columns = cols\n",
    "    print('___________________________\\nData Types:')\n",
    "    print(str.Types.value_counts())\n",
    "    print('___________________________')\n",
    "    return str\n",
    "\n",
    "display(summary(factura_df).sort_values(by='Nulls', ascending=False))"
   ]
  },
  {
   "cell_type": "markdown",
   "id": "f3b6648b",
   "metadata": {},
   "source": [
    "The number of unique values of the features is important. Reducing the number of unique values is an optimisation technique used to improve the performance of artificial intelligence algorithms. The number of rows is 718987 for this data set. Unique values close to this value can be evaluated in this context."
   ]
  },
  {
   "cell_type": "markdown",
   "id": "1f899a30",
   "metadata": {},
   "source": [
    "The purchaseAmount and customerNumber variables are float64. These variables can be converted from float64 to int16 to reduce the calculation cost."
   ]
  },
  {
   "cell_type": "code",
   "execution_count": 314,
   "id": "4a3ad7b7",
   "metadata": {},
   "outputs": [],
   "source": [
    "factura_df.customerNumber = factura_df.customerNumber.astype('int16')\n",
    "factura_df.purchaseAmount = factura_df.purchaseAmount.astype('int16')"
   ]
  },
  {
   "cell_type": "code",
   "execution_count": 315,
   "id": "0cc0454e",
   "metadata": {},
   "outputs": [
    {
     "name": "stdout",
     "output_type": "stream",
     "text": [
      "<class 'pandas.core.frame.DataFrame'>\n",
      "RangeIndex: 718987 entries, 0 to 718986\n",
      "Data columns (total 7 columns):\n",
      " #   Column                               Non-Null Count   Dtype  \n",
      "---  ------                               --------------   -----  \n",
      " 0   customerNumber                       718987 non-null  int16  \n",
      " 1   purchaseDate                         718987 non-null  object \n",
      " 2   branchNumber                         718987 non-null  int64  \n",
      " 3   articleNumber                        718987 non-null  int64  \n",
      " 4   quantity                             718987 non-null  float64\n",
      " 5   discountOnRecommendedRetailPrice[%]  718987 non-null  float64\n",
      " 6   purchaseAmount                       718987 non-null  int16  \n",
      "dtypes: float64(2), int16(2), int64(2), object(1)\n",
      "memory usage: 30.2+ MB\n"
     ]
    }
   ],
   "source": [
    "factura_df.info()"
   ]
  },
  {
   "cell_type": "markdown",
   "id": "b2127f6b",
   "metadata": {},
   "source": [
    "## Handling Missing Values"
   ]
  },
  {
   "cell_type": "code",
   "execution_count": 316,
   "id": "90f98d0a",
   "metadata": {},
   "outputs": [
    {
     "data": {
      "text/plain": [
       "customerNumber                         0\n",
       "purchaseDate                           0\n",
       "branchNumber                           0\n",
       "articleNumber                          0\n",
       "quantity                               0\n",
       "discountOnRecommendedRetailPrice[%]    0\n",
       "purchaseAmount                         0\n",
       "dtype: int64"
      ]
     },
     "execution_count": 316,
     "metadata": {},
     "output_type": "execute_result"
    }
   ],
   "source": [
    "factura_df.isnull().sum()"
   ]
  },
  {
   "cell_type": "markdown",
   "id": "a8908af4",
   "metadata": {},
   "source": [
    "There are no null values in our data set. To optimize the use of machine learning algorithms, null values can be droped if available. "
   ]
  },
  {
   "cell_type": "code",
   "execution_count": 317,
   "id": "8b0ff405",
   "metadata": {},
   "outputs": [
    {
     "data": {
      "text/plain": [
       "False    702601\n",
       "True      16386\n",
       "dtype: int64"
      ]
     },
     "execution_count": 317,
     "metadata": {},
     "output_type": "execute_result"
    }
   ],
   "source": [
    "factura_df.duplicated().value_counts()"
   ]
  },
  {
   "cell_type": "markdown",
   "id": "dffdb246",
   "metadata": {},
   "source": [
    "There are 16364 duplicate data in the data set. It was evaluated that the same customer bought the same product several times on the same day. Duplicate data is not dropped for this reason."
   ]
  },
  {
   "cell_type": "markdown",
   "id": "38349526",
   "metadata": {},
   "source": [
    "## Grouping data for the purpose of presentation from different perspectives"
   ]
  },
  {
   "cell_type": "code",
   "execution_count": 318,
   "id": "5966046d",
   "metadata": {},
   "outputs": [
    {
     "data": {
      "text/plain": [
       "customerNumber\n",
       "676   2621826.00\n",
       "323    517780.00\n",
       "53     457325.00\n",
       "147    443293.00\n",
       "824    363968.00\n",
       "         ...    \n",
       "641     24678.00\n",
       "132     20934.00\n",
       "226     19930.00\n",
       "144     18855.00\n",
       "705     14618.00\n",
       "Name: purchaseAmount, Length: 1000, dtype: float64"
      ]
     },
     "execution_count": 318,
     "metadata": {},
     "output_type": "execute_result"
    }
   ],
   "source": [
    "pd.set_option('display.float_format', lambda x: '%.2f' % x)\n",
    "factura_df.groupby(\"customerNumber\").purchaseAmount.sum().sort_values(ascending=False)"
   ]
  },
  {
   "cell_type": "code",
   "execution_count": 319,
   "id": "ff35218c",
   "metadata": {},
   "outputs": [
    {
     "data": {
      "text/plain": [
       "<AxesSubplot:xlabel='customerNumber'>"
      ]
     },
     "execution_count": 319,
     "metadata": {},
     "output_type": "execute_result"
    },
    {
     "data": {
      "image/png": "[encoded data removed]",
      "text/plain": [
       "<Figure size 864x576 with 1 Axes>"
      ]
     },
     "metadata": {
      "needs_background": "light"
     },
     "output_type": "display_data"
    }
   ],
   "source": [
    "plt.figure(figsize=(12,8))\n",
    "factura_df.groupby(\"customerNumber\").purchaseAmount.sum().plot(kind=\"bar\")"
   ]
  },
  {
   "cell_type": "markdown",
   "id": "f3a03745",
   "metadata": {},
   "source": [
    "Where the totals of the purchase amount are grouped by customers. The top ten customers who make the most purchases can be an important piece of information."
   ]
  },
  {
   "cell_type": "code",
   "execution_count": 320,
   "id": "d51d23e9",
   "metadata": {},
   "outputs": [
    {
     "data": {
      "text/plain": [
       "267.789"
      ]
     },
     "execution_count": 320,
     "metadata": {},
     "output_type": "execute_result"
    }
   ],
   "source": [
    "factura_df.groupby(\"customerNumber\").articleNumber.nunique().mean()"
   ]
  },
  {
   "cell_type": "markdown",
   "id": "9665b57b",
   "metadata": {},
   "source": [
    "This value show us the average number of unqiue items per customer."
   ]
  },
  {
   "cell_type": "code",
   "execution_count": 321,
   "id": "50bda10c",
   "metadata": {},
   "outputs": [
    {
     "data": {
      "text/plain": [
       "customerNumber\n",
       "1       224\n",
       "2       200\n",
       "3       299\n",
       "4       214\n",
       "5       159\n",
       "       ... \n",
       "996     189\n",
       "997     250\n",
       "998     285\n",
       "999     199\n",
       "1000    270\n",
       "Name: articleNumber, Length: 1000, dtype: int64"
      ]
     },
     "execution_count": 321,
     "metadata": {},
     "output_type": "execute_result"
    }
   ],
   "source": [
    "factura_df.groupby(\"customerNumber\").articleNumber.nunique()"
   ]
  },
  {
   "cell_type": "code",
   "execution_count": null,
   "id": "1ec0c515",
   "metadata": {},
   "outputs": [],
   "source": [
    "You can see number of unqiue items per customer."
   ]
  },
  {
   "cell_type": "code",
   "execution_count": 322,
   "id": "39c56ed2",
   "metadata": {},
   "outputs": [
    {
     "data": {
      "text/plain": [
       "articleNumber\n",
       "163     716621.00\n",
       "11019   233998.00\n",
       "18953   159875.00\n",
       "17619   135311.00\n",
       "19096   130907.00\n",
       "           ...   \n",
       "10855        0.02\n",
       "7958         0.02\n",
       "20111        0.02\n",
       "18738        0.01\n",
       "4472         0.01\n",
       "Name: quantity, Length: 21063, dtype: float64"
      ]
     },
     "execution_count": 322,
     "metadata": {},
     "output_type": "execute_result"
    }
   ],
   "source": [
    "factura_df.groupby('articleNumber').quantity.sum().sort_values(ascending=False)"
   ]
  },
  {
   "cell_type": "code",
   "execution_count": 323,
   "id": "4e660084",
   "metadata": {},
   "outputs": [
    {
     "data": {
      "text/html": [
       "<div>\n",
       "<style scoped>\n",
       "    .dataframe tbody tr th:only-of-type {\n",
       "        vertical-align: middle;\n",
       "    }\n",
       "\n",
       "    .dataframe tbody tr th {\n",
       "        vertical-align: top;\n",
       "    }\n",
       "\n",
       "    .dataframe thead th {\n",
       "        text-align: right;\n",
       "    }\n",
       "</style>\n",
       "<table border=\"1\" class=\"dataframe\">\n",
       "  <thead>\n",
       "    <tr style=\"text-align: right;\">\n",
       "      <th></th>\n",
       "      <th>quantity</th>\n",
       "    </tr>\n",
       "    <tr>\n",
       "      <th>articleNumber</th>\n",
       "      <th></th>\n",
       "    </tr>\n",
       "  </thead>\n",
       "  <tbody>\n",
       "    <tr>\n",
       "      <th>163</th>\n",
       "      <td>716621.00</td>\n",
       "    </tr>\n",
       "    <tr>\n",
       "      <th>11019</th>\n",
       "      <td>233998.00</td>\n",
       "    </tr>\n",
       "    <tr>\n",
       "      <th>18953</th>\n",
       "      <td>159875.00</td>\n",
       "    </tr>\n",
       "    <tr>\n",
       "      <th>17619</th>\n",
       "      <td>135311.00</td>\n",
       "    </tr>\n",
       "    <tr>\n",
       "      <th>19096</th>\n",
       "      <td>130907.00</td>\n",
       "    </tr>\n",
       "  </tbody>\n",
       "</table>\n",
       "</div>"
      ],
      "text/plain": [
       "               quantity\n",
       "articleNumber          \n",
       "163           716621.00\n",
       "11019         233998.00\n",
       "18953         159875.00\n",
       "17619         135311.00\n",
       "19096         130907.00"
      ]
     },
     "execution_count": 323,
     "metadata": {},
     "output_type": "execute_result"
    }
   ],
   "source": [
    "factura_df.groupby(['articleNumber']).agg({ 'quantity': lambda x:x.sum()}).sort_values('quantity', ascending=False).head()"
   ]
  },
  {
   "cell_type": "markdown",
   "id": "5643326e",
   "metadata": {},
   "source": [
    "Here the products sold in the highest number are determined."
   ]
  },
  {
   "cell_type": "code",
   "execution_count": 324,
   "id": "09a37c66",
   "metadata": {},
   "outputs": [
    {
     "data": {
      "text/html": [
       "<div>\n",
       "<style scoped>\n",
       "    .dataframe tbody tr th:only-of-type {\n",
       "        vertical-align: middle;\n",
       "    }\n",
       "\n",
       "    .dataframe tbody tr th {\n",
       "        vertical-align: top;\n",
       "    }\n",
       "\n",
       "    .dataframe thead th {\n",
       "        text-align: right;\n",
       "    }\n",
       "</style>\n",
       "<table border=\"1\" class=\"dataframe\">\n",
       "  <thead>\n",
       "    <tr style=\"text-align: right;\">\n",
       "      <th></th>\n",
       "      <th>purchaseAmount</th>\n",
       "    </tr>\n",
       "    <tr>\n",
       "      <th>articleNumber</th>\n",
       "      <th></th>\n",
       "    </tr>\n",
       "  </thead>\n",
       "  <tbody>\n",
       "    <tr>\n",
       "      <th>20677</th>\n",
       "      <td>862832</td>\n",
       "    </tr>\n",
       "    <tr>\n",
       "      <th>2259</th>\n",
       "      <td>794726</td>\n",
       "    </tr>\n",
       "    <tr>\n",
       "      <th>13377</th>\n",
       "      <td>576840</td>\n",
       "    </tr>\n",
       "    <tr>\n",
       "      <th>3469</th>\n",
       "      <td>495437</td>\n",
       "    </tr>\n",
       "    <tr>\n",
       "      <th>8169</th>\n",
       "      <td>483839</td>\n",
       "    </tr>\n",
       "  </tbody>\n",
       "</table>\n",
       "</div>"
      ],
      "text/plain": [
       "               purchaseAmount\n",
       "articleNumber                \n",
       "20677                  862832\n",
       "2259                   794726\n",
       "13377                  576840\n",
       "3469                   495437\n",
       "8169                   483839"
      ]
     },
     "execution_count": 324,
     "metadata": {},
     "output_type": "execute_result"
    }
   ],
   "source": [
    "#the products that bring the highest turnover\n",
    "factura_df.groupby(['articleNumber']).agg({ 'purchaseAmount': lambda x:x.sum()}).sort_values('purchaseAmount', ascending=False).head()"
   ]
  },
  {
   "cell_type": "markdown",
   "id": "2417d78b",
   "metadata": {},
   "source": [
    "We can see the products that bring the highest turnover have been identified."
   ]
  },
  {
   "cell_type": "code",
   "execution_count": 325,
   "id": "7cf1249c",
   "metadata": {},
   "outputs": [
    {
     "data": {
      "text/plain": [
       "12304"
      ]
     },
     "metadata": {},
     "output_type": "display_data"
    }
   ],
   "source": [
    "display(factura_df.articleNumber[20677])"
   ]
  },
  {
   "cell_type": "code",
   "execution_count": 326,
   "id": "7cad67b6",
   "metadata": {},
   "outputs": [
    {
     "data": {
      "text/plain": [
       "customerNumber                                219\n",
       "purchaseDate                           2021-07-05\n",
       "branchNumber                                   43\n",
       "articleNumber                               20677\n",
       "quantity                                    15.00\n",
       "discountOnRecommendedRetailPrice[%]          0.00\n",
       "purchaseAmount                                317\n",
       "Name: 12302, dtype: object"
      ]
     },
     "metadata": {},
     "output_type": "display_data"
    }
   ],
   "source": [
    "display(factura_df.iloc[12302])"
   ]
  },
  {
   "cell_type": "code",
   "execution_count": 35,
   "id": "f0e8be2f",
   "metadata": {},
   "outputs": [
    {
     "data": {
      "text/html": [
       "<div>\n",
       "<style scoped>\n",
       "    .dataframe tbody tr th:only-of-type {\n",
       "        vertical-align: middle;\n",
       "    }\n",
       "\n",
       "    .dataframe tbody tr th {\n",
       "        vertical-align: top;\n",
       "    }\n",
       "\n",
       "    .dataframe thead th {\n",
       "        text-align: right;\n",
       "    }\n",
       "</style>\n",
       "<table border=\"1\" class=\"dataframe\">\n",
       "  <thead>\n",
       "    <tr style=\"text-align: right;\">\n",
       "      <th></th>\n",
       "      <th>customerNumber</th>\n",
       "      <th>purchaseDate</th>\n",
       "      <th>branchNumber</th>\n",
       "      <th>articleNumber</th>\n",
       "      <th>quantity</th>\n",
       "      <th>discountOnRecommendedRetailPrice[%]</th>\n",
       "      <th>purchaseAmount</th>\n",
       "    </tr>\n",
       "  </thead>\n",
       "  <tbody>\n",
       "    <tr>\n",
       "      <th>0</th>\n",
       "      <td>557</td>\n",
       "      <td>2021-01-04</td>\n",
       "      <td>19</td>\n",
       "      <td>6013</td>\n",
       "      <td>1.00</td>\n",
       "      <td>0.00</td>\n",
       "      <td>17.24</td>\n",
       "    </tr>\n",
       "    <tr>\n",
       "      <th>1</th>\n",
       "      <td>557</td>\n",
       "      <td>2021-01-04</td>\n",
       "      <td>19</td>\n",
       "      <td>6663</td>\n",
       "      <td>2.00</td>\n",
       "      <td>8.37</td>\n",
       "      <td>94.96</td>\n",
       "    </tr>\n",
       "    <tr>\n",
       "      <th>2</th>\n",
       "      <td>189</td>\n",
       "      <td>2021-01-04</td>\n",
       "      <td>17</td>\n",
       "      <td>2982</td>\n",
       "      <td>2.00</td>\n",
       "      <td>32.23</td>\n",
       "      <td>59.96</td>\n",
       "    </tr>\n",
       "    <tr>\n",
       "      <th>3</th>\n",
       "      <td>490</td>\n",
       "      <td>2021-01-04</td>\n",
       "      <td>19</td>\n",
       "      <td>10658</td>\n",
       "      <td>1.00</td>\n",
       "      <td>25.04</td>\n",
       "      <td>24.05</td>\n",
       "    </tr>\n",
       "    <tr>\n",
       "      <th>4</th>\n",
       "      <td>896</td>\n",
       "      <td>2021-01-04</td>\n",
       "      <td>36</td>\n",
       "      <td>14971</td>\n",
       "      <td>3.00</td>\n",
       "      <td>0.00</td>\n",
       "      <td>26.69</td>\n",
       "    </tr>\n",
       "  </tbody>\n",
       "</table>\n",
       "</div>"
      ],
      "text/plain": [
       "   customerNumber purchaseDate  branchNumber  articleNumber  quantity  \\\n",
       "0             557   2021-01-04            19           6013      1.00   \n",
       "1             557   2021-01-04            19           6663      2.00   \n",
       "2             189   2021-01-04            17           2982      2.00   \n",
       "3             490   2021-01-04            19          10658      1.00   \n",
       "4             896   2021-01-04            36          14971      3.00   \n",
       "\n",
       "   discountOnRecommendedRetailPrice[%]  purchaseAmount  \n",
       "0                                 0.00           17.24  \n",
       "1                                 8.37           94.96  \n",
       "2                                32.23           59.96  \n",
       "3                                25.04           24.05  \n",
       "4                                 0.00           26.69  "
      ]
     },
     "execution_count": 35,
     "metadata": {},
     "output_type": "execute_result"
    }
   ],
   "source": [
    "factura_df.head()"
   ]
  },
  {
   "cell_type": "code",
   "execution_count": null,
   "id": "e694cd0f",
   "metadata": {},
   "outputs": [],
   "source": []
  },
  {
   "cell_type": "code",
   "execution_count": null,
   "id": "9f15870e",
   "metadata": {},
   "outputs": [],
   "source": []
  },
  {
   "cell_type": "markdown",
   "id": "66e90e2b",
   "metadata": {},
   "source": [
    "# 2. RFM Analysis"
   ]
  },
  {
   "cell_type": "markdown",
   "id": "a7ffb371",
   "metadata": {},
   "source": [
    "In the age of the internet and e-commerce, companies that do not expand their businesses online or utilize digital tools to reach their customers will run into issues like scalability and a lack of digital precsence. An important marketing strategy e-commerce businesses use for analyzing and predicting customer value is customer segmentation. Customer data is used to sort customers into group based on their behaviors and preferences.\n",
    "\n",
    "**[RFM](https://www.putler.com/rfm-analysis/) (Recency, Frequency, Monetary) Analysis** is a customer segmentation technique for analyzing customer value based on past buying behavior. RFM analysis was first used by the direct mail industry more than four decades ago, yet it is still an effective way to optimize your marketing.\n",
    "<br>\n",
    "<br>\n",
    "Our goal in this Notebook is to cluster the customers in our data set to:\n",
    " - Recognize who are our most valuable customers\n",
    " - Increase revenue\n",
    " - Increase customer retention\n",
    " - Learn more about the trends and behaviors of our customers\n",
    " - Define customers that are at risk\n",
    "\n",
    "We will start with **RFM Analysis** and then compliment our findings with predictive analysis using **K-Means Clustering Algorithms.**\n",
    "\n",
    "- RECENCY (R): Time since last purchase\n",
    "- FREQUENCY (F): Total number of purchases\n",
    "- MONETARY VALUE (M): Total monetary value\n",
    "\n",
    "\n",
    "\n",
    "\n",
    "Benefits of RFM Analysis\n",
    "\n",
    "- Increased customer retention\n",
    "- Increased response rate\n",
    "- Increased conversion rate\n",
    "- Increased revenue\n",
    "\n",
    "RFM Analysis answers the following questions:\n",
    " - Who are our best customers?\n",
    " - Who has the potential to be converted into more profitable customers?\n",
    " - Which customers do we need to retain?\n",
    " - Which group of customers is most likely to respond to our marketing campaign?"
   ]
  },
  {
   "cell_type": "code",
   "execution_count": 327,
   "id": "cc38d3ac",
   "metadata": {},
   "outputs": [
    {
     "name": "stdout",
     "output_type": "stream",
     "text": [
      "Min:2021-01-02; Max:2021-12-31\n"
     ]
    }
   ],
   "source": [
    "#Finding min and max days. The date of the first and last purchase is determined for RFM analysis.\n",
    "print('Min:{}; Max:{}'.format(min(factura_df.purchaseDate), max(factura_df.purchaseDate)))"
   ]
  },
  {
   "cell_type": "code",
   "execution_count": 328,
   "id": "bd99b78f",
   "metadata": {},
   "outputs": [],
   "source": [
    "# Pivot date is found. One day after from max date so it is 2022-01-01.  \n",
    "import datetime\n",
    "NOW = datetime.datetime(2022,1,1)"
   ]
  },
  {
   "cell_type": "markdown",
   "id": "6b300675",
   "metadata": {},
   "source": [
    "There are different approaches to the choice of pivot date. One day after the last purchase date or today's date. After analysing similar studies, one day later was chosen. Because a period of one and a half years has passed since the last purchase."
   ]
  },
  {
   "cell_type": "code",
   "execution_count": 329,
   "id": "89ab626c",
   "metadata": {},
   "outputs": [],
   "source": [
    "#For RFM analysis, purchasedate format is converted from string to integer with the datetime function.\n",
    "factura_df['purchaseDate'] =  pd.to_datetime(factura_df['purchaseDate'])"
   ]
  },
  {
   "cell_type": "code",
   "execution_count": 330,
   "id": "83b5b724",
   "metadata": {},
   "outputs": [
    {
     "data": {
      "text/html": [
       "<div>\n",
       "<style scoped>\n",
       "    .dataframe tbody tr th:only-of-type {\n",
       "        vertical-align: middle;\n",
       "    }\n",
       "\n",
       "    .dataframe tbody tr th {\n",
       "        vertical-align: top;\n",
       "    }\n",
       "\n",
       "    .dataframe thead th {\n",
       "        text-align: right;\n",
       "    }\n",
       "</style>\n",
       "<table border=\"1\" class=\"dataframe\">\n",
       "  <thead>\n",
       "    <tr style=\"text-align: right;\">\n",
       "      <th></th>\n",
       "      <th>Recency</th>\n",
       "      <th>Frequency</th>\n",
       "      <th>MonetaryValue</th>\n",
       "    </tr>\n",
       "    <tr>\n",
       "      <th>customerNumber</th>\n",
       "      <th></th>\n",
       "      <th></th>\n",
       "      <th></th>\n",
       "    </tr>\n",
       "  </thead>\n",
       "  <tbody>\n",
       "    <tr>\n",
       "      <th>663</th>\n",
       "      <td>9</td>\n",
       "      <td>501</td>\n",
       "      <td>43987.00</td>\n",
       "    </tr>\n",
       "    <tr>\n",
       "      <th>189</th>\n",
       "      <td>11</td>\n",
       "      <td>417</td>\n",
       "      <td>35044.00</td>\n",
       "    </tr>\n",
       "    <tr>\n",
       "      <th>447</th>\n",
       "      <td>4</td>\n",
       "      <td>495</td>\n",
       "      <td>49246.00</td>\n",
       "    </tr>\n",
       "    <tr>\n",
       "      <th>597</th>\n",
       "      <td>3</td>\n",
       "      <td>475</td>\n",
       "      <td>37460.00</td>\n",
       "    </tr>\n",
       "    <tr>\n",
       "      <th>41</th>\n",
       "      <td>5</td>\n",
       "      <td>676</td>\n",
       "      <td>79854.00</td>\n",
       "    </tr>\n",
       "    <tr>\n",
       "      <th>373</th>\n",
       "      <td>3</td>\n",
       "      <td>437</td>\n",
       "      <td>47113.00</td>\n",
       "    </tr>\n",
       "    <tr>\n",
       "      <th>181</th>\n",
       "      <td>2</td>\n",
       "      <td>580</td>\n",
       "      <td>67596.00</td>\n",
       "    </tr>\n",
       "  </tbody>\n",
       "</table>\n",
       "</div>"
      ],
      "text/plain": [
       "                Recency  Frequency  MonetaryValue\n",
       "customerNumber                                   \n",
       "663                   9        501       43987.00\n",
       "189                  11        417       35044.00\n",
       "447                   4        495       49246.00\n",
       "597                   3        475       37460.00\n",
       "41                    5        676       79854.00\n",
       "373                   3        437       47113.00\n",
       "181                   2        580       67596.00"
      ]
     },
     "execution_count": 330,
     "metadata": {},
     "output_type": "execute_result"
    }
   ],
   "source": [
    "#Finding Recency, Frequency und Monetary Values and Creating a dataframe (rfm) for rfm analysis\n",
    "rfm = factura_df.groupby(['customerNumber']).agg({\n",
    "    'purchaseDate': lambda x: (NOW - x.max()).days,\n",
    "    'articleNumber': 'count',\n",
    "    'purchaseAmount': 'sum'})\n",
    "\n",
    "# Rename the columns \n",
    "rfm.rename(columns={'purchaseDate': 'Recency',\n",
    "                         'articleNumber': 'Frequency',\n",
    "                         'purchaseAmount': 'MonetaryValue'}, inplace=True)\n",
    "rfm.sample(7)"
   ]
  },
  {
   "cell_type": "markdown",
   "id": "14b64dbc",
   "metadata": {},
   "source": [
    "### Plot RFM Distributions"
   ]
  },
  {
   "cell_type": "code",
   "execution_count": 331,
   "id": "8bc74094",
   "metadata": {},
   "outputs": [
    {
     "data": {
      "image/png": "[encoded data removed]",
      "text/plain": [
       "<Figure size 864x576 with 1 Axes>"
      ]
     },
     "metadata": {
      "needs_background": "light"
     },
     "output_type": "display_data"
    }
   ],
   "source": [
    "# After calculating the days since last purchase, RFM distribution for recency has been drawn. Most of the purchases have taken place in the last month.\n",
    "plt.figure(figsize = (12,8))\n",
    "sns.histplot(rfm.Recency, kde=True);"
   ]
  },
  {
   "cell_type": "code",
   "execution_count": 332,
   "id": "e06c61c0",
   "metadata": {},
   "outputs": [
    {
     "data": {
      "image/png": "[encoded data removed]",
      "text/plain": [
       "<Figure size 864x576 with 1 Axes>"
      ]
     },
     "metadata": {
      "needs_background": "light"
     },
     "output_type": "display_data"
    }
   ],
   "source": [
    "#RFM distribution for monetary values has been drawn. Most of the amount of purchases have taken place between 50000-100000.\n",
    "plt.figure(figsize = (12,8))\n",
    "sns.histplot(rfm.MonetaryValue, kde=True)\n",
    "plt.xlim(0,250000);"
   ]
  },
  {
   "cell_type": "markdown",
   "id": "f8a35f15",
   "metadata": {},
   "source": [
    "### Calculating RFM Scores"
   ]
  },
  {
   "cell_type": "code",
   "execution_count": 333,
   "id": "09fae599",
   "metadata": {},
   "outputs": [],
   "source": [
    "#Creating 4 division for rfm levels\n",
    "\n",
    "r_labels = range(4, 0,-1); f_labels = range(1, 5); m_labels = range(1, 5)\n",
    "\n",
    "r_groups = pd.qcut(rfm['Recency'], q=4, labels=r_labels)\n",
    "\n",
    "f_groups = pd.qcut(rfm['Frequency'], q=4, labels=f_labels)\n",
    "\n",
    "m_groups = pd.qcut(rfm['MonetaryValue'], q=4, labels=m_labels)\n",
    "\n",
    "rfm = rfm.assign(R=r_groups.values, F=f_groups.values, M=m_groups.values)\n",
    "\n",
    "rfm['RFM_Score'] = rfm[['R','F','M']].sum(axis=1)"
   ]
  },
  {
   "cell_type": "markdown",
   "id": "320aa160",
   "metadata": {},
   "source": [
    "We divide the customer segment into 4 groups. We want to analyse these four groups. In this context, R, F and M scores are found and RFM score is calculated from their sum."
   ]
  },
  {
   "cell_type": "code",
   "execution_count": 334,
   "id": "20bcbb49",
   "metadata": {},
   "outputs": [
    {
     "data": {
      "text/html": [
       "<div>\n",
       "<style scoped>\n",
       "    .dataframe tbody tr th:only-of-type {\n",
       "        vertical-align: middle;\n",
       "    }\n",
       "\n",
       "    .dataframe tbody tr th {\n",
       "        vertical-align: top;\n",
       "    }\n",
       "\n",
       "    .dataframe thead th {\n",
       "        text-align: right;\n",
       "    }\n",
       "</style>\n",
       "<table border=\"1\" class=\"dataframe\">\n",
       "  <thead>\n",
       "    <tr style=\"text-align: right;\">\n",
       "      <th></th>\n",
       "      <th>Recency</th>\n",
       "      <th>Frequency</th>\n",
       "      <th>MonetaryValue</th>\n",
       "      <th>R</th>\n",
       "      <th>F</th>\n",
       "      <th>M</th>\n",
       "      <th>RFM_Score</th>\n",
       "    </tr>\n",
       "    <tr>\n",
       "      <th>customerNumber</th>\n",
       "      <th></th>\n",
       "      <th></th>\n",
       "      <th></th>\n",
       "      <th></th>\n",
       "      <th></th>\n",
       "      <th></th>\n",
       "      <th></th>\n",
       "    </tr>\n",
       "  </thead>\n",
       "  <tbody>\n",
       "    <tr>\n",
       "      <th>1</th>\n",
       "      <td>3</td>\n",
       "      <td>465</td>\n",
       "      <td>162812.00</td>\n",
       "      <td>3</td>\n",
       "      <td>1</td>\n",
       "      <td>4</td>\n",
       "      <td>8</td>\n",
       "    </tr>\n",
       "    <tr>\n",
       "      <th>2</th>\n",
       "      <td>3</td>\n",
       "      <td>425</td>\n",
       "      <td>33578.00</td>\n",
       "      <td>3</td>\n",
       "      <td>1</td>\n",
       "      <td>1</td>\n",
       "      <td>5</td>\n",
       "    </tr>\n",
       "    <tr>\n",
       "      <th>3</th>\n",
       "      <td>11</td>\n",
       "      <td>1351</td>\n",
       "      <td>178882.00</td>\n",
       "      <td>1</td>\n",
       "      <td>4</td>\n",
       "      <td>4</td>\n",
       "      <td>9</td>\n",
       "    </tr>\n",
       "    <tr>\n",
       "      <th>4</th>\n",
       "      <td>2</td>\n",
       "      <td>423</td>\n",
       "      <td>72461.00</td>\n",
       "      <td>4</td>\n",
       "      <td>1</td>\n",
       "      <td>3</td>\n",
       "      <td>8</td>\n",
       "    </tr>\n",
       "    <tr>\n",
       "      <th>5</th>\n",
       "      <td>11</td>\n",
       "      <td>436</td>\n",
       "      <td>38888.00</td>\n",
       "      <td>1</td>\n",
       "      <td>1</td>\n",
       "      <td>1</td>\n",
       "      <td>3</td>\n",
       "    </tr>\n",
       "  </tbody>\n",
       "</table>\n",
       "</div>"
      ],
      "text/plain": [
       "                Recency  Frequency  MonetaryValue  R  F  M  RFM_Score\n",
       "customerNumber                                                       \n",
       "1                     3        465      162812.00  3  1  4          8\n",
       "2                     3        425       33578.00  3  1  1          5\n",
       "3                    11       1351      178882.00  1  4  4          9\n",
       "4                     2        423       72461.00  4  1  3          8\n",
       "5                    11        436       38888.00  1  1  1          3"
      ]
     },
     "execution_count": 334,
     "metadata": {},
     "output_type": "execute_result"
    }
   ],
   "source": [
    "rfm.head(5)"
   ]
  },
  {
   "cell_type": "code",
   "execution_count": 335,
   "id": "f3ee7e4a",
   "metadata": {},
   "outputs": [
    {
     "data": {
      "text/html": [
       "<div>\n",
       "<style scoped>\n",
       "    .dataframe tbody tr th:only-of-type {\n",
       "        vertical-align: middle;\n",
       "    }\n",
       "\n",
       "    .dataframe tbody tr th {\n",
       "        vertical-align: top;\n",
       "    }\n",
       "\n",
       "    .dataframe thead th {\n",
       "        text-align: right;\n",
       "    }\n",
       "</style>\n",
       "<table border=\"1\" class=\"dataframe\">\n",
       "  <thead>\n",
       "    <tr style=\"text-align: right;\">\n",
       "      <th></th>\n",
       "      <th>Recency</th>\n",
       "      <th>Frequency</th>\n",
       "      <th>MonetaryValue</th>\n",
       "      <th>R</th>\n",
       "      <th>F</th>\n",
       "      <th>M</th>\n",
       "      <th>RFM_Score</th>\n",
       "      <th>RFM_Level</th>\n",
       "    </tr>\n",
       "    <tr>\n",
       "      <th>customerNumber</th>\n",
       "      <th></th>\n",
       "      <th></th>\n",
       "      <th></th>\n",
       "      <th></th>\n",
       "      <th></th>\n",
       "      <th></th>\n",
       "      <th></th>\n",
       "      <th></th>\n",
       "    </tr>\n",
       "  </thead>\n",
       "  <tbody>\n",
       "    <tr>\n",
       "      <th>369</th>\n",
       "      <td>2</td>\n",
       "      <td>419</td>\n",
       "      <td>31470.00</td>\n",
       "      <td>4</td>\n",
       "      <td>1</td>\n",
       "      <td>1</td>\n",
       "      <td>6</td>\n",
       "      <td>Almost Lost Customer</td>\n",
       "    </tr>\n",
       "    <tr>\n",
       "      <th>762</th>\n",
       "      <td>5</td>\n",
       "      <td>604</td>\n",
       "      <td>91046.00</td>\n",
       "      <td>2</td>\n",
       "      <td>3</td>\n",
       "      <td>3</td>\n",
       "      <td>8</td>\n",
       "      <td>Middle Class Customer</td>\n",
       "    </tr>\n",
       "    <tr>\n",
       "      <th>940</th>\n",
       "      <td>4</td>\n",
       "      <td>718</td>\n",
       "      <td>57626.00</td>\n",
       "      <td>3</td>\n",
       "      <td>3</td>\n",
       "      <td>2</td>\n",
       "      <td>8</td>\n",
       "      <td>Middle Class Customer</td>\n",
       "    </tr>\n",
       "    <tr>\n",
       "      <th>523</th>\n",
       "      <td>2</td>\n",
       "      <td>784</td>\n",
       "      <td>245589.00</td>\n",
       "      <td>4</td>\n",
       "      <td>4</td>\n",
       "      <td>4</td>\n",
       "      <td>12</td>\n",
       "      <td>Top Class Customer</td>\n",
       "    </tr>\n",
       "    <tr>\n",
       "      <th>819</th>\n",
       "      <td>3</td>\n",
       "      <td>528</td>\n",
       "      <td>47194.00</td>\n",
       "      <td>3</td>\n",
       "      <td>2</td>\n",
       "      <td>1</td>\n",
       "      <td>6</td>\n",
       "      <td>Almost Lost Customer</td>\n",
       "    </tr>\n",
       "  </tbody>\n",
       "</table>\n",
       "</div>"
      ],
      "text/plain": [
       "                Recency  Frequency  MonetaryValue  R  F  M  RFM_Score  \\\n",
       "customerNumber                                                          \n",
       "369                   2        419       31470.00  4  1  1          6   \n",
       "762                   5        604       91046.00  2  3  3          8   \n",
       "940                   4        718       57626.00  3  3  2          8   \n",
       "523                   2        784      245589.00  4  4  4         12   \n",
       "819                   3        528       47194.00  3  2  1          6   \n",
       "\n",
       "                            RFM_Level  \n",
       "customerNumber                         \n",
       "369              Almost Lost Customer  \n",
       "762             Middle Class Customer  \n",
       "940             Middle Class Customer  \n",
       "523                Top Class Customer  \n",
       "819              Almost Lost Customer  "
      ]
     },
     "execution_count": 335,
     "metadata": {},
     "output_type": "execute_result"
    }
   ],
   "source": [
    "#RFM score data segment is divided into 4 groups. 'Almost Lost Customer', 'Middle Class Customer', 'Loyal Customer', 'Top Class Customer' labels are assigned to the groups.\n",
    "score_labels = ['Almost Lost Customer', 'Middle Class Customer', 'Loyal Customer', \"Top Class Customer\"]\n",
    "score_groups = pd.qcut(rfm.RFM_Score, q = 4, labels = score_labels)\n",
    "rfm['RFM_Level'] = score_groups.values\n",
    "\n",
    "rfm.sample(5)"
   ]
  },
  {
   "cell_type": "markdown",
   "id": "f321cd57",
   "metadata": {},
   "source": [
    "As seen above, each customer receives R, F and M values. A customer with 4 points from each of them is Top Class.\n",
    "- RFM score, which is the sum of R, F and M scores, was used in this evaluation. There are studies using classification techniques using only R and F scores. There are techniques that average this value or write it side by side (such as 111, 424). "
   ]
  },
  {
   "cell_type": "code",
   "execution_count": 336,
   "id": "f0886a43",
   "metadata": {},
   "outputs": [
    {
     "name": "stdout",
     "output_type": "stream",
     "text": [
      "                      Recency Frequency MonetaryValue      \n",
      "                         mean      mean          mean count\n",
      "RFM_Level                                                  \n",
      "Almost Lost Customer     9.80    476.60      50643.70   322\n",
      "Middle Class Customer    4.90    580.60      71787.90   279\n",
      "Loyal Customer           4.10    802.90     107579.40   257\n",
      "Top Class Customer       2.00   1388.50     170663.80   142\n"
     ]
    }
   ],
   "source": [
    "#The mean and counts of R, F and M scores according to RFM levels were analysed.\n",
    "rfm_level_agg = rfm.groupby('RFM_Level').agg({\n",
    "    'Recency': 'mean',\n",
    "    'Frequency': 'mean',\n",
    "    'MonetaryValue': ['mean', 'count']}).round(1)\n",
    "print(rfm_level_agg)"
   ]
  },
  {
   "cell_type": "markdown",
   "id": "cf142b08",
   "metadata": {},
   "source": [
    "### Plot RFM Segments"
   ]
  },
  {
   "cell_type": "code",
   "execution_count": 337,
   "id": "30bbb8b3",
   "metadata": {},
   "outputs": [
    {
     "data": {
      "image/png": "[encoded data removed]",
      "text/plain": [
       "<Figure size 720x432 with 1 Axes>"
      ]
     },
     "metadata": {
      "needs_background": "light"
     },
     "output_type": "display_data"
    }
   ],
   "source": [
    "plt.figure(figsize = (10,6))\n",
    "sns.countplot(x= 'RFM_Score', data = rfm);"
   ]
  },
  {
   "cell_type": "markdown",
   "id": "80189da4",
   "metadata": {},
   "source": [
    "This graph shows how many customers get how many points. The highest number of customers scored 8 points."
   ]
  },
  {
   "cell_type": "code",
   "execution_count": 338,
   "id": "d2778084",
   "metadata": {},
   "outputs": [
    {
     "data": {
      "image/png": "[encoded data removed]",
      "text/plain": [
       "<Figure size 720x432 with 1 Axes>"
      ]
     },
     "metadata": {
      "needs_background": "light"
     },
     "output_type": "display_data"
    }
   ],
   "source": [
    "plt.figure(figsize = (10,6))\n",
    "sns.countplot(x= 'RFM_Level', data = rfm);"
   ]
  },
  {
   "cell_type": "markdown",
   "id": "1fceffb1",
   "metadata": {},
   "source": [
    "After RFM Analysing, this graph shows us the number of customers according to RFM level. The high number of customers (Almost Lost) that can be lost is noticeable. It is critical to develop a strategy for this."
   ]
  },
  {
   "cell_type": "markdown",
   "id": "a46c6d11",
   "metadata": {},
   "source": [
    "# 3. Applying K-Means Clustering"
   ]
  },
  {
   "cell_type": "markdown",
   "id": "670b4848",
   "metadata": {},
   "source": [
    "Now that we have our customers segmented into 4 different categories, we can gain further insight into customer behavior by using predictive models in conjuction with out RFM model.\n",
    "Possible algorithms include **Logistic Regression**, **K-means Clustering**, and **K-nearest Neighbor**. We will go with [K-Means](https://towardsdatascience.com/understanding-k-means-clustering-in-machine-learning-6a6e67336aa1) since we already have our distinct groups determined. K-means has also been widely used for market segmentation and has the advantage of being simple to implement."
   ]
  },
  {
   "cell_type": "code",
   "execution_count": 339,
   "id": "672e53d3",
   "metadata": {},
   "outputs": [
    {
     "data": {
      "text/html": [
       "<div>\n",
       "<style scoped>\n",
       "    .dataframe tbody tr th:only-of-type {\n",
       "        vertical-align: middle;\n",
       "    }\n",
       "\n",
       "    .dataframe tbody tr th {\n",
       "        vertical-align: top;\n",
       "    }\n",
       "\n",
       "    .dataframe thead th {\n",
       "        text-align: right;\n",
       "    }\n",
       "</style>\n",
       "<table border=\"1\" class=\"dataframe\">\n",
       "  <thead>\n",
       "    <tr style=\"text-align: right;\">\n",
       "      <th></th>\n",
       "      <th>Recency</th>\n",
       "      <th>Frequency</th>\n",
       "      <th>MonetaryValue</th>\n",
       "    </tr>\n",
       "    <tr>\n",
       "      <th>customerNumber</th>\n",
       "      <th></th>\n",
       "      <th></th>\n",
       "      <th></th>\n",
       "    </tr>\n",
       "  </thead>\n",
       "  <tbody>\n",
       "    <tr>\n",
       "      <th>320</th>\n",
       "      <td>12</td>\n",
       "      <td>583</td>\n",
       "      <td>64490.00</td>\n",
       "    </tr>\n",
       "    <tr>\n",
       "      <th>27</th>\n",
       "      <td>2</td>\n",
       "      <td>635</td>\n",
       "      <td>60535.00</td>\n",
       "    </tr>\n",
       "    <tr>\n",
       "      <th>77</th>\n",
       "      <td>12</td>\n",
       "      <td>432</td>\n",
       "      <td>84803.00</td>\n",
       "    </tr>\n",
       "    <tr>\n",
       "      <th>743</th>\n",
       "      <td>12</td>\n",
       "      <td>1038</td>\n",
       "      <td>94340.00</td>\n",
       "    </tr>\n",
       "    <tr>\n",
       "      <th>396</th>\n",
       "      <td>4</td>\n",
       "      <td>437</td>\n",
       "      <td>30296.00</td>\n",
       "    </tr>\n",
       "  </tbody>\n",
       "</table>\n",
       "</div>"
      ],
      "text/plain": [
       "                Recency  Frequency  MonetaryValue\n",
       "customerNumber                                   \n",
       "320                  12        583       64490.00\n",
       "27                    2        635       60535.00\n",
       "77                   12        432       84803.00\n",
       "743                  12       1038       94340.00\n",
       "396                   4        437       30296.00"
      ]
     },
     "execution_count": 339,
     "metadata": {},
     "output_type": "execute_result"
    }
   ],
   "source": [
    "# A new data frame is created with only R, F and M columns of the RFM data frame.\n",
    "rfm_df=rfm.loc[:,[\"Recency\" , \"Frequency\", \"MonetaryValue\"]]\n",
    "rfm_df.sample(5)"
   ]
  },
  {
   "cell_type": "code",
   "execution_count": 340,
   "id": "0898881f",
   "metadata": {},
   "outputs": [
    {
     "data": {
      "image/png": "[encoded data removed]",
      "text/plain": [
       "<Figure size 504x360 with 2 Axes>"
      ]
     },
     "metadata": {
      "needs_background": "light"
     },
     "output_type": "display_data"
    }
   ],
   "source": [
    "# Here the correlation matrix with heatmap was analysed.\n",
    "plt.figure(figsize = (7,5))\n",
    "sns.heatmap(rfm_df.corr(), annot = True);"
   ]
  },
  {
   "cell_type": "markdown",
   "id": "a0b5dbe0",
   "metadata": {},
   "source": [
    "A correlation coefficient of +0.92 means that there is a strong positive correlation between Frequency and MonetaryValue. There is weak negative correlation between Recency and Frequency / MonetaryValue."
   ]
  },
  {
   "cell_type": "code",
   "execution_count": 341,
   "id": "017659dc",
   "metadata": {},
   "outputs": [
    {
     "name": "stderr",
     "output_type": "stream",
     "text": [
      "C:\\Users\\Taner\\anaconda3\\lib\\site-packages\\seaborn\\distributions.py:2557: FutureWarning: `distplot` is a deprecated function and will be removed in a future version. Please adapt your code to use either `displot` (a figure-level function with similar flexibility) or `histplot` (an axes-level function for histograms).\n",
      "  warnings.warn(msg, FutureWarning)\n",
      "C:\\Users\\Taner\\anaconda3\\lib\\site-packages\\seaborn\\distributions.py:2557: FutureWarning: `distplot` is a deprecated function and will be removed in a future version. Please adapt your code to use either `displot` (a figure-level function with similar flexibility) or `histplot` (an axes-level function for histograms).\n",
      "  warnings.warn(msg, FutureWarning)\n",
      "C:\\Users\\Taner\\anaconda3\\lib\\site-packages\\seaborn\\distributions.py:2557: FutureWarning: `distplot` is a deprecated function and will be removed in a future version. Please adapt your code to use either `displot` (a figure-level function with similar flexibility) or `histplot` (an axes-level function for histograms).\n",
      "  warnings.warn(msg, FutureWarning)\n"
     ]
    },
    {
     "data": {
      "image/png": "[encoded data removed]",
      "text/plain": [
       "<Figure size 720x432 with 3 Axes>"
      ]
     },
     "metadata": {
      "needs_background": "light"
     },
     "output_type": "display_data"
    }
   ],
   "source": [
    "#The general distribution is drawn with distplot.\n",
    "plt.figure(figsize=(10,6))\n",
    "plt.subplot(3, 1, 1); sns.distplot(rfm_df.Recency)\n",
    "plt.subplot(3, 1, 2); sns.distplot(rfm_df.Frequency)\n",
    "plt.subplot(3, 1, 3); sns.distplot(rfm_df.MonetaryValue)\n",
    "plt.show()"
   ]
  },
  {
   "cell_type": "markdown",
   "id": "9d7e4767",
   "metadata": {},
   "source": [
    "Distribution of Recency, Frequency and Monetary; they are all right skewed."
   ]
  },
  {
   "cell_type": "markdown",
   "id": "16baac11",
   "metadata": {},
   "source": [
    "## Using the logarithm method to normalize the values in a column."
   ]
  },
  {
   "cell_type": "markdown",
   "id": "48e537aa",
   "metadata": {},
   "source": [
    "A Shapiro test is performed to see if the data set is normally distributed. p value is checked. If p value > 0.05, the data is normally distributed. "
   ]
  },
  {
   "cell_type": "code",
   "execution_count": 342,
   "id": "1936f23b",
   "metadata": {},
   "outputs": [],
   "source": [
    "a = list(rfm_df[\"Recency\"])"
   ]
  },
  {
   "cell_type": "code",
   "execution_count": 343,
   "id": "905b1e5e",
   "metadata": {},
   "outputs": [
    {
     "data": {
      "text/plain": [
       "ShapiroResult(statistic=0.5125426650047302, pvalue=0.0)"
      ]
     },
     "execution_count": 343,
     "metadata": {},
     "output_type": "execute_result"
    }
   ],
   "source": [
    "shapiro_test_r = stats.shapiro(a)\n",
    "shapiro_test_r"
   ]
  },
  {
   "cell_type": "code",
   "execution_count": 261,
   "id": "3085224a",
   "metadata": {},
   "outputs": [],
   "source": [
    "b = list(rfm_df[\"Frequency\"])"
   ]
  },
  {
   "cell_type": "code",
   "execution_count": 262,
   "id": "18b4e183",
   "metadata": {},
   "outputs": [
    {
     "data": {
      "text/plain": [
       "ShapiroResult(statistic=0.16990190744400024, pvalue=0.0)"
      ]
     },
     "execution_count": 262,
     "metadata": {},
     "output_type": "execute_result"
    }
   ],
   "source": [
    "shapiro_test_f = stats.shapiro(b)\n",
    "shapiro_test_f"
   ]
  },
  {
   "cell_type": "code",
   "execution_count": 263,
   "id": "819ba2b8",
   "metadata": {},
   "outputs": [],
   "source": [
    "c = list(rfm_df[\"MonetaryValue\"])"
   ]
  },
  {
   "cell_type": "code",
   "execution_count": 264,
   "id": "a9bb6943",
   "metadata": {},
   "outputs": [
    {
     "data": {
      "text/plain": [
       "ShapiroResult(statistic=0.33967071771621704, pvalue=0.0)"
      ]
     },
     "execution_count": 264,
     "metadata": {},
     "output_type": "execute_result"
    }
   ],
   "source": [
    "shapiro_test_m = stats.shapiro(c)\n",
    "shapiro_test_m"
   ]
  },
  {
   "cell_type": "markdown",
   "id": "910c7a92",
   "metadata": {},
   "source": [
    "Data is normally distributed if the significance in these tests is p > 0.05. pvalue: 0.0 < 0.05 so distribution of data for Recency, Frequency and Monetary are not normally distributed. "
   ]
  },
  {
   "cell_type": "markdown",
   "id": "7c02a24f",
   "metadata": {},
   "source": [
    "Logarithm transformation can be used to convert the data set into a normal distribution."
   ]
  },
  {
   "cell_type": "code",
   "execution_count": 344,
   "id": "153f8309",
   "metadata": {},
   "outputs": [],
   "source": [
    "# 1 is added to prevent null data in the new data set.\n",
    "rfm_log = np.log(rfm_df+1)"
   ]
  },
  {
   "cell_type": "code",
   "execution_count": 345,
   "id": "47aeb0ad",
   "metadata": {},
   "outputs": [],
   "source": [
    "# Logarithmic transformation was applied to the data set.\n",
    "from sklearn.preprocessing import StandardScaler\n",
    "scaler = StandardScaler()\n",
    "scaler.fit(rfm_log)\n",
    "\n",
    "rfm_normalized = scaler.transform(rfm_log)\n",
    "\n",
    "rfm_normalized = pd.DataFrame(data=rfm_normalized, index=rfm_df.index, columns=rfm_df.columns)"
   ]
  },
  {
   "cell_type": "code",
   "execution_count": 346,
   "id": "fdd7ee93",
   "metadata": {},
   "outputs": [
    {
     "data": {
      "text/html": [
       "<div>\n",
       "<style scoped>\n",
       "    .dataframe tbody tr th:only-of-type {\n",
       "        vertical-align: middle;\n",
       "    }\n",
       "\n",
       "    .dataframe tbody tr th {\n",
       "        vertical-align: top;\n",
       "    }\n",
       "\n",
       "    .dataframe thead th {\n",
       "        text-align: right;\n",
       "    }\n",
       "</style>\n",
       "<table border=\"1\" class=\"dataframe\">\n",
       "  <thead>\n",
       "    <tr style=\"text-align: right;\">\n",
       "      <th></th>\n",
       "      <th>Recency</th>\n",
       "      <th>Frequency</th>\n",
       "      <th>MonetaryValue</th>\n",
       "    </tr>\n",
       "    <tr>\n",
       "      <th>customerNumber</th>\n",
       "      <th></th>\n",
       "      <th></th>\n",
       "      <th></th>\n",
       "    </tr>\n",
       "  </thead>\n",
       "  <tbody>\n",
       "    <tr>\n",
       "      <th>979</th>\n",
       "      <td>1.09</td>\n",
       "      <td>2.62</td>\n",
       "      <td>2.79</td>\n",
       "    </tr>\n",
       "    <tr>\n",
       "      <th>536</th>\n",
       "      <td>0.23</td>\n",
       "      <td>1.01</td>\n",
       "      <td>1.15</td>\n",
       "    </tr>\n",
       "    <tr>\n",
       "      <th>839</th>\n",
       "      <td>-0.03</td>\n",
       "      <td>-0.44</td>\n",
       "      <td>-0.59</td>\n",
       "    </tr>\n",
       "    <tr>\n",
       "      <th>950</th>\n",
       "      <td>0.96</td>\n",
       "      <td>1.72</td>\n",
       "      <td>2.31</td>\n",
       "    </tr>\n",
       "    <tr>\n",
       "      <th>54</th>\n",
       "      <td>-0.75</td>\n",
       "      <td>-0.27</td>\n",
       "      <td>-0.54</td>\n",
       "    </tr>\n",
       "  </tbody>\n",
       "</table>\n",
       "</div>"
      ],
      "text/plain": [
       "                Recency  Frequency  MonetaryValue\n",
       "customerNumber                                   \n",
       "979                1.09       2.62           2.79\n",
       "536                0.23       1.01           1.15\n",
       "839               -0.03      -0.44          -0.59\n",
       "950                0.96       1.72           2.31\n",
       "54                -0.75      -0.27          -0.54"
      ]
     },
     "execution_count": 346,
     "metadata": {},
     "output_type": "execute_result"
    }
   ],
   "source": [
    "rfm_normalized.sample(5)"
   ]
  },
  {
   "cell_type": "code",
   "execution_count": 347,
   "id": "8ed453a0",
   "metadata": {},
   "outputs": [],
   "source": [
    "rfm_normalized2=rfm_normalized.copy()"
   ]
  },
  {
   "cell_type": "code",
   "execution_count": 348,
   "id": "1cd34790",
   "metadata": {},
   "outputs": [
    {
     "data": {
      "text/html": [
       "<div>\n",
       "<style scoped>\n",
       "    .dataframe tbody tr th:only-of-type {\n",
       "        vertical-align: middle;\n",
       "    }\n",
       "\n",
       "    .dataframe tbody tr th {\n",
       "        vertical-align: top;\n",
       "    }\n",
       "\n",
       "    .dataframe thead th {\n",
       "        text-align: right;\n",
       "    }\n",
       "</style>\n",
       "<table border=\"1\" class=\"dataframe\">\n",
       "  <thead>\n",
       "    <tr style=\"text-align: right;\">\n",
       "      <th></th>\n",
       "      <th>Recency</th>\n",
       "      <th>Frequency</th>\n",
       "      <th>MonetaryValue</th>\n",
       "    </tr>\n",
       "  </thead>\n",
       "  <tbody>\n",
       "    <tr>\n",
       "      <th>mean</th>\n",
       "      <td>0.00</td>\n",
       "      <td>0.00</td>\n",
       "      <td>0.00</td>\n",
       "    </tr>\n",
       "    <tr>\n",
       "      <th>std</th>\n",
       "      <td>1.00</td>\n",
       "      <td>1.00</td>\n",
       "      <td>1.00</td>\n",
       "    </tr>\n",
       "  </tbody>\n",
       "</table>\n",
       "</div>"
      ],
      "text/plain": [
       "      Recency  Frequency  MonetaryValue\n",
       "mean     0.00       0.00           0.00\n",
       "std      1.00       1.00           1.00"
      ]
     },
     "execution_count": 348,
     "metadata": {},
     "output_type": "execute_result"
    }
   ],
   "source": [
    "rfm_normalized.agg([\"mean\", \"std\"]).round()"
   ]
  },
  {
   "cell_type": "markdown",
   "id": "4c6f010b",
   "metadata": {},
   "source": [
    "In a standard normal distribution, mean equals 0 and std equals 1. "
   ]
  },
  {
   "cell_type": "code",
   "execution_count": 349,
   "id": "909aa7e9",
   "metadata": {},
   "outputs": [
    {
     "name": "stderr",
     "output_type": "stream",
     "text": [
      "C:\\Users\\Taner\\anaconda3\\lib\\site-packages\\seaborn\\distributions.py:2557: FutureWarning: `distplot` is a deprecated function and will be removed in a future version. Please adapt your code to use either `displot` (a figure-level function with similar flexibility) or `histplot` (an axes-level function for histograms).\n",
      "  warnings.warn(msg, FutureWarning)\n",
      "C:\\Users\\Taner\\anaconda3\\lib\\site-packages\\seaborn\\distributions.py:2557: FutureWarning: `distplot` is a deprecated function and will be removed in a future version. Please adapt your code to use either `displot` (a figure-level function with similar flexibility) or `histplot` (an axes-level function for histograms).\n",
      "  warnings.warn(msg, FutureWarning)\n",
      "C:\\Users\\Taner\\anaconda3\\lib\\site-packages\\seaborn\\distributions.py:2557: FutureWarning: `distplot` is a deprecated function and will be removed in a future version. Please adapt your code to use either `displot` (a figure-level function with similar flexibility) or `histplot` (an axes-level function for histograms).\n",
      "  warnings.warn(msg, FutureWarning)\n"
     ]
    },
    {
     "data": {
      "image/png": "[encoded data removed]",
      "text/plain": [
       "<Figure size 720x432 with 3 Axes>"
      ]
     },
     "metadata": {
      "needs_background": "light"
     },
     "output_type": "display_data"
    }
   ],
   "source": [
    "plt.figure(figsize=(10,6))\n",
    "plt.subplot(3, 1, 1); sns.distplot(rfm_normalized.Recency)\n",
    "plt.subplot(3, 1, 2); sns.distplot(rfm_normalized.Frequency)\n",
    "plt.subplot(3, 1, 3); sns.distplot(rfm_normalized.MonetaryValue)\n",
    "plt.show()"
   ]
  },
  {
   "cell_type": "code",
   "execution_count": 350,
   "id": "e78f507d",
   "metadata": {},
   "outputs": [
    {
     "data": {
      "text/plain": [
       "<Figure size 720x504 with 0 Axes>"
      ]
     },
     "metadata": {},
     "output_type": "display_data"
    },
    {
     "data": {
      "image/png": "[encoded data removed]",
      "text/plain": [
       "<Figure size 540x540 with 12 Axes>"
      ]
     },
     "metadata": {
      "needs_background": "light"
     },
     "output_type": "display_data"
    }
   ],
   "source": [
    "# Here Scatter and histograms were observed with pairplot. Histograms were checked to be close to normal distribution.\n",
    "plt.figure(figsize = (10,7))\n",
    "sns.pairplot(rfm_normalized);"
   ]
  },
  {
   "cell_type": "markdown",
   "id": "b4cbfcf2",
   "metadata": {},
   "source": [
    "## K-Means Implementation"
   ]
  },
  {
   "cell_type": "markdown",
   "id": "25ee7fbb",
   "metadata": {},
   "source": [
    "For k-means, you have to set k to the number of clusters you want, but figuring out how many clusters is not obvious from the beginning. We will try different cluster numbers and check their silhouette coefficient. The silhouette coefficient for a data point measures how similar it is to its assigned cluster from -1 (dissimilar) to 1 (similar).\n",
    "\n",
    "Note: K-means is sensitive to initializations because they are critical to qualifty of optima found. Thus, we will use smart initialization called \"Elbow Method\"."
   ]
  },
  {
   "cell_type": "markdown",
   "id": "e4f6515a",
   "metadata": {},
   "source": [
    "### Define the Optimal Number of Clusters"
   ]
  },
  {
   "cell_type": "code",
   "execution_count": 351,
   "id": "582826d7",
   "metadata": {},
   "outputs": [
    {
     "data": {
      "text/plain": [
       "0.05390763084009916"
      ]
     },
     "execution_count": 351,
     "metadata": {},
     "output_type": "execute_result"
    }
   ],
   "source": [
    "# Hopkins a statistical test have made.\n",
    "hopkins(rfm_normalized, rfm_normalized.shape[0])"
   ]
  },
  {
   "cell_type": "markdown",
   "id": "81278c89",
   "metadata": {},
   "source": [
    "- Hopkins test, a statistical test for randomness of a variable. In order to make a cluster, the data must be randomly distributed.\n",
    "- The more close 0, the more available to seperate clusters. 0.5 value can be as threshold. (0.052 < 0.5) Therefore data set can be can be clustered."
   ]
  },
  {
   "cell_type": "code",
   "execution_count": 352,
   "id": "13cef358",
   "metadata": {},
   "outputs": [
    {
     "data": {
      "text/html": [
       "<div>\n",
       "<style scoped>\n",
       "    .dataframe tbody tr th:only-of-type {\n",
       "        vertical-align: middle;\n",
       "    }\n",
       "\n",
       "    .dataframe tbody tr th {\n",
       "        vertical-align: top;\n",
       "    }\n",
       "\n",
       "    .dataframe thead th {\n",
       "        text-align: right;\n",
       "    }\n",
       "</style>\n",
       "<table border=\"1\" class=\"dataframe\">\n",
       "  <thead>\n",
       "    <tr style=\"text-align: right;\">\n",
       "      <th></th>\n",
       "      <th>Recency</th>\n",
       "      <th>Frequency</th>\n",
       "      <th>MonetaryValue</th>\n",
       "    </tr>\n",
       "    <tr>\n",
       "      <th>customerNumber</th>\n",
       "      <th></th>\n",
       "      <th></th>\n",
       "      <th></th>\n",
       "    </tr>\n",
       "  </thead>\n",
       "  <tbody>\n",
       "    <tr>\n",
       "      <th>1</th>\n",
       "      <td>-0.34</td>\n",
       "      <td>-0.77</td>\n",
       "      <td>1.47</td>\n",
       "    </tr>\n",
       "    <tr>\n",
       "      <th>2</th>\n",
       "      <td>-0.34</td>\n",
       "      <td>-0.99</td>\n",
       "      <td>-1.47</td>\n",
       "    </tr>\n",
       "    <tr>\n",
       "      <th>3</th>\n",
       "      <td>1.21</td>\n",
       "      <td>1.86</td>\n",
       "      <td>1.64</td>\n",
       "    </tr>\n",
       "    <tr>\n",
       "      <th>4</th>\n",
       "      <td>-0.75</td>\n",
       "      <td>-1.01</td>\n",
       "      <td>-0.04</td>\n",
       "    </tr>\n",
       "    <tr>\n",
       "      <th>5</th>\n",
       "      <td>1.21</td>\n",
       "      <td>-0.93</td>\n",
       "      <td>-1.20</td>\n",
       "    </tr>\n",
       "  </tbody>\n",
       "</table>\n",
       "</div>"
      ],
      "text/plain": [
       "                Recency  Frequency  MonetaryValue\n",
       "customerNumber                                   \n",
       "1                 -0.34      -0.77           1.47\n",
       "2                 -0.34      -0.99          -1.47\n",
       "3                  1.21       1.86           1.64\n",
       "4                 -0.75      -1.01          -0.04\n",
       "5                  1.21      -0.93          -1.20"
      ]
     },
     "execution_count": 352,
     "metadata": {},
     "output_type": "execute_result"
    }
   ],
   "source": [
    "rfm_normalized.head()"
   ]
  },
  {
   "cell_type": "code",
   "execution_count": 353,
   "id": "7a704cb5",
   "metadata": {},
   "outputs": [
    {
     "name": "stderr",
     "output_type": "stream",
     "text": [
      "C:\\Users\\Taner\\anaconda3\\lib\\site-packages\\sklearn\\cluster\\_kmeans.py:881: UserWarning: KMeans is known to have a memory leak on Windows with MKL, when there are less chunks than available threads. You can avoid it by setting the environment variable OMP_NUM_THREADS=4.\n",
      "  warnings.warn(\n"
     ]
    }
   ],
   "source": [
    "# In order to use the Elbow method, the number of clusters from 1 to 15 for loops were tried by fitting k-means.\n",
    "from sklearn.cluster import KMeans\n",
    "sse={}\n",
    "for k in range(1,15):\n",
    "    kmeans = KMeans(n_clusters=k, random_state=101)\n",
    "    kmeans.fit(rfm_normalized)\n",
    "    sse[k] = kmeans.inertia_"
   ]
  },
  {
   "cell_type": "code",
   "execution_count": 354,
   "id": "6a8cc0cd",
   "metadata": {},
   "outputs": [
    {
     "data": {
      "image/png": "[encoded data removed]",
      "text/plain": [
       "<Figure size 864x576 with 1 Axes>"
      ]
     },
     "metadata": {
      "needs_background": "light"
     },
     "output_type": "display_data"
    }
   ],
   "source": [
    "# Elbow method is used to decide the optimum number of clusters.\n",
    "plt.figure(figsize=(12,8))\n",
    "plt.title('The Elbow Method')\n",
    "plt.xlabel('k')\n",
    "plt.ylabel('SSE')\n",
    "sns.pointplot(x=list(sse.keys()), y=list(sse.values()))\n",
    "sns.set_style(\"darkgrid\")\n",
    "plt.show()"
   ]
  },
  {
   "cell_type": "markdown",
   "id": "4ff94405",
   "metadata": {},
   "source": [
    "- Elbow method; the sum of the squares of the distances of the points to the cluster centre according to each K value is calculated. According to these values, a graph is drawn for each K value. The elbow point on the graph where the difference between the sums starts to decrease is determined as the most appropriate K value. \n",
    "From the graph above, it is evaluated that k can be 3 and 4. "
   ]
  },
  {
   "cell_type": "markdown",
   "id": "e5ae21c4",
   "metadata": {},
   "source": [
    "### Yellowbrick Method"
   ]
  },
  {
   "cell_type": "code",
   "execution_count": 355,
   "id": "2e6cab83",
   "metadata": {},
   "outputs": [
    {
     "data": {
      "image/png": "[encoded data removed]",
      "text/plain": [
       "<Figure size 432x288 with 2 Axes>"
      ]
     },
     "metadata": {},
     "output_type": "display_data"
    }
   ],
   "source": [
    "# The yellowbrick method was also used to ensure the optimum k value. \n",
    "from yellowbrick.cluster import KElbowVisualizer\n",
    "kmeans = KMeans()\n",
    "visu = KElbowVisualizer(kmeans, k = (2, 9))\n",
    "visu.fit(rfm_normalized)\n",
    "visu.show();"
   ]
  },
  {
   "cell_type": "markdown",
   "id": "aeded369",
   "metadata": {},
   "source": [
    "After applying the yellowbrick method, the optimum k value can be chosen as 4. "
   ]
  },
  {
   "cell_type": "code",
   "execution_count": 356,
   "id": "8dbde230",
   "metadata": {},
   "outputs": [
    {
     "name": "stdout",
     "output_type": "stream",
     "text": [
      "For n_clusters=2, the silhouette score is 0.35604124889508776\n",
      "For n_clusters=3, the silhouette score is 0.36446920412354666\n",
      "For n_clusters=4, the silhouette score is 0.30643370370362494\n",
      "For n_clusters=5, the silhouette score is 0.3121910879773194\n",
      "For n_clusters=6, the silhouette score is 0.2827169165751789\n",
      "For n_clusters=7, the silhouette score is 0.29567657617840803\n",
      "For n_clusters=8, the silhouette score is 0.27792732585695396\n"
     ]
    }
   ],
   "source": [
    "# An alternative method is the silhouette score for optimum k value.\n",
    "from sklearn.metrics import silhouette_score\n",
    "range_n_clusters = [2, 3, 4, 5, 6, 7, 8]\n",
    "\n",
    "for num_clusters in range_n_clusters:\n",
    "    \n",
    "    \n",
    "    kmeans = KMeans(n_clusters=num_clusters, max_iter=50)\n",
    "    kmeans.fit(rfm_normalized)\n",
    "    \n",
    "    cluster_labels = kmeans.labels_\n",
    "    \n",
    "    \n",
    "    silhouette_avg = silhouette_score(rfm_normalized, cluster_labels)\n",
    "    print(\"For n_clusters={0}, the silhouette score is {1}\".format(num_clusters, silhouette_avg))"
   ]
  },
  {
   "cell_type": "code",
   "execution_count": 358,
   "id": "496e991c",
   "metadata": {},
   "outputs": [
    {
     "data": {
      "image/png": "[encoded data removed]",
      "text/plain": [
       "<Figure size 432x288 with 1 Axes>"
      ]
     },
     "metadata": {
      "needs_background": "light"
     },
     "output_type": "display_data"
    }
   ],
   "source": [
    "from sklearn.cluster import KMeans\n",
    "\n",
    "from yellowbrick.cluster import SilhouetteVisualizer\n",
    "\n",
    "model3 = KMeans(n_clusters=5, random_state=42)\n",
    "visualizer = SilhouetteVisualizer(model3)\n",
    "\n",
    "visualizer.fit(rfm_normalized)    # Fit the data to the visualizer\n",
    "visualizer.poof();"
   ]
  },
  {
   "cell_type": "markdown",
   "id": "14e06984",
   "metadata": {},
   "source": [
    "The Silhouette score is based on both very good clustering within itself and the maximum possible distance from other clusters.Three different methods were used to determine the number of clusters. Finally, the optimum number of clusters was selected by considering the biggest Silhouette score. Therefore k was chosen k=5."
   ]
  },
  {
   "cell_type": "markdown",
   "id": "6717ff72",
   "metadata": {},
   "source": [
    "### Model Fitting"
   ]
  },
  {
   "cell_type": "markdown",
   "id": "6637e250",
   "metadata": {},
   "source": [
    "The K-Means Algorithm must be fitted to the optimum number of clusters we have determined."
   ]
  },
  {
   "cell_type": "code",
   "execution_count": 360,
   "id": "f80b3581",
   "metadata": {},
   "outputs": [],
   "source": [
    "#The model was fitted for cluster number 5.\n",
    "from sklearn.cluster import KMeans\n",
    "kmeans = KMeans(n_clusters=5)\n",
    "kmeans.fit(rfm_normalized)\n",
    "y_kmeans = kmeans.predict(rfm_normalized)"
   ]
  },
  {
   "cell_type": "code",
   "execution_count": 361,
   "id": "72ddc758",
   "metadata": {},
   "outputs": [
    {
     "data": {
      "image/png": "[encoded data removed]",
      "text/plain": [
       "<Figure size 864x576 with 1 Axes>"
      ]
     },
     "metadata": {
      "needs_background": "light"
     },
     "output_type": "display_data"
    }
   ],
   "source": [
    "# Draw a scatter plot and select cluster centers.\n",
    "plt.figure(figsize=(12,8))\n",
    "plt.scatter(rfm_normalized.iloc[:, 0], rfm_normalized.iloc[:, 1], c=y_kmeans, s=50, cmap='viridis')\n",
    "centers = kmeans.cluster_centers_\n",
    "plt.scatter(centers[:, 0], centers[:, 1], c='red', s=200, alpha=0.9);"
   ]
  },
  {
   "cell_type": "code",
   "execution_count": 362,
   "id": "6a739948",
   "metadata": {},
   "outputs": [
    {
     "data": {
      "text/html": [
       "<div>\n",
       "<style scoped>\n",
       "    .dataframe tbody tr th:only-of-type {\n",
       "        vertical-align: middle;\n",
       "    }\n",
       "\n",
       "    .dataframe tbody tr th {\n",
       "        vertical-align: top;\n",
       "    }\n",
       "\n",
       "    .dataframe thead th {\n",
       "        text-align: right;\n",
       "    }\n",
       "</style>\n",
       "<table border=\"1\" class=\"dataframe\">\n",
       "  <thead>\n",
       "    <tr style=\"text-align: right;\">\n",
       "      <th></th>\n",
       "      <th>Recency</th>\n",
       "      <th>Frequency</th>\n",
       "      <th>MonetaryValue</th>\n",
       "      <th>R</th>\n",
       "      <th>F</th>\n",
       "      <th>M</th>\n",
       "      <th>RFM_Score</th>\n",
       "      <th>RFM_Level</th>\n",
       "      <th>Cluster</th>\n",
       "    </tr>\n",
       "    <tr>\n",
       "      <th>customerNumber</th>\n",
       "      <th></th>\n",
       "      <th></th>\n",
       "      <th></th>\n",
       "      <th></th>\n",
       "      <th></th>\n",
       "      <th></th>\n",
       "      <th></th>\n",
       "      <th></th>\n",
       "      <th></th>\n",
       "    </tr>\n",
       "  </thead>\n",
       "  <tbody>\n",
       "    <tr>\n",
       "      <th>1</th>\n",
       "      <td>3</td>\n",
       "      <td>465</td>\n",
       "      <td>162812.00</td>\n",
       "      <td>3</td>\n",
       "      <td>1</td>\n",
       "      <td>4</td>\n",
       "      <td>8</td>\n",
       "      <td>Middle Class Customer</td>\n",
       "      <td>1</td>\n",
       "    </tr>\n",
       "    <tr>\n",
       "      <th>2</th>\n",
       "      <td>3</td>\n",
       "      <td>425</td>\n",
       "      <td>33578.00</td>\n",
       "      <td>3</td>\n",
       "      <td>1</td>\n",
       "      <td>1</td>\n",
       "      <td>5</td>\n",
       "      <td>Almost Lost Customer</td>\n",
       "      <td>0</td>\n",
       "    </tr>\n",
       "    <tr>\n",
       "      <th>3</th>\n",
       "      <td>11</td>\n",
       "      <td>1351</td>\n",
       "      <td>178882.00</td>\n",
       "      <td>1</td>\n",
       "      <td>4</td>\n",
       "      <td>4</td>\n",
       "      <td>9</td>\n",
       "      <td>Loyal Customer</td>\n",
       "      <td>4</td>\n",
       "    </tr>\n",
       "    <tr>\n",
       "      <th>4</th>\n",
       "      <td>2</td>\n",
       "      <td>423</td>\n",
       "      <td>72461.00</td>\n",
       "      <td>4</td>\n",
       "      <td>1</td>\n",
       "      <td>3</td>\n",
       "      <td>8</td>\n",
       "      <td>Middle Class Customer</td>\n",
       "      <td>0</td>\n",
       "    </tr>\n",
       "    <tr>\n",
       "      <th>5</th>\n",
       "      <td>11</td>\n",
       "      <td>436</td>\n",
       "      <td>38888.00</td>\n",
       "      <td>1</td>\n",
       "      <td>1</td>\n",
       "      <td>1</td>\n",
       "      <td>3</td>\n",
       "      <td>Almost Lost Customer</td>\n",
       "      <td>3</td>\n",
       "    </tr>\n",
       "    <tr>\n",
       "      <th>6</th>\n",
       "      <td>2</td>\n",
       "      <td>418</td>\n",
       "      <td>42236.00</td>\n",
       "      <td>4</td>\n",
       "      <td>1</td>\n",
       "      <td>1</td>\n",
       "      <td>6</td>\n",
       "      <td>Almost Lost Customer</td>\n",
       "      <td>0</td>\n",
       "    </tr>\n",
       "    <tr>\n",
       "      <th>7</th>\n",
       "      <td>3</td>\n",
       "      <td>485</td>\n",
       "      <td>70642.00</td>\n",
       "      <td>3</td>\n",
       "      <td>2</td>\n",
       "      <td>3</td>\n",
       "      <td>8</td>\n",
       "      <td>Middle Class Customer</td>\n",
       "      <td>0</td>\n",
       "    </tr>\n",
       "    <tr>\n",
       "      <th>8</th>\n",
       "      <td>4</td>\n",
       "      <td>621</td>\n",
       "      <td>85635.00</td>\n",
       "      <td>3</td>\n",
       "      <td>3</td>\n",
       "      <td>3</td>\n",
       "      <td>9</td>\n",
       "      <td>Loyal Customer</td>\n",
       "      <td>1</td>\n",
       "    </tr>\n",
       "    <tr>\n",
       "      <th>9</th>\n",
       "      <td>2</td>\n",
       "      <td>541</td>\n",
       "      <td>48290.00</td>\n",
       "      <td>4</td>\n",
       "      <td>2</td>\n",
       "      <td>1</td>\n",
       "      <td>7</td>\n",
       "      <td>Middle Class Customer</td>\n",
       "      <td>0</td>\n",
       "    </tr>\n",
       "    <tr>\n",
       "      <th>10</th>\n",
       "      <td>9</td>\n",
       "      <td>932</td>\n",
       "      <td>65678.00</td>\n",
       "      <td>2</td>\n",
       "      <td>4</td>\n",
       "      <td>2</td>\n",
       "      <td>8</td>\n",
       "      <td>Middle Class Customer</td>\n",
       "      <td>4</td>\n",
       "    </tr>\n",
       "  </tbody>\n",
       "</table>\n",
       "</div>"
      ],
      "text/plain": [
       "                Recency  Frequency  MonetaryValue  R  F  M  RFM_Score  \\\n",
       "customerNumber                                                          \n",
       "1                     3        465      162812.00  3  1  4          8   \n",
       "2                     3        425       33578.00  3  1  1          5   \n",
       "3                    11       1351      178882.00  1  4  4          9   \n",
       "4                     2        423       72461.00  4  1  3          8   \n",
       "5                    11        436       38888.00  1  1  1          3   \n",
       "6                     2        418       42236.00  4  1  1          6   \n",
       "7                     3        485       70642.00  3  2  3          8   \n",
       "8                     4        621       85635.00  3  3  3          9   \n",
       "9                     2        541       48290.00  4  2  1          7   \n",
       "10                    9        932       65678.00  2  4  2          8   \n",
       "\n",
       "                            RFM_Level  Cluster  \n",
       "customerNumber                                  \n",
       "1               Middle Class Customer        1  \n",
       "2                Almost Lost Customer        0  \n",
       "3                      Loyal Customer        4  \n",
       "4               Middle Class Customer        0  \n",
       "5                Almost Lost Customer        3  \n",
       "6                Almost Lost Customer        0  \n",
       "7               Middle Class Customer        0  \n",
       "8                      Loyal Customer        1  \n",
       "9               Middle Class Customer        0  \n",
       "10              Middle Class Customer        4  "
      ]
     },
     "execution_count": 362,
     "metadata": {},
     "output_type": "execute_result"
    }
   ],
   "source": [
    "# Adding cluster column to rfm data frame\n",
    "cluster_labels = kmeans.labels_\n",
    "rfm_k5 = rfm.assign(Cluster=cluster_labels)\n",
    "rfm_k5.head(10)"
   ]
  },
  {
   "cell_type": "code",
   "execution_count": 364,
   "id": "ac4c10b0",
   "metadata": {},
   "outputs": [
    {
     "data": {
      "text/html": [
       "<div>\n",
       "<style scoped>\n",
       "    .dataframe tbody tr th:only-of-type {\n",
       "        vertical-align: middle;\n",
       "    }\n",
       "\n",
       "    .dataframe tbody tr th {\n",
       "        vertical-align: top;\n",
       "    }\n",
       "\n",
       "    .dataframe thead tr th {\n",
       "        text-align: left;\n",
       "    }\n",
       "\n",
       "    .dataframe thead tr:last-of-type th {\n",
       "        text-align: right;\n",
       "    }\n",
       "</style>\n",
       "<table border=\"1\" class=\"dataframe\">\n",
       "  <thead>\n",
       "    <tr>\n",
       "      <th></th>\n",
       "      <th>Recency</th>\n",
       "      <th>Frequency</th>\n",
       "      <th colspan=\"2\" halign=\"left\">MonetaryValue</th>\n",
       "    </tr>\n",
       "    <tr>\n",
       "      <th></th>\n",
       "      <th>mean</th>\n",
       "      <th>mean</th>\n",
       "      <th>mean</th>\n",
       "      <th>count</th>\n",
       "    </tr>\n",
       "    <tr>\n",
       "      <th>Cluster</th>\n",
       "      <th></th>\n",
       "      <th></th>\n",
       "      <th></th>\n",
       "      <th></th>\n",
       "    </tr>\n",
       "  </thead>\n",
       "  <tbody>\n",
       "    <tr>\n",
       "      <th>0</th>\n",
       "      <td>2.70</td>\n",
       "      <td>490.30</td>\n",
       "      <td>50605.90</td>\n",
       "      <td>312</td>\n",
       "    </tr>\n",
       "    <tr>\n",
       "      <th>1</th>\n",
       "      <td>2.50</td>\n",
       "      <td>704.80</td>\n",
       "      <td>91471.30</td>\n",
       "      <td>286</td>\n",
       "    </tr>\n",
       "    <tr>\n",
       "      <th>2</th>\n",
       "      <td>2.90</td>\n",
       "      <td>1853.40</td>\n",
       "      <td>232994.30</td>\n",
       "      <td>87</td>\n",
       "    </tr>\n",
       "    <tr>\n",
       "      <th>3</th>\n",
       "      <td>15.00</td>\n",
       "      <td>505.70</td>\n",
       "      <td>56430.30</td>\n",
       "      <td>189</td>\n",
       "    </tr>\n",
       "    <tr>\n",
       "      <th>4</th>\n",
       "      <td>9.50</td>\n",
       "      <td>854.00</td>\n",
       "      <td>121687.40</td>\n",
       "      <td>126</td>\n",
       "    </tr>\n",
       "  </tbody>\n",
       "</table>\n",
       "</div>"
      ],
      "text/plain": [
       "        Recency Frequency MonetaryValue      \n",
       "           mean      mean          mean count\n",
       "Cluster                                      \n",
       "0          2.70    490.30      50605.90   312\n",
       "1          2.50    704.80      91471.30   286\n",
       "2          2.90   1853.40     232994.30    87\n",
       "3         15.00    505.70      56430.30   189\n",
       "4          9.50    854.00     121687.40   126"
      ]
     },
     "execution_count": 364,
     "metadata": {},
     "output_type": "execute_result"
    }
   ],
   "source": [
    "# The mean and counts of R, F and M scores according to levels were analysed.\n",
    "grouped = rfm_k5.groupby(['Cluster'])\n",
    "avg_df=grouped.agg({\n",
    "    'Recency': 'mean',\n",
    "    'Frequency': 'mean',\n",
    "    'MonetaryValue': ['mean', 'count']\n",
    "  }).round(1)\n",
    "avg_df"
   ]
  },
  {
   "cell_type": "code",
   "execution_count": 365,
   "id": "d4a5cdca",
   "metadata": {},
   "outputs": [
    {
     "data": {
      "image/png": "[encoded data removed]",
      "text/plain": [
       "<Figure size 432x288 with 2 Axes>"
      ]
     },
     "metadata": {
      "needs_background": "light"
     },
     "output_type": "display_data"
    }
   ],
   "source": [
    "sns.heatmap(avg_df.iloc[:,:-1].T, cmap=\"RdYlGn\");"
   ]
  },
  {
   "cell_type": "code",
   "execution_count": 368,
   "id": "a0216cfb",
   "metadata": {},
   "outputs": [],
   "source": [
    "def rfm_level(df):\n",
    "    if df['Cluster'] == 2:\n",
    "        return 'Top Class Customer'\n",
    "    elif (df['Cluster'] == 1):\n",
    "        return \"Loyal Customer\"\n",
    "    elif (df['Cluster'] == 0) :\n",
    "        return 'Middle Class Customer'\n",
    "    elif (df['Cluster'] == 4):\n",
    "        return 'Almost Lost Customer'\n",
    "    else:\n",
    "        return 'Lost Customer'\n",
    "\n",
    "rfm_k5['RFM_Segment'] = rfm_k5.apply(rfm_level, axis=1)\n",
    "\n"
   ]
  },
  {
   "cell_type": "code",
   "execution_count": 369,
   "id": "db43d632",
   "metadata": {},
   "outputs": [
    {
     "name": "stdout",
     "output_type": "stream",
     "text": [
      "                Recency  Frequency  MonetaryValue  R  F  M  RFM_Score  \\\n",
      "customerNumber                                                          \n",
      "961                   2        447       42353.00  4  1  1          6   \n",
      "551                   4        642       89640.00  3  3  3          9   \n",
      "261                   4        442       53105.00  3  1  2          6   \n",
      "693                  10        573       80282.00  1  2  3          6   \n",
      "748                   2       1489      180449.00  4  4  4         12   \n",
      "531                  11        643       68364.00  1  3  2          6   \n",
      "885                  12        616       60343.00  1  3  2          6   \n",
      "854                   9        506       97843.00  2  2  3          7   \n",
      "908                   3        622      131397.00  3  3  4         10   \n",
      "945                  36        397       33174.00  1  1  1          3   \n",
      "515                   1        689       66936.00  4  3  2          9   \n",
      "102                   2        842       83779.00  4  4  3         11   \n",
      "352                   2        944       99704.00  4  4  3         11   \n",
      "745                   2        424       38297.00  4  1  1          6   \n",
      "688                   2        577      193390.00  4  2  4         10   \n",
      "836                   3        714      109053.00  3  3  4         10   \n",
      "300                  24        609       43903.00  1  3  1          5   \n",
      "307                   3       1229       96904.00  3  4  3         10   \n",
      "982                   5       1361      143588.00  2  4  4         10   \n",
      "\n",
      "                            RFM_Level  Cluster            RFM_Segment  \n",
      "customerNumber                                                         \n",
      "961              Almost Lost Customer        0  Middle Class Customer  \n",
      "551                    Loyal Customer        1         Loyal Customer  \n",
      "261              Almost Lost Customer        0  Middle Class Customer  \n",
      "693              Almost Lost Customer        3          Lost Customer  \n",
      "748                Top Class Customer        2     Top Class Customer  \n",
      "531              Almost Lost Customer        3          Lost Customer  \n",
      "885              Almost Lost Customer        3          Lost Customer  \n",
      "854             Middle Class Customer        3          Lost Customer  \n",
      "908                    Loyal Customer        1         Loyal Customer  \n",
      "945              Almost Lost Customer        3          Lost Customer  \n",
      "515                    Loyal Customer        1         Loyal Customer  \n",
      "102                Top Class Customer        1         Loyal Customer  \n",
      "352                Top Class Customer        1         Loyal Customer  \n",
      "745              Almost Lost Customer        0  Middle Class Customer  \n",
      "688                    Loyal Customer        1         Loyal Customer  \n",
      "836                    Loyal Customer        1         Loyal Customer  \n",
      "300              Almost Lost Customer        3          Lost Customer  \n",
      "307                    Loyal Customer        2     Top Class Customer  \n",
      "982                    Loyal Customer        2     Top Class Customer  \n"
     ]
    }
   ],
   "source": [
    "print(rfm_k5.sample(19))"
   ]
  },
  {
   "cell_type": "code",
   "execution_count": 377,
   "id": "e1e8df07",
   "metadata": {},
   "outputs": [
    {
     "data": {
      "image/png": "[encoded data removed]",
      "text/plain": [
       "<Figure size 800x600 with 1 Axes>"
      ]
     },
     "metadata": {
      "needs_background": "light"
     },
     "output_type": "display_data"
    }
   ],
   "source": [
    "# After applying K-Means, you can see number of RFM segments in graph. \n",
    "plt.figure(figsize=(8,6), dpi=100)\n",
    "g = sns.countplot(data = rfm_k5, x=\"RFM_Segment\", order = rfm_k5[\"RFM_Segment\"].value_counts().index, palette=\"magma\")\n",
    "plt.title('Distribution of RFM Segements', fontsize = 15)\n",
    "plt.xlabel(\"RFM Segments\")\n",
    "plt.ylabel(\"Count (K-Means)\")\n",
    "plt.xticks(rotation=45);\n",
    "\n",
    "for p in g.patches:\n",
    "    g.annotate((p.get_height()), (p.get_x()+0.3, p.get_height()+7));"
   ]
  },
  {
   "cell_type": "code",
   "execution_count": 378,
   "id": "2fb40906",
   "metadata": {},
   "outputs": [
    {
     "data": {
      "image/png": "[encoded data removed]",
      "text/plain": [
       "<Figure size 800x600 with 1 Axes>"
      ]
     },
     "metadata": {
      "needs_background": "light"
     },
     "output_type": "display_data"
    }
   ],
   "source": [
    "# After applying RFM Analysis, you can see number of RFM segments in graph. \n",
    "plt.figure(figsize=(8,6), dpi=100)\n",
    "g = sns.countplot(data = rfm_k5, x=\"RFM_Level\", order = rfm_k5[\"RFM_Level\"].value_counts().index, palette=\"magma\")\n",
    "plt.title('Distribution of RFM Segements', fontsize = 15)\n",
    "plt.xlabel(\"RFM Segments\")\n",
    "plt.ylabel(\"Count (RFM Analysis)\")\n",
    "plt.xticks(rotation=45);\n",
    "\n",
    "for p in g.patches:\n",
    "    g.annotate((p.get_height()), (p.get_x()+0.3, p.get_height()+7));"
   ]
  },
  {
   "cell_type": "markdown",
   "id": "be83e6aa",
   "metadata": {},
   "source": [
    "As a result of RFM analysis, customers were divided into 4 groups. With k-means clustering method, the optimum number of clusters was found as 5.  Customers are grouped as Top Class, Loyal, Middle Class, Almost Lost and Lost. When the results of the two analyses are compared, the number of customers in the groups are close to each other. The main difference is that the Almost Lost (322) group found after RFM is divided into Almost Lost (126) and Lost (189) after K-Meas clustering. Since Almost Lost and Lost customers are the largest group, the importance of developing a strategy for these two groups has once again become clear. "
   ]
  },
  {
   "cell_type": "code",
   "execution_count": 287,
   "id": "30f9b3a8",
   "metadata": {},
   "outputs": [],
   "source": [
    "def rfm_level(df):\n",
    "    if df['RFM_Score'] >= 11:\n",
    "        return 'Platinum'\n",
    "    elif ((df['RFM_Score'] >= 8) and (df['RFM_Score'] < 11)):\n",
    "        return \"Gold\"\n",
    "    elif ((df['RFM_Score'] >= 5) and (df['RFM_Score'] < 8)):\n",
    "        return 'Bronze'\n",
    "    elif ((df['RFM_Score'] >= 5) and (df['RFM_Score'] < 8)):\n",
    "        return 'Bronze'\n",
    "    else:\n",
    "        return 'Silver'\n",
    "\n",
    "rfm_k4['RFM_Segment'] = rfm_k4.apply(rfm_level, axis=1)"
   ]
  },
  {
   "cell_type": "code",
   "execution_count": 288,
   "id": "42691885",
   "metadata": {},
   "outputs": [
    {
     "name": "stdout",
     "output_type": "stream",
     "text": [
      "                Recency  Frequency  MonetaryValue  R  F  M  RFM_Score  \\\n",
      "customerNumber                                                          \n",
      "528                   5        697       45932.00  2  3  1          6   \n",
      "279                   2        409       26565.00  4  1  1          6   \n",
      "866                  12        433       39010.00  1  1  1          3   \n",
      "862                   1        478       59805.00  4  2  2          8   \n",
      "5                    11        436       38888.00  1  1  1          3   \n",
      "208                   9        444       40571.00  2  1  1          4   \n",
      "394                   2        534       44647.00  4  2  1          7   \n",
      "83                    2        732       55082.00  4  3  2          9   \n",
      "772                   5       1271      172135.00  2  4  4         10   \n",
      "144                   1        432       18855.00  4  1  1          6   \n",
      "19                    9        546       42842.00  2  2  1          5   \n",
      "548                  10        642       97236.00  1  3  3          7   \n",
      "716                  62        420       31400.00  1  1  1          3   \n",
      "997                  10        510       35958.00  1  2  1          4   \n",
      "210                   2        880      251777.00  4  4  4         12   \n",
      "12                    9        555      115975.00  2  2  4          8   \n",
      "534                   2        429      124358.00  4  1  4          9   \n",
      "91                   13        407       39388.00  1  1  1          3   \n",
      "712                  12        397       26872.00  1  1  1          3   \n",
      "\n",
      "                RFM_Level  Cluster RFM_Segment  \n",
      "customerNumber                                  \n",
      "528                   Low        0      Bronze  \n",
      "279                   Low        0      Bronze  \n",
      "866                   Low        3      Silver  \n",
      "862                Middle        0        Gold  \n",
      "5                     Low        3      Silver  \n",
      "208                   Low        3      Silver  \n",
      "394                Middle        0      Bronze  \n",
      "83                   High        2        Gold  \n",
      "772                  High        1        Gold  \n",
      "144                   Low        0      Bronze  \n",
      "19                    Low        3      Bronze  \n",
      "548                Middle        3      Bronze  \n",
      "716                   Low        3      Silver  \n",
      "997                   Low        3      Silver  \n",
      "210             Top Class        1    Platinum  \n",
      "12                 Middle        3        Gold  \n",
      "534                  High        2        Gold  \n",
      "91                    Low        3      Silver  \n",
      "712                   Low        3      Silver  \n"
     ]
    }
   ],
   "source": [
    "print(rfm_k5.sample(19))"
   ]
  },
  {
   "cell_type": "code",
   "execution_count": 286,
   "id": "2e722e46",
   "metadata": {},
   "outputs": [
    {
     "name": "stdout",
     "output_type": "stream",
     "text": [
      "clustering success for cluster0 is 0.51 \n",
      " clustering success for cluster1 is 0.60\n",
      " clustering success for cluster2 is 0.60\n",
      " clustering success for cluster3 is 0.68\n"
     ]
    }
   ],
   "source": [
    "cluster2= rfm_k4[(rfm_k4[\"RFM_Level\"]==\"High\") & (rfm_k4.Cluster==2)].Recency.count()/rfm_k4[rfm_k4.Cluster==2].Recency.count()\n",
    "cluster3= rfm_k4[(rfm_k4[\"RFM_Level\"]==\"Low\") & (rfm_k4.Cluster==3)].Recency.count()/rfm_k4[rfm_k4.Cluster==3].Recency.count()\n",
    "cluster1= rfm_k4[(rfm_k4[\"RFM_Level\"]==\"Top Class\") & (rfm_k4.Cluster==1)].Recency.count()/rfm_k4[rfm_k4.Cluster==1].Recency.count()\n",
    "cluster0= rfm_k4[(rfm_k4[\"RFM_Level\"]==\"Middle\") & (rfm_k4.Cluster==0)].Recency.count()/rfm_k4[rfm_k4.Cluster==0].Recency.count()\n",
    "\n",
    "print(\"clustering success for cluster0 is {:.2f} \\n clustering success for cluster1 is {:.2f}\\n clustering success for cluster2 is {:.2f}\\n clustering success for cluster3 is {:.2f}\".format(cluster0, cluster1, cluster2, cluster3))"
   ]
  },
  {
   "cell_type": "code",
   "execution_count": 289,
   "id": "d7078c83",
   "metadata": {},
   "outputs": [
    {
     "data": {
      "text/plain": [
       "Cluster  RFM_Level\n",
       "0        Middle       162\n",
       "         Low          141\n",
       "         High          12\n",
       "1        Top Class     78\n",
       "         High          50\n",
       "         Middle         1\n",
       "2        High         174\n",
       "         Top Class     64\n",
       "         Middle        52\n",
       "         Low            2\n",
       "3        Low          179\n",
       "         Middle        64\n",
       "         High          21\n",
       "Name: RFM_Level, dtype: int64"
      ]
     },
     "execution_count": 289,
     "metadata": {},
     "output_type": "execute_result"
    }
   ],
   "source": [
    "rfm_k4.groupby(\"Cluster\")[\"RFM_Level\"].value_counts()"
   ]
  },
  {
   "cell_type": "code",
   "execution_count": null,
   "id": "73889f2b",
   "metadata": {},
   "outputs": [],
   "source": []
  },
  {
   "cell_type": "code",
   "execution_count": 67,
   "id": "de39f784",
   "metadata": {},
   "outputs": [
    {
     "data": {
      "text/html": [
       "<div>\n",
       "<style scoped>\n",
       "    .dataframe tbody tr th:only-of-type {\n",
       "        vertical-align: middle;\n",
       "    }\n",
       "\n",
       "    .dataframe tbody tr th {\n",
       "        vertical-align: top;\n",
       "    }\n",
       "\n",
       "    .dataframe thead th {\n",
       "        text-align: right;\n",
       "    }\n",
       "</style>\n",
       "<table border=\"1\" class=\"dataframe\">\n",
       "  <thead>\n",
       "    <tr style=\"text-align: right;\">\n",
       "      <th></th>\n",
       "      <th>customerNumber</th>\n",
       "      <th>purchaseDate</th>\n",
       "      <th>branchNumber</th>\n",
       "      <th>articleNumber</th>\n",
       "      <th>quantity</th>\n",
       "      <th>discountOnRecommendedRetailPrice[%]</th>\n",
       "      <th>purchaseAmount</th>\n",
       "    </tr>\n",
       "  </thead>\n",
       "  <tbody>\n",
       "    <tr>\n",
       "      <th>0</th>\n",
       "      <td>557</td>\n",
       "      <td>2021-01-04</td>\n",
       "      <td>19</td>\n",
       "      <td>6013</td>\n",
       "      <td>1.00</td>\n",
       "      <td>0.00</td>\n",
       "      <td>17.24</td>\n",
       "    </tr>\n",
       "    <tr>\n",
       "      <th>1</th>\n",
       "      <td>557</td>\n",
       "      <td>2021-01-04</td>\n",
       "      <td>19</td>\n",
       "      <td>6663</td>\n",
       "      <td>2.00</td>\n",
       "      <td>8.37</td>\n",
       "      <td>94.96</td>\n",
       "    </tr>\n",
       "    <tr>\n",
       "      <th>2</th>\n",
       "      <td>189</td>\n",
       "      <td>2021-01-04</td>\n",
       "      <td>17</td>\n",
       "      <td>2982</td>\n",
       "      <td>2.00</td>\n",
       "      <td>32.23</td>\n",
       "      <td>59.96</td>\n",
       "    </tr>\n",
       "    <tr>\n",
       "      <th>3</th>\n",
       "      <td>490</td>\n",
       "      <td>2021-01-04</td>\n",
       "      <td>19</td>\n",
       "      <td>10658</td>\n",
       "      <td>1.00</td>\n",
       "      <td>25.04</td>\n",
       "      <td>24.05</td>\n",
       "    </tr>\n",
       "    <tr>\n",
       "      <th>4</th>\n",
       "      <td>896</td>\n",
       "      <td>2021-01-04</td>\n",
       "      <td>36</td>\n",
       "      <td>14971</td>\n",
       "      <td>3.00</td>\n",
       "      <td>0.00</td>\n",
       "      <td>26.69</td>\n",
       "    </tr>\n",
       "  </tbody>\n",
       "</table>\n",
       "</div>"
      ],
      "text/plain": [
       "   customerNumber purchaseDate  branchNumber  articleNumber  quantity  \\\n",
       "0             557   2021-01-04            19           6013      1.00   \n",
       "1             557   2021-01-04            19           6663      2.00   \n",
       "2             189   2021-01-04            17           2982      2.00   \n",
       "3             490   2021-01-04            19          10658      1.00   \n",
       "4             896   2021-01-04            36          14971      3.00   \n",
       "\n",
       "   discountOnRecommendedRetailPrice[%]  purchaseAmount  \n",
       "0                                 0.00           17.24  \n",
       "1                                 8.37           94.96  \n",
       "2                                32.23           59.96  \n",
       "3                                25.04           24.05  \n",
       "4                                 0.00           26.69  "
      ]
     },
     "execution_count": 67,
     "metadata": {},
     "output_type": "execute_result"
    }
   ],
   "source": [
    "factura_df.head()"
   ]
  },
  {
   "cell_type": "code",
   "execution_count": 299,
   "id": "8925f6f6",
   "metadata": {},
   "outputs": [],
   "source": [
    "from sklearn.cluster import KMeans\n",
    "kmeans = KMeans(n_clusters=5)\n",
    "kmeans.fit(rfm_normalized)\n",
    "y_kmeans = kmeans.predict(rfm_normalized)"
   ]
  },
  {
   "cell_type": "code",
   "execution_count": 300,
   "id": "8ca78ae8",
   "metadata": {},
   "outputs": [
    {
     "data": {
      "image/png": "[encoded data removed]",
      "text/plain": [
       "<Figure size 864x576 with 1 Axes>"
      ]
     },
     "metadata": {},
     "output_type": "display_data"
    }
   ],
   "source": [
    "# Draw a scatter plot and select cluster centers.\n",
    "plt.figure(figsize=(12,8))\n",
    "plt.scatter(rfm_normalized.iloc[:, 0], rfm_normalized.iloc[:, 1], c=y_kmeans, s=50, cmap='viridis')\n",
    "centers = kmeans.cluster_centers_\n",
    "plt.scatter(centers[:, 0], centers[:, 1], c='red', s=200, alpha=0.9);"
   ]
  },
  {
   "cell_type": "code",
   "execution_count": 301,
   "id": "57ee3f9c",
   "metadata": {},
   "outputs": [
    {
     "data": {
      "text/html": [
       "<div>\n",
       "<style scoped>\n",
       "    .dataframe tbody tr th:only-of-type {\n",
       "        vertical-align: middle;\n",
       "    }\n",
       "\n",
       "    .dataframe tbody tr th {\n",
       "        vertical-align: top;\n",
       "    }\n",
       "\n",
       "    .dataframe thead th {\n",
       "        text-align: right;\n",
       "    }\n",
       "</style>\n",
       "<table border=\"1\" class=\"dataframe\">\n",
       "  <thead>\n",
       "    <tr style=\"text-align: right;\">\n",
       "      <th></th>\n",
       "      <th>Recency</th>\n",
       "      <th>Frequency</th>\n",
       "      <th>MonetaryValue</th>\n",
       "      <th>R</th>\n",
       "      <th>F</th>\n",
       "      <th>M</th>\n",
       "      <th>RFM_Score</th>\n",
       "      <th>RFM_Level</th>\n",
       "      <th>Cluster</th>\n",
       "    </tr>\n",
       "    <tr>\n",
       "      <th>customerNumber</th>\n",
       "      <th></th>\n",
       "      <th></th>\n",
       "      <th></th>\n",
       "      <th></th>\n",
       "      <th></th>\n",
       "      <th></th>\n",
       "      <th></th>\n",
       "      <th></th>\n",
       "      <th></th>\n",
       "    </tr>\n",
       "  </thead>\n",
       "  <tbody>\n",
       "    <tr>\n",
       "      <th>1</th>\n",
       "      <td>3</td>\n",
       "      <td>465</td>\n",
       "      <td>162812.00</td>\n",
       "      <td>3</td>\n",
       "      <td>1</td>\n",
       "      <td>4</td>\n",
       "      <td>8</td>\n",
       "      <td>Middle</td>\n",
       "      <td>1</td>\n",
       "    </tr>\n",
       "    <tr>\n",
       "      <th>2</th>\n",
       "      <td>3</td>\n",
       "      <td>425</td>\n",
       "      <td>33578.00</td>\n",
       "      <td>3</td>\n",
       "      <td>1</td>\n",
       "      <td>1</td>\n",
       "      <td>5</td>\n",
       "      <td>Low</td>\n",
       "      <td>2</td>\n",
       "    </tr>\n",
       "    <tr>\n",
       "      <th>3</th>\n",
       "      <td>11</td>\n",
       "      <td>1351</td>\n",
       "      <td>178882.00</td>\n",
       "      <td>1</td>\n",
       "      <td>4</td>\n",
       "      <td>4</td>\n",
       "      <td>9</td>\n",
       "      <td>High</td>\n",
       "      <td>3</td>\n",
       "    </tr>\n",
       "    <tr>\n",
       "      <th>4</th>\n",
       "      <td>2</td>\n",
       "      <td>423</td>\n",
       "      <td>72461.00</td>\n",
       "      <td>4</td>\n",
       "      <td>1</td>\n",
       "      <td>3</td>\n",
       "      <td>8</td>\n",
       "      <td>Middle</td>\n",
       "      <td>2</td>\n",
       "    </tr>\n",
       "    <tr>\n",
       "      <th>5</th>\n",
       "      <td>11</td>\n",
       "      <td>436</td>\n",
       "      <td>38888.00</td>\n",
       "      <td>1</td>\n",
       "      <td>1</td>\n",
       "      <td>1</td>\n",
       "      <td>3</td>\n",
       "      <td>Low</td>\n",
       "      <td>0</td>\n",
       "    </tr>\n",
       "    <tr>\n",
       "      <th>6</th>\n",
       "      <td>2</td>\n",
       "      <td>418</td>\n",
       "      <td>42236.00</td>\n",
       "      <td>4</td>\n",
       "      <td>1</td>\n",
       "      <td>1</td>\n",
       "      <td>6</td>\n",
       "      <td>Low</td>\n",
       "      <td>2</td>\n",
       "    </tr>\n",
       "    <tr>\n",
       "      <th>7</th>\n",
       "      <td>3</td>\n",
       "      <td>485</td>\n",
       "      <td>70642.00</td>\n",
       "      <td>3</td>\n",
       "      <td>2</td>\n",
       "      <td>3</td>\n",
       "      <td>8</td>\n",
       "      <td>Middle</td>\n",
       "      <td>2</td>\n",
       "    </tr>\n",
       "    <tr>\n",
       "      <th>8</th>\n",
       "      <td>4</td>\n",
       "      <td>621</td>\n",
       "      <td>85635.00</td>\n",
       "      <td>3</td>\n",
       "      <td>3</td>\n",
       "      <td>3</td>\n",
       "      <td>9</td>\n",
       "      <td>High</td>\n",
       "      <td>1</td>\n",
       "    </tr>\n",
       "    <tr>\n",
       "      <th>9</th>\n",
       "      <td>2</td>\n",
       "      <td>541</td>\n",
       "      <td>48290.00</td>\n",
       "      <td>4</td>\n",
       "      <td>2</td>\n",
       "      <td>1</td>\n",
       "      <td>7</td>\n",
       "      <td>Middle</td>\n",
       "      <td>2</td>\n",
       "    </tr>\n",
       "    <tr>\n",
       "      <th>10</th>\n",
       "      <td>9</td>\n",
       "      <td>932</td>\n",
       "      <td>65678.00</td>\n",
       "      <td>2</td>\n",
       "      <td>4</td>\n",
       "      <td>2</td>\n",
       "      <td>8</td>\n",
       "      <td>Middle</td>\n",
       "      <td>3</td>\n",
       "    </tr>\n",
       "  </tbody>\n",
       "</table>\n",
       "</div>"
      ],
      "text/plain": [
       "                Recency  Frequency  MonetaryValue  R  F  M  RFM_Score  \\\n",
       "customerNumber                                                          \n",
       "1                     3        465      162812.00  3  1  4          8   \n",
       "2                     3        425       33578.00  3  1  1          5   \n",
       "3                    11       1351      178882.00  1  4  4          9   \n",
       "4                     2        423       72461.00  4  1  3          8   \n",
       "5                    11        436       38888.00  1  1  1          3   \n",
       "6                     2        418       42236.00  4  1  1          6   \n",
       "7                     3        485       70642.00  3  2  3          8   \n",
       "8                     4        621       85635.00  3  3  3          9   \n",
       "9                     2        541       48290.00  4  2  1          7   \n",
       "10                    9        932       65678.00  2  4  2          8   \n",
       "\n",
       "               RFM_Level  Cluster  \n",
       "customerNumber                     \n",
       "1                 Middle        1  \n",
       "2                    Low        2  \n",
       "3                   High        3  \n",
       "4                 Middle        2  \n",
       "5                    Low        0  \n",
       "6                    Low        2  \n",
       "7                 Middle        2  \n",
       "8                   High        1  \n",
       "9                 Middle        2  \n",
       "10                Middle        3  "
      ]
     },
     "execution_count": 301,
     "metadata": {},
     "output_type": "execute_result"
    }
   ],
   "source": [
    "# Adding cluster column to rfm data frame\n",
    "cluster_labels = kmeans.labels_\n",
    "rfm_k5 = rfm.assign(Cluster=cluster_labels)\n",
    "rfm_k5.head(10)"
   ]
  },
  {
   "cell_type": "code",
   "execution_count": 302,
   "id": "b50c9107",
   "metadata": {},
   "outputs": [
    {
     "data": {
      "text/html": [
       "<div>\n",
       "<style scoped>\n",
       "    .dataframe tbody tr th:only-of-type {\n",
       "        vertical-align: middle;\n",
       "    }\n",
       "\n",
       "    .dataframe tbody tr th {\n",
       "        vertical-align: top;\n",
       "    }\n",
       "\n",
       "    .dataframe thead tr th {\n",
       "        text-align: left;\n",
       "    }\n",
       "\n",
       "    .dataframe thead tr:last-of-type th {\n",
       "        text-align: right;\n",
       "    }\n",
       "</style>\n",
       "<table border=\"1\" class=\"dataframe\">\n",
       "  <thead>\n",
       "    <tr>\n",
       "      <th></th>\n",
       "      <th>Recency</th>\n",
       "      <th>Frequency</th>\n",
       "      <th colspan=\"2\" halign=\"left\">MonetaryValue</th>\n",
       "    </tr>\n",
       "    <tr>\n",
       "      <th></th>\n",
       "      <th>mean</th>\n",
       "      <th>mean</th>\n",
       "      <th>mean</th>\n",
       "      <th>count</th>\n",
       "    </tr>\n",
       "    <tr>\n",
       "      <th>Cluster</th>\n",
       "      <th></th>\n",
       "      <th></th>\n",
       "      <th></th>\n",
       "      <th></th>\n",
       "    </tr>\n",
       "  </thead>\n",
       "  <tbody>\n",
       "    <tr>\n",
       "      <th>0</th>\n",
       "      <td>15.00</td>\n",
       "      <td>504.40</td>\n",
       "      <td>56372.50</td>\n",
       "      <td>188</td>\n",
       "    </tr>\n",
       "    <tr>\n",
       "      <th>1</th>\n",
       "      <td>2.50</td>\n",
       "      <td>706.20</td>\n",
       "      <td>93008.30</td>\n",
       "      <td>280</td>\n",
       "    </tr>\n",
       "    <tr>\n",
       "      <th>2</th>\n",
       "      <td>2.70</td>\n",
       "      <td>493.60</td>\n",
       "      <td>50843.00</td>\n",
       "      <td>319</td>\n",
       "    </tr>\n",
       "    <tr>\n",
       "      <th>3</th>\n",
       "      <td>9.50</td>\n",
       "      <td>853.10</td>\n",
       "      <td>121259.10</td>\n",
       "      <td>127</td>\n",
       "    </tr>\n",
       "    <tr>\n",
       "      <th>4</th>\n",
       "      <td>2.90</td>\n",
       "      <td>1867.70</td>\n",
       "      <td>232082.40</td>\n",
       "      <td>86</td>\n",
       "    </tr>\n",
       "  </tbody>\n",
       "</table>\n",
       "</div>"
      ],
      "text/plain": [
       "        Recency Frequency MonetaryValue      \n",
       "           mean      mean          mean count\n",
       "Cluster                                      \n",
       "0         15.00    504.40      56372.50   188\n",
       "1          2.50    706.20      93008.30   280\n",
       "2          2.70    493.60      50843.00   319\n",
       "3          9.50    853.10     121259.10   127\n",
       "4          2.90   1867.70     232082.40    86"
      ]
     },
     "execution_count": 302,
     "metadata": {},
     "output_type": "execute_result"
    }
   ],
   "source": [
    "grouped = rfm_k5.groupby(['Cluster'])\n",
    "avg_df=grouped.agg({\n",
    "    'Recency': 'mean',\n",
    "    'Frequency': 'mean',\n",
    "    'MonetaryValue': ['mean', 'count']\n",
    "  }).round(1)\n",
    "avg_df"
   ]
  },
  {
   "cell_type": "code",
   "execution_count": 303,
   "id": "da9c63e5",
   "metadata": {},
   "outputs": [
    {
     "data": {
      "image/png": "[encoded data removed]",
      "text/plain": [
       "<Figure size 576x396 with 2 Axes>"
      ]
     },
     "metadata": {},
     "output_type": "display_data"
    }
   ],
   "source": [
    "sns.heatmap(avg_df.iloc[:,:-1].T, cmap=\"RdYlGn\");"
   ]
  },
  {
   "cell_type": "code",
   "execution_count": 304,
   "id": "54749c9c",
   "metadata": {},
   "outputs": [],
   "source": [
    "def rfm_level(df):\n",
    "    if df['RFM_Score'] >= 11:\n",
    "        return 'Platinum'\n",
    "    elif ((df['RFM_Score'] >= 8) and (df['RFM_Score'] < 11)):\n",
    "      return \"Gold\"\n",
    "    elif ((df['RFM_Score'] >= 5) and (df['RFM_Score'] < 8)):\n",
    "        return 'Bronze'\n",
    "    else:\n",
    "        return 'Silver'\n",
    "\n",
    "rfm_k5['RFM_Segment'] = rfm_k5.apply(rfm_level, axis=1)"
   ]
  },
  {
   "cell_type": "code",
   "execution_count": 306,
   "id": "7eb4b152",
   "metadata": {},
   "outputs": [
    {
     "name": "stdout",
     "output_type": "stream",
     "text": [
      "                Recency  Frequency  MonetaryValue  R  F  M  RFM_Score  \\\n",
      "customerNumber                                                          \n",
      "83                    2        732       55082.00  4  3  2          9   \n",
      "482                   1       1696      198978.00  4  4  4         12   \n",
      "566                   9        614       53723.00  2  3  2          7   \n",
      "312                   2        431       32521.00  4  1  1          6   \n",
      "751                   5        708       52385.00  2  3  2          7   \n",
      "213                   1       1053      112098.00  4  4  4         12   \n",
      "569                  10        420       42417.00  1  1  1          3   \n",
      "890                   5        695       54209.00  2  3  2          7   \n",
      "166                   2        684       67975.00  4  3  2          9   \n",
      "268                   3        487       40586.00  3  2  1          6   \n",
      "984                   2       1051      108169.00  4  4  4         12   \n",
      "438                   2        539       52614.00  4  2  2          8   \n",
      "250                  12        774      103628.00  1  3  4          8   \n",
      "197                   5        503       93553.00  2  2  3          7   \n",
      "579                   2        453       56996.00  4  1  2          7   \n",
      "642                   3        400       59563.00  3  1  2          6   \n",
      "274                   2       1102      137692.00  4  4  4         12   \n",
      "807                   4        945      167077.00  3  4  4         11   \n",
      "116                   2        528       53364.00  4  2  2          8   \n",
      "\n",
      "                RFM_Level  Cluster RFM_Segment  \n",
      "customerNumber                                  \n",
      "83                   High        1        Gold  \n",
      "482             Top Class        4    Platinum  \n",
      "566                Middle        0      Bronze  \n",
      "312                   Low        2      Bronze  \n",
      "751                Middle        2      Bronze  \n",
      "213             Top Class        1    Platinum  \n",
      "569                   Low        0      Silver  \n",
      "890                Middle        2      Bronze  \n",
      "166                  High        1        Gold  \n",
      "268                   Low        2      Bronze  \n",
      "984             Top Class        1    Platinum  \n",
      "438                Middle        2        Gold  \n",
      "250                Middle        3        Gold  \n",
      "197                Middle        1      Bronze  \n",
      "579                Middle        2      Bronze  \n",
      "642                   Low        2      Bronze  \n",
      "274             Top Class        4    Platinum  \n",
      "807             Top Class        3    Platinum  \n",
      "116                Middle        2        Gold  \n"
     ]
    }
   ],
   "source": [
    "print(rfm_k5.sample(19))"
   ]
  },
  {
   "cell_type": "code",
   "execution_count": 308,
   "id": "b5d47622",
   "metadata": {},
   "outputs": [
    {
     "data": {
      "text/plain": [
       "Cluster  RFM_Level\n",
       "0        Low          175\n",
       "         Middle        13\n",
       "1        High         163\n",
       "         Top Class     68\n",
       "         Middle        49\n",
       "2        Middle       164\n",
       "         Low          142\n",
       "         High          13\n",
       "3        High          63\n",
       "         Middle        53\n",
       "         Top Class      6\n",
       "         Low            5\n",
       "4        Top Class     68\n",
       "         High          18\n",
       "Name: RFM_Level, dtype: int64"
      ]
     },
     "execution_count": 308,
     "metadata": {},
     "output_type": "execute_result"
    }
   ],
   "source": [
    "rfm_k5.groupby(\"Cluster\")[\"RFM_Level\"].value_counts()"
   ]
  },
  {
   "cell_type": "code",
   "execution_count": null,
   "id": "98f09bf3",
   "metadata": {},
   "outputs": [],
   "source": [
    "cluster2= rfm_k4[(rfm_k4[\"RFM_Level\"]==\"High\") & (rfm_k4.Cluster==2)].Recency.count()/rfm_k4[rfm_k4.Cluster==2].Recency.count()\n",
    "cluster3= rfm_k4[(rfm_k4[\"RFM_Level\"]==\"Low\") & (rfm_k4.Cluster==3)].Recency.count()/rfm_k4[rfm_k4.Cluster==3].Recency.count()\n",
    "cluster1= rfm_k4[(rfm_k4[\"RFM_Level\"]==\"Top Class\") & (rfm_k4.Cluster==1)].Recency.count()/rfm_k4[rfm_k4.Cluster==1].Recency.count()\n",
    "cluster0= rfm_k4[(rfm_k4[\"RFM_Level\"]==\"Middle\") & (rfm_k4.Cluster==0)].Recency.count()/rfm_k4[rfm_k4.Cluster==0].Recency.count()\n",
    "\n",
    "print(\"clustering success for cluster0 is {:.2f} \\n clustering success for cluster1 is {:.2f}\\n clustering success for cluster2 is {:.2f}\\n clustering success for cluster3 is {:.2f}\".format(cluster0, cluster1, cluster2, cluster3))"
   ]
  }
 ],
 "metadata": {
  "kernelspec": {
   "display_name": "Python 3",
   "language": "python",
   "name": "python3"
  },
  "language_info": {
   "codemirror_mode": {
    "name": "ipython",
    "version": 3
   },
   "file_extension": ".py",
   "mimetype": "text/x-python",
   "name": "python",
   "nbconvert_exporter": "python",
   "pygments_lexer": "ipython3",
   "version": "3.8.8"
  }
 },
 "nbformat": 4,
 "nbformat_minor": 5
}
