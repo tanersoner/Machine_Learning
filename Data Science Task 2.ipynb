{
 "cells": [
  {
   "cell_type": "markdown",
   "id": "f6c381cd",
   "metadata": {},
   "source": [
    "# Data Science Task 2"
   ]
  },
  {
   "cell_type": "markdown",
   "id": "56ecbdfa",
   "metadata": {},
   "source": [
    "This is a segmentation task that uses company sales data as the data basis. In this task, customers are to be divided into segments based on their purchasing behavior (customer segmentation). The main task is to identify relevant patterns in the purchasing behavior of customers. Several segmentation solutions are possible. The ones of particular importance to the company are those that are associated with a gain in customer insight, with implications for revenue and profit growth.\n",
    "\n",
    "In general, a customer segmentation is carried out so that customers can be addressed in a targeted manner or in order to offer suitable products and services to the customer. **Meaningful** differentiation criteria for the company would be the customer price sensitivity, the assortment mix (similarity of the articles purchased by the customer), seasonal buying behavior of the customer, etc."
   ]
  },
  {
   "cell_type": "markdown",
   "id": "e2875bbd",
   "metadata": {},
   "source": [
    "## Goal of this task"
   ]
  },
  {
   "cell_type": "markdown",
   "id": "e27292c8",
   "metadata": {},
   "source": [
    "Write a small program that divides customers into customer groups based on their purchasing behavior. Use a suitable, respectively preferred programming language (Python, Matlab, R) or library. You are welcome to use notebooks (e.g., Jupyter Notebook) for the purpose of writing and documenting your code.\n",
    "\n",
    "For this task several solutions are possible. Therefore, it is important to document the program code. A logging of a progress, function and error report provides extra points in evaluation.\n",
    "Use company sales data as data basis."
   ]
  },
  {
   "cell_type": "markdown",
   "id": "62e09d2a",
   "metadata": {},
   "source": [
    "# Scores:"
   ]
  },
  {
   "cell_type": "markdown",
   "id": "c55d25d5",
   "metadata": {},
   "source": [
    "- Final segmentation of customers. The code should be clean, understandable and sufficiently commented. (**50 points**)\n",
    "\n",
    "- Adequate comments and user instructions. All necessary means (e.g. extra libraries to be installed) to run the program (**10 points**).\n",
    "\n",
    "- Graphical representation and interpretation of the final solution (your created customer segmentation) (**15 points**)\n",
    "\n",
    "- Logging of your progress, function and error report (**25 points**)\n",
    "\n",
    "Total **100 points**"
   ]
  },
  {
   "cell_type": "code",
   "execution_count": 1,
   "id": "336c97d9",
   "metadata": {},
   "outputs": [],
   "source": [
    "%matplotlib inline\n",
    "import os\n",
    "import glob\n",
    "import numpy as np\n",
    "\n",
    "from datetime import datetime\n",
    "import locale\n",
    "locale.setlocale(locale.LC_ALL, \"german\")\n",
    "\n",
    "from scipy import io\n",
    "import matplotlib.pyplot as plt\n",
    "import pandas as pd"
   ]
  },
  {
   "cell_type": "markdown",
   "id": "8807cb37",
   "metadata": {},
   "source": [
    "# 1. Data Cleaning & Exploratory Data Analysis"
   ]
  },
  {
   "cell_type": "markdown",
   "id": "b2a236d9",
   "metadata": {},
   "source": [
    "## Import Modules, Load Data & Data Review"
   ]
  },
  {
   "cell_type": "code",
   "execution_count": 24,
   "id": "94823f33",
   "metadata": {},
   "outputs": [
    {
     "data": {
      "text/plain": [
       "customerNumber                           int64\n",
       "purchaseDate                            object\n",
       "branchNumber                             int64\n",
       "articleNumber                            int64\n",
       "quantity                               float64\n",
       "discountOnRecommendedRetailPrice[%]    float64\n",
       "purchaseAmount                         float64\n",
       "dtype: object"
      ]
     },
     "execution_count": 24,
     "metadata": {},
     "output_type": "execute_result"
    }
   ],
   "source": [
    "### Import factura data as data frame ###\n",
    "# The file \"DataScienceAufgabe2_FacturaData\" is located in folder \"/DataScienceAufgabe2/Data/\".\n",
    "# In order to use it in jupyter notebook you have to upload it (See \"Upload\" Button in http://localhost:8889/tree) )\n",
    "\n",
    "factura_df = pd.read_csv(\"DataScienceAufgabe2_FacturaData.csv\", encoding=\"iso-8859-1\", decimal=\",\", sep=\";\")\n",
    "# Get column overview\n",
    "factura_df.dtypes"
   ]
  },
  {
   "cell_type": "code",
   "execution_count": 25,
   "id": "a31da250",
   "metadata": {},
   "outputs": [
    {
     "data": {
      "text/html": [
       "<div>\n",
       "<style scoped>\n",
       "    .dataframe tbody tr th:only-of-type {\n",
       "        vertical-align: middle;\n",
       "    }\n",
       "\n",
       "    .dataframe tbody tr th {\n",
       "        vertical-align: top;\n",
       "    }\n",
       "\n",
       "    .dataframe thead th {\n",
       "        text-align: right;\n",
       "    }\n",
       "</style>\n",
       "<table border=\"1\" class=\"dataframe\">\n",
       "  <thead>\n",
       "    <tr style=\"text-align: right;\">\n",
       "      <th></th>\n",
       "      <th>customerNumber</th>\n",
       "      <th>purchaseDate</th>\n",
       "      <th>branchNumber</th>\n",
       "      <th>articleNumber</th>\n",
       "      <th>quantity</th>\n",
       "      <th>discountOnRecommendedRetailPrice[%]</th>\n",
       "      <th>purchaseAmount</th>\n",
       "    </tr>\n",
       "  </thead>\n",
       "  <tbody>\n",
       "    <tr>\n",
       "      <th>0</th>\n",
       "      <td>557</td>\n",
       "      <td>2021-01-04</td>\n",
       "      <td>19</td>\n",
       "      <td>6013</td>\n",
       "      <td>1.0</td>\n",
       "      <td>0.00</td>\n",
       "      <td>17.24</td>\n",
       "    </tr>\n",
       "    <tr>\n",
       "      <th>1</th>\n",
       "      <td>557</td>\n",
       "      <td>2021-01-04</td>\n",
       "      <td>19</td>\n",
       "      <td>6663</td>\n",
       "      <td>2.0</td>\n",
       "      <td>8.37</td>\n",
       "      <td>94.96</td>\n",
       "    </tr>\n",
       "    <tr>\n",
       "      <th>2</th>\n",
       "      <td>189</td>\n",
       "      <td>2021-01-04</td>\n",
       "      <td>17</td>\n",
       "      <td>2982</td>\n",
       "      <td>2.0</td>\n",
       "      <td>32.23</td>\n",
       "      <td>59.96</td>\n",
       "    </tr>\n",
       "    <tr>\n",
       "      <th>3</th>\n",
       "      <td>490</td>\n",
       "      <td>2021-01-04</td>\n",
       "      <td>19</td>\n",
       "      <td>10658</td>\n",
       "      <td>1.0</td>\n",
       "      <td>25.04</td>\n",
       "      <td>24.05</td>\n",
       "    </tr>\n",
       "    <tr>\n",
       "      <th>4</th>\n",
       "      <td>896</td>\n",
       "      <td>2021-01-04</td>\n",
       "      <td>36</td>\n",
       "      <td>14971</td>\n",
       "      <td>3.0</td>\n",
       "      <td>0.00</td>\n",
       "      <td>26.69</td>\n",
       "    </tr>\n",
       "  </tbody>\n",
       "</table>\n",
       "</div>"
      ],
      "text/plain": [
       "   customerNumber purchaseDate  branchNumber  articleNumber  quantity  \\\n",
       "0             557   2021-01-04            19           6013       1.0   \n",
       "1             557   2021-01-04            19           6663       2.0   \n",
       "2             189   2021-01-04            17           2982       2.0   \n",
       "3             490   2021-01-04            19          10658       1.0   \n",
       "4             896   2021-01-04            36          14971       3.0   \n",
       "\n",
       "   discountOnRecommendedRetailPrice[%]  purchaseAmount  \n",
       "0                                 0.00           17.24  \n",
       "1                                 8.37           94.96  \n",
       "2                                32.23           59.96  \n",
       "3                                25.04           24.05  \n",
       "4                                 0.00           26.69  "
      ]
     },
     "execution_count": 25,
     "metadata": {},
     "output_type": "execute_result"
    }
   ],
   "source": [
    "factura_df.head()"
   ]
  },
  {
   "cell_type": "code",
   "execution_count": 26,
   "id": "86d76817",
   "metadata": {},
   "outputs": [
    {
     "name": "stdout",
     "output_type": "stream",
     "text": [
      "<class 'pandas.core.frame.DataFrame'>\n",
      "RangeIndex: 718987 entries, 0 to 718986\n",
      "Data columns (total 7 columns):\n",
      " #   Column                               Non-Null Count   Dtype  \n",
      "---  ------                               --------------   -----  \n",
      " 0   customerNumber                       718987 non-null  int64  \n",
      " 1   purchaseDate                         718987 non-null  object \n",
      " 2   branchNumber                         718987 non-null  int64  \n",
      " 3   articleNumber                        718987 non-null  int64  \n",
      " 4   quantity                             718987 non-null  float64\n",
      " 5   discountOnRecommendedRetailPrice[%]  718987 non-null  float64\n",
      " 6   purchaseAmount                       718987 non-null  float64\n",
      "dtypes: float64(3), int64(3), object(1)\n",
      "memory usage: 38.4+ MB\n"
     ]
    }
   ],
   "source": [
    "factura_df.info()"
   ]
  },
  {
   "cell_type": "markdown",
   "id": "69a0ae50",
   "metadata": {},
   "source": [
    "You can see the data types in the data set. purschaseDate is of data type object. During data visualization this data type can be converted to datetime data type."
   ]
  },
  {
   "cell_type": "markdown",
   "id": "84009870",
   "metadata": {},
   "source": [
    "## Handling Missing Values"
   ]
  },
  {
   "cell_type": "code",
   "execution_count": 28,
   "id": "e366f2a1",
   "metadata": {},
   "outputs": [
    {
     "data": {
      "text/plain": [
       "customerNumber                         0\n",
       "purchaseDate                           0\n",
       "branchNumber                           0\n",
       "articleNumber                          0\n",
       "quantity                               0\n",
       "discountOnRecommendedRetailPrice[%]    0\n",
       "purchaseAmount                         0\n",
       "dtype: int64"
      ]
     },
     "execution_count": 28,
     "metadata": {},
     "output_type": "execute_result"
    }
   ],
   "source": [
    "factura_df.isnull().sum()"
   ]
  },
  {
   "cell_type": "markdown",
   "id": "1453fc2d",
   "metadata": {},
   "source": [
    "There are no null values in our data set. To optimize the use of machine learning algorithms, null values can be droped if available. "
   ]
  },
  {
   "cell_type": "code",
   "execution_count": 29,
   "id": "2a15e838",
   "metadata": {},
   "outputs": [
    {
     "data": {
      "text/plain": [
       "False    702623\n",
       "True      16364\n",
       "dtype: int64"
      ]
     },
     "execution_count": 29,
     "metadata": {},
     "output_type": "execute_result"
    }
   ],
   "source": [
    "factura_df.duplicated().value_counts()"
   ]
  },
  {
   "cell_type": "markdown",
   "id": "936d2350",
   "metadata": {},
   "source": [
    "There are 16364 duplicate data in the data set. It was evaluated that the same customer bought the same product several times on the same day. Duplicate data is not dropped for this reason."
   ]
  },
  {
   "cell_type": "code",
   "execution_count": 33,
   "id": "c22b3cd2",
   "metadata": {},
   "outputs": [
    {
     "data": {
      "text/html": [
       "<div>\n",
       "<style scoped>\n",
       "    .dataframe tbody tr th:only-of-type {\n",
       "        vertical-align: middle;\n",
       "    }\n",
       "\n",
       "    .dataframe tbody tr th {\n",
       "        vertical-align: top;\n",
       "    }\n",
       "\n",
       "    .dataframe thead th {\n",
       "        text-align: right;\n",
       "    }\n",
       "</style>\n",
       "<table border=\"1\" class=\"dataframe\">\n",
       "  <thead>\n",
       "    <tr style=\"text-align: right;\">\n",
       "      <th></th>\n",
       "      <th>count</th>\n",
       "      <th>mean</th>\n",
       "      <th>std</th>\n",
       "      <th>min</th>\n",
       "      <th>25%</th>\n",
       "      <th>50%</th>\n",
       "      <th>75%</th>\n",
       "      <th>max</th>\n",
       "    </tr>\n",
       "  </thead>\n",
       "  <tbody>\n",
       "    <tr>\n",
       "      <th>customerNumber</th>\n",
       "      <td>718987.00</td>\n",
       "      <td>509.37</td>\n",
       "      <td>287.25</td>\n",
       "      <td>1.00</td>\n",
       "      <td>253.00</td>\n",
       "      <td>522.00</td>\n",
       "      <td>746.00</td>\n",
       "      <td>1000.00</td>\n",
       "    </tr>\n",
       "    <tr>\n",
       "      <th>branchNumber</th>\n",
       "      <td>718987.00</td>\n",
       "      <td>48.62</td>\n",
       "      <td>29.36</td>\n",
       "      <td>1.00</td>\n",
       "      <td>25.00</td>\n",
       "      <td>42.00</td>\n",
       "      <td>74.00</td>\n",
       "      <td>101.00</td>\n",
       "    </tr>\n",
       "    <tr>\n",
       "      <th>articleNumber</th>\n",
       "      <td>718987.00</td>\n",
       "      <td>10418.54</td>\n",
       "      <td>6267.80</td>\n",
       "      <td>1.00</td>\n",
       "      <td>4730.00</td>\n",
       "      <td>10207.00</td>\n",
       "      <td>15982.00</td>\n",
       "      <td>21088.00</td>\n",
       "    </tr>\n",
       "    <tr>\n",
       "      <th>quantity</th>\n",
       "      <td>718987.00</td>\n",
       "      <td>15.63</td>\n",
       "      <td>89.42</td>\n",
       "      <td>0.00</td>\n",
       "      <td>1.00</td>\n",
       "      <td>2.00</td>\n",
       "      <td>6.00</td>\n",
       "      <td>13013.00</td>\n",
       "    </tr>\n",
       "    <tr>\n",
       "      <th>discountOnRecommendedRetailPrice[%]</th>\n",
       "      <td>718987.00</td>\n",
       "      <td>3.53</td>\n",
       "      <td>10.93</td>\n",
       "      <td>0.00</td>\n",
       "      <td>0.00</td>\n",
       "      <td>0.00</td>\n",
       "      <td>0.00</td>\n",
       "      <td>100.00</td>\n",
       "    </tr>\n",
       "    <tr>\n",
       "      <th>purchaseAmount</th>\n",
       "      <td>718987.00</td>\n",
       "      <td>123.19</td>\n",
       "      <td>244.96</td>\n",
       "      <td>0.03</td>\n",
       "      <td>21.29</td>\n",
       "      <td>51.96</td>\n",
       "      <td>128.63</td>\n",
       "      <td>24728.52</td>\n",
       "    </tr>\n",
       "  </tbody>\n",
       "</table>\n",
       "</div>"
      ],
      "text/plain": [
       "                                        count     mean     std  min     25%  \\\n",
       "customerNumber                      718987.00   509.37  287.25 1.00  253.00   \n",
       "branchNumber                        718987.00    48.62   29.36 1.00   25.00   \n",
       "articleNumber                       718987.00 10418.54 6267.80 1.00 4730.00   \n",
       "quantity                            718987.00    15.63   89.42 0.00    1.00   \n",
       "discountOnRecommendedRetailPrice[%] 718987.00     3.53   10.93 0.00    0.00   \n",
       "purchaseAmount                      718987.00   123.19  244.96 0.03   21.29   \n",
       "\n",
       "                                         50%      75%      max  \n",
       "customerNumber                        522.00   746.00  1000.00  \n",
       "branchNumber                           42.00    74.00   101.00  \n",
       "articleNumber                       10207.00 15982.00 21088.00  \n",
       "quantity                                2.00     6.00 13013.00  \n",
       "discountOnRecommendedRetailPrice[%]     0.00     0.00   100.00  \n",
       "purchaseAmount                         51.96   128.63 24728.52  "
      ]
     },
     "execution_count": 33,
     "metadata": {},
     "output_type": "execute_result"
    }
   ],
   "source": [
    "factura_df.describe().T"
   ]
  },
  {
   "cell_type": "markdown",
   "id": "67cd03eb",
   "metadata": {},
   "source": [
    "Here we can roughly analyze the data distribution. There are no negative values for quantity in the data set. It can be concluded that the data set does not indicate order cancellation.  "
   ]
  },
  {
   "cell_type": "code",
   "execution_count": 34,
   "id": "82e27113",
   "metadata": {},
   "outputs": [
    {
     "name": "stdout",
     "output_type": "stream",
     "text": [
      "Data shape: (718987, 1)\n",
      "___________________________\n",
      "Data Types:\n",
      "int64      3\n",
      "float64    3\n",
      "object     1\n",
      "Name: Types, dtype: int64\n",
      "___________________________\n"
     ]
    },
    {
     "data": {
      "text/html": [
       "<div>\n",
       "<style scoped>\n",
       "    .dataframe tbody tr th:only-of-type {\n",
       "        vertical-align: middle;\n",
       "    }\n",
       "\n",
       "    .dataframe tbody tr th {\n",
       "        vertical-align: top;\n",
       "    }\n",
       "\n",
       "    .dataframe thead th {\n",
       "        text-align: right;\n",
       "    }\n",
       "</style>\n",
       "<table border=\"1\" class=\"dataframe\">\n",
       "  <thead>\n",
       "    <tr style=\"text-align: right;\">\n",
       "      <th></th>\n",
       "      <th>Types</th>\n",
       "      <th>Counts</th>\n",
       "      <th>Uniques</th>\n",
       "      <th>Nulls</th>\n",
       "      <th>Min</th>\n",
       "      <th>Max</th>\n",
       "    </tr>\n",
       "  </thead>\n",
       "  <tbody>\n",
       "    <tr>\n",
       "      <th>articleNumber</th>\n",
       "      <td>int64</td>\n",
       "      <td>718987</td>\n",
       "      <td>21063</td>\n",
       "      <td>0</td>\n",
       "      <td>1</td>\n",
       "      <td>21088</td>\n",
       "    </tr>\n",
       "    <tr>\n",
       "      <th>branchNumber</th>\n",
       "      <td>int64</td>\n",
       "      <td>718987</td>\n",
       "      <td>101</td>\n",
       "      <td>0</td>\n",
       "      <td>1</td>\n",
       "      <td>101</td>\n",
       "    </tr>\n",
       "    <tr>\n",
       "      <th>customerNumber</th>\n",
       "      <td>int64</td>\n",
       "      <td>718987</td>\n",
       "      <td>1000</td>\n",
       "      <td>0</td>\n",
       "      <td>1</td>\n",
       "      <td>1000</td>\n",
       "    </tr>\n",
       "    <tr>\n",
       "      <th>discountOnRecommendedRetailPrice[%]</th>\n",
       "      <td>float64</td>\n",
       "      <td>718987</td>\n",
       "      <td>7733</td>\n",
       "      <td>0</td>\n",
       "      <td>0.00</td>\n",
       "      <td>100.00</td>\n",
       "    </tr>\n",
       "    <tr>\n",
       "      <th>purchaseAmount</th>\n",
       "      <td>float64</td>\n",
       "      <td>718987</td>\n",
       "      <td>26282</td>\n",
       "      <td>0</td>\n",
       "      <td>0.03</td>\n",
       "      <td>24728.52</td>\n",
       "    </tr>\n",
       "    <tr>\n",
       "      <th>purchaseDate</th>\n",
       "      <td>object</td>\n",
       "      <td>718987</td>\n",
       "      <td>307</td>\n",
       "      <td>0</td>\n",
       "      <td>2021-01-02</td>\n",
       "      <td>2021-12-31</td>\n",
       "    </tr>\n",
       "    <tr>\n",
       "      <th>quantity</th>\n",
       "      <td>float64</td>\n",
       "      <td>718987</td>\n",
       "      <td>1296</td>\n",
       "      <td>0</td>\n",
       "      <td>0.00</td>\n",
       "      <td>13013.00</td>\n",
       "    </tr>\n",
       "  </tbody>\n",
       "</table>\n",
       "</div>"
      ],
      "text/plain": [
       "                                       Types  Counts  Uniques  Nulls  \\\n",
       "articleNumber                          int64  718987    21063      0   \n",
       "branchNumber                           int64  718987      101      0   \n",
       "customerNumber                         int64  718987     1000      0   \n",
       "discountOnRecommendedRetailPrice[%]  float64  718987     7733      0   \n",
       "purchaseAmount                       float64  718987    26282      0   \n",
       "purchaseDate                          object  718987      307      0   \n",
       "quantity                             float64  718987     1296      0   \n",
       "\n",
       "                                            Min         Max  \n",
       "articleNumber                                 1       21088  \n",
       "branchNumber                                  1         101  \n",
       "customerNumber                                1        1000  \n",
       "discountOnRecommendedRetailPrice[%]        0.00      100.00  \n",
       "purchaseAmount                             0.03    24728.52  \n",
       "purchaseDate                         2021-01-02  2021-12-31  \n",
       "quantity                                   0.00    13013.00  "
      ]
     },
     "metadata": {},
     "output_type": "display_data"
    }
   ],
   "source": [
    "# Alternate\n",
    "def summary(factura_df, pred=None):\n",
    "    obs = factura_df.shape[0]\n",
    "    Types = factura_df.dtypes\n",
    "    Counts = factura_df.apply(lambda x: x.count())\n",
    "    Min = factura_df.min()\n",
    "    Max = factura_df.max()\n",
    "    Uniques = factura_df.apply(lambda x: x.unique().shape[0])\n",
    "    Nulls = factura_df.apply(lambda x: x.isnull().sum())\n",
    "    print('Data shape:', df.shape)\n",
    "\n",
    "    if pred is None:\n",
    "        cols = ['Types', 'Counts', 'Uniques', 'Nulls', 'Min', 'Max']\n",
    "        str = pd.concat([Types, Counts, Uniques, Nulls, Min, Max], axis = 1, sort=True)\n",
    "\n",
    "    str.columns = cols\n",
    "    print('___________________________\\nData Types:')\n",
    "    print(str.Types.value_counts())\n",
    "    print('___________________________')\n",
    "    return str\n",
    "\n",
    "display(summary(factura_df).sort_values(by='Nulls', ascending=False))"
   ]
  },
  {
   "cell_type": "markdown",
   "id": "70667730",
   "metadata": {},
   "source": [
    "The number of unique values of the features is important. Reducing the number of unique values is an optimisation technique used to improve the performance of artificial intelligence algorithms. The number of rows is 718987 for this data set. Unique values close to this value can be evaluated in this context."
   ]
  },
  {
   "cell_type": "code",
   "execution_count": null,
   "id": "c93577b5",
   "metadata": {},
   "outputs": [],
   "source": []
  },
  {
   "cell_type": "markdown",
   "id": "e1e8eb32",
   "metadata": {},
   "source": [
    "## Grouping data for the purpose of presentation from different perspectives"
   ]
  },
  {
   "cell_type": "code",
   "execution_count": 30,
   "id": "2db81e59",
   "metadata": {},
   "outputs": [
    {
     "data": {
      "text/plain": [
       "customerNumber\n",
       "1      163038.39\n",
       "2       33761.03\n",
       "3      179604.73\n",
       "4       72671.85\n",
       "5       39094.91\n",
       "          ...   \n",
       "996     48100.19\n",
       "997     36209.25\n",
       "998    174450.06\n",
       "999     75466.64\n",
       "1000    90070.19\n",
       "Name: purchaseAmount, Length: 1000, dtype: float64"
      ]
     },
     "execution_count": 30,
     "metadata": {},
     "output_type": "execute_result"
    }
   ],
   "source": [
    "pd.set_option('display.float_format', lambda x: '%.2f' % x)\n",
    "factura_df.groupby(\"customerNumber\").purchaseAmount.sum()"
   ]
  },
  {
   "cell_type": "code",
   "execution_count": 32,
   "id": "d82e0821",
   "metadata": {},
   "outputs": [
    {
     "data": {
      "text/plain": [
       "<AxesSubplot:xlabel='customerNumber'>"
      ]
     },
     "execution_count": 32,
     "metadata": {},
     "output_type": "execute_result"
    },
    {
     "data": {
      "image/png": "[encoded data removed]",
      "text/plain": [
       "<Figure size 864x576 with 1 Axes>"
      ]
     },
     "metadata": {
      "needs_background": "light"
     },
     "output_type": "display_data"
    }
   ],
   "source": [
    "plt.figure(figsize=(12,8))\n",
    "factura_df.groupby(\"customerNumber\").purchaseAmount.sum().plot(kind=\"bar\")"
   ]
  },
  {
   "cell_type": "markdown",
   "id": "d7484fbe",
   "metadata": {},
   "source": [
    "Where the totals of the purchase amount are grouped by customers. The top ten customers who make the most purchases can be an important piece of information."
   ]
  },
  {
   "cell_type": "code",
   "execution_count": 40,
   "id": "b3ad5076",
   "metadata": {},
   "outputs": [
    {
     "data": {
      "text/plain": [
       "267.789"
      ]
     },
     "execution_count": 40,
     "metadata": {},
     "output_type": "execute_result"
    }
   ],
   "source": [
    "factura_df.groupby(\"customerNumber\").articleNumber.nunique().mean()"
   ]
  },
  {
   "cell_type": "markdown",
   "id": "ae8098e1",
   "metadata": {},
   "source": [
    "This value show us the average number of unqiue items per customer."
   ]
  },
  {
   "cell_type": "code",
   "execution_count": 41,
   "id": "e9baef7f",
   "metadata": {},
   "outputs": [
    {
     "data": {
      "text/plain": [
       "customerNumber\n",
       "1       224\n",
       "2       200\n",
       "3       299\n",
       "4       214\n",
       "5       159\n",
       "       ... \n",
       "996     189\n",
       "997     250\n",
       "998     285\n",
       "999     199\n",
       "1000    270\n",
       "Name: articleNumber, Length: 1000, dtype: int64"
      ]
     },
     "execution_count": 41,
     "metadata": {},
     "output_type": "execute_result"
    }
   ],
   "source": [
    "factura_df.groupby(\"customerNumber\").articleNumber.nunique()"
   ]
  },
  {
   "cell_type": "code",
   "execution_count": null,
   "id": "df287cde",
   "metadata": {},
   "outputs": [],
   "source": [
    "You can see number of unqiue items per customer."
   ]
  },
  {
   "cell_type": "code",
   "execution_count": null,
   "id": "2b952645",
   "metadata": {},
   "outputs": [],
   "source": []
  },
  {
   "cell_type": "code",
   "execution_count": null,
   "id": "4bb21a90",
   "metadata": {},
   "outputs": [],
   "source": []
  },
  {
   "cell_type": "code",
   "execution_count": 35,
   "id": "ec19cad7",
   "metadata": {},
   "outputs": [
    {
     "data": {
      "text/html": [
       "<div>\n",
       "<style scoped>\n",
       "    .dataframe tbody tr th:only-of-type {\n",
       "        vertical-align: middle;\n",
       "    }\n",
       "\n",
       "    .dataframe tbody tr th {\n",
       "        vertical-align: top;\n",
       "    }\n",
       "\n",
       "    .dataframe thead th {\n",
       "        text-align: right;\n",
       "    }\n",
       "</style>\n",
       "<table border=\"1\" class=\"dataframe\">\n",
       "  <thead>\n",
       "    <tr style=\"text-align: right;\">\n",
       "      <th></th>\n",
       "      <th>customerNumber</th>\n",
       "      <th>purchaseDate</th>\n",
       "      <th>branchNumber</th>\n",
       "      <th>articleNumber</th>\n",
       "      <th>quantity</th>\n",
       "      <th>discountOnRecommendedRetailPrice[%]</th>\n",
       "      <th>purchaseAmount</th>\n",
       "    </tr>\n",
       "  </thead>\n",
       "  <tbody>\n",
       "    <tr>\n",
       "      <th>0</th>\n",
       "      <td>557</td>\n",
       "      <td>2021-01-04</td>\n",
       "      <td>19</td>\n",
       "      <td>6013</td>\n",
       "      <td>1.00</td>\n",
       "      <td>0.00</td>\n",
       "      <td>17.24</td>\n",
       "    </tr>\n",
       "    <tr>\n",
       "      <th>1</th>\n",
       "      <td>557</td>\n",
       "      <td>2021-01-04</td>\n",
       "      <td>19</td>\n",
       "      <td>6663</td>\n",
       "      <td>2.00</td>\n",
       "      <td>8.37</td>\n",
       "      <td>94.96</td>\n",
       "    </tr>\n",
       "    <tr>\n",
       "      <th>2</th>\n",
       "      <td>189</td>\n",
       "      <td>2021-01-04</td>\n",
       "      <td>17</td>\n",
       "      <td>2982</td>\n",
       "      <td>2.00</td>\n",
       "      <td>32.23</td>\n",
       "      <td>59.96</td>\n",
       "    </tr>\n",
       "    <tr>\n",
       "      <th>3</th>\n",
       "      <td>490</td>\n",
       "      <td>2021-01-04</td>\n",
       "      <td>19</td>\n",
       "      <td>10658</td>\n",
       "      <td>1.00</td>\n",
       "      <td>25.04</td>\n",
       "      <td>24.05</td>\n",
       "    </tr>\n",
       "    <tr>\n",
       "      <th>4</th>\n",
       "      <td>896</td>\n",
       "      <td>2021-01-04</td>\n",
       "      <td>36</td>\n",
       "      <td>14971</td>\n",
       "      <td>3.00</td>\n",
       "      <td>0.00</td>\n",
       "      <td>26.69</td>\n",
       "    </tr>\n",
       "  </tbody>\n",
       "</table>\n",
       "</div>"
      ],
      "text/plain": [
       "   customerNumber purchaseDate  branchNumber  articleNumber  quantity  \\\n",
       "0             557   2021-01-04            19           6013      1.00   \n",
       "1             557   2021-01-04            19           6663      2.00   \n",
       "2             189   2021-01-04            17           2982      2.00   \n",
       "3             490   2021-01-04            19          10658      1.00   \n",
       "4             896   2021-01-04            36          14971      3.00   \n",
       "\n",
       "   discountOnRecommendedRetailPrice[%]  purchaseAmount  \n",
       "0                                 0.00           17.24  \n",
       "1                                 8.37           94.96  \n",
       "2                                32.23           59.96  \n",
       "3                                25.04           24.05  \n",
       "4                                 0.00           26.69  "
      ]
     },
     "execution_count": 35,
     "metadata": {},
     "output_type": "execute_result"
    }
   ],
   "source": [
    "factura_df.head()"
   ]
  },
  {
   "cell_type": "code",
   "execution_count": null,
   "id": "3b3ccdc2",
   "metadata": {},
   "outputs": [],
   "source": []
  },
  {
   "cell_type": "markdown",
   "id": "663290c9",
   "metadata": {},
   "source": [
    "# 2. RFM Analysis"
   ]
  },
  {
   "cell_type": "markdown",
   "id": "3e0e5714",
   "metadata": {},
   "source": [
    "In the age of the internet and e-commerce, companies that do not expand their businesses online or utilize digital tools to reach their customers will run into issues like scalability and a lack of digital precsence. An important marketing strategy e-commerce businesses use for analyzing and predicting customer value is customer segmentation. Customer data is used to sort customers into group based on their behaviors and preferences.\n",
    "\n",
    "**[RFM](https://www.putler.com/rfm-analysis/) (Recency, Frequency, Monetary) Analysis** is a customer segmentation technique for analyzing customer value based on past buying behavior. RFM analysis was first used by the direct mail industry more than four decades ago, yet it is still an effective way to optimize your marketing.\n",
    "<br>\n",
    "<br>\n",
    "Our goal in this Notebook is to cluster the customers in our data set to:\n",
    " - Recognize who are our most valuable customers\n",
    " - Increase revenue\n",
    " - Increase customer retention\n",
    " - Learn more about the trends and behaviors of our customers\n",
    " - Define customers that are at risk\n",
    "\n",
    "We will start with **RFM Analysis** and then compliment our findings with predictive analysis using **K-Means Clustering Algorithms.**\n",
    "\n",
    "- RECENCY (R): Time since last purchase\n",
    "- FREQUENCY (F): Total number of purchases\n",
    "- MONETARY VALUE (M): Total monetary value\n",
    "\n",
    "\n",
    "\n",
    "\n",
    "Benefits of RFM Analysis\n",
    "\n",
    "- Increased customer retention\n",
    "- Increased response rate\n",
    "- Increased conversion rate\n",
    "- Increased revenue\n",
    "\n",
    "RFM Analysis answers the following questions:\n",
    " - Who are our best customers?\n",
    " - Who has the potential to be converted into more profitable customers?\n",
    " - Which customers do we need to retain?\n",
    " - Which group of customers is most likely to respond to our marketing campaign?"
   ]
  },
  {
   "cell_type": "code",
   "execution_count": 42,
   "id": "52f00364",
   "metadata": {},
   "outputs": [
    {
     "name": "stdout",
     "output_type": "stream",
     "text": [
      "Min:2021-01-02; Max:2021-12-31\n"
     ]
    }
   ],
   "source": [
    "#Finding min and max days\n",
    "print('Min:{}; Max:{}'.format(min(factura_df.purchaseDate), max(factura_df.purchaseDate)))"
   ]
  },
  {
   "cell_type": "code",
   "execution_count": 44,
   "id": "70dc0afa",
   "metadata": {},
   "outputs": [],
   "source": [
    "import datetime\n",
    "NOW = datetime.datetime(2023,3,31)"
   ]
  },
  {
   "cell_type": "code",
   "execution_count": 51,
   "id": "00b1e9bd",
   "metadata": {},
   "outputs": [],
   "source": [
    "factura_df['purchaseDate'] =  pd.to_datetime(factura_df['purchaseDate'])"
   ]
  },
  {
   "cell_type": "code",
   "execution_count": 54,
   "id": "02c4dec2",
   "metadata": {},
   "outputs": [
    {
     "data": {
      "text/html": [
       "<div>\n",
       "<style scoped>\n",
       "    .dataframe tbody tr th:only-of-type {\n",
       "        vertical-align: middle;\n",
       "    }\n",
       "\n",
       "    .dataframe tbody tr th {\n",
       "        vertical-align: top;\n",
       "    }\n",
       "\n",
       "    .dataframe thead th {\n",
       "        text-align: right;\n",
       "    }\n",
       "</style>\n",
       "<table border=\"1\" class=\"dataframe\">\n",
       "  <thead>\n",
       "    <tr style=\"text-align: right;\">\n",
       "      <th></th>\n",
       "      <th>Recency</th>\n",
       "      <th>Frequency</th>\n",
       "      <th>MonetaryValue</th>\n",
       "    </tr>\n",
       "    <tr>\n",
       "      <th>customerNumber</th>\n",
       "      <th></th>\n",
       "      <th></th>\n",
       "      <th></th>\n",
       "    </tr>\n",
       "  </thead>\n",
       "  <tbody>\n",
       "    <tr>\n",
       "      <th>1</th>\n",
       "      <td>457</td>\n",
       "      <td>465</td>\n",
       "      <td>163038.39</td>\n",
       "    </tr>\n",
       "    <tr>\n",
       "      <th>2</th>\n",
       "      <td>457</td>\n",
       "      <td>425</td>\n",
       "      <td>33761.03</td>\n",
       "    </tr>\n",
       "    <tr>\n",
       "      <th>3</th>\n",
       "      <td>465</td>\n",
       "      <td>1351</td>\n",
       "      <td>179604.73</td>\n",
       "    </tr>\n",
       "    <tr>\n",
       "      <th>4</th>\n",
       "      <td>456</td>\n",
       "      <td>423</td>\n",
       "      <td>72671.85</td>\n",
       "    </tr>\n",
       "    <tr>\n",
       "      <th>5</th>\n",
       "      <td>465</td>\n",
       "      <td>436</td>\n",
       "      <td>39094.91</td>\n",
       "    </tr>\n",
       "    <tr>\n",
       "      <th>6</th>\n",
       "      <td>456</td>\n",
       "      <td>418</td>\n",
       "      <td>42451.10</td>\n",
       "    </tr>\n",
       "    <tr>\n",
       "      <th>7</th>\n",
       "      <td>457</td>\n",
       "      <td>485</td>\n",
       "      <td>70876.08</td>\n",
       "    </tr>\n",
       "  </tbody>\n",
       "</table>\n",
       "</div>"
      ],
      "text/plain": [
       "                Recency  Frequency  MonetaryValue\n",
       "customerNumber                                   \n",
       "1                   457        465      163038.39\n",
       "2                   457        425       33761.03\n",
       "3                   465       1351      179604.73\n",
       "4                   456        423       72671.85\n",
       "5                   465        436       39094.91\n",
       "6                   456        418       42451.10\n",
       "7                   457        485       70876.08"
      ]
     },
     "execution_count": 54,
     "metadata": {},
     "output_type": "execute_result"
    }
   ],
   "source": [
    "#Creating a dataframe (rfm) for rfm analysis\n",
    "rfm = factura_df.groupby(['customerNumber']).agg({\n",
    "    'purchaseDate': lambda x: (NOW - x.max()).days,\n",
    "    'articleNumber': 'count',\n",
    "    'purchaseAmount': 'sum'})\n",
    "\n",
    "# Rename the columns \n",
    "rfm.rename(columns={'purchaseDate': 'Recency',\n",
    "                         'articleNumber': 'Frequency',\n",
    "                         'purchaseAmount': 'MonetaryValue'}, inplace=True)\n",
    "rfm.head(7)"
   ]
  },
  {
   "cell_type": "code",
   "execution_count": 55,
   "id": "dd0beb90",
   "metadata": {},
   "outputs": [],
   "source": [
    "#Creating 4 division for rfm levels\n",
    "\n",
    "r_labels = range(4, 0,-1); f_labels = range(1, 5); m_labels = range(1, 5)\n",
    "\n",
    "r_groups = pd.qcut(rfm['Recency'], q=4, labels=r_labels)\n",
    "\n",
    "f_groups = pd.qcut(rfm['Frequency'], q=4, labels=f_labels)\n",
    "\n",
    "m_groups = pd.qcut(rfm['MonetaryValue'], q=4, labels=m_labels)\n",
    "\n",
    "rfm = rfm.assign(R=r_groups.values, F=f_groups.values, M=m_groups.values)\n",
    "\n",
    "rfm['RFM_Score'] = rfm[['R','F','M']].sum(axis=1)"
   ]
  },
  {
   "cell_type": "code",
   "execution_count": 56,
   "id": "97fce1ca",
   "metadata": {},
   "outputs": [
    {
     "data": {
      "text/html": [
       "<div>\n",
       "<style scoped>\n",
       "    .dataframe tbody tr th:only-of-type {\n",
       "        vertical-align: middle;\n",
       "    }\n",
       "\n",
       "    .dataframe tbody tr th {\n",
       "        vertical-align: top;\n",
       "    }\n",
       "\n",
       "    .dataframe thead th {\n",
       "        text-align: right;\n",
       "    }\n",
       "</style>\n",
       "<table border=\"1\" class=\"dataframe\">\n",
       "  <thead>\n",
       "    <tr style=\"text-align: right;\">\n",
       "      <th></th>\n",
       "      <th>Recency</th>\n",
       "      <th>Frequency</th>\n",
       "      <th>MonetaryValue</th>\n",
       "      <th>R</th>\n",
       "      <th>F</th>\n",
       "      <th>M</th>\n",
       "      <th>RFM_Score</th>\n",
       "    </tr>\n",
       "    <tr>\n",
       "      <th>customerNumber</th>\n",
       "      <th></th>\n",
       "      <th></th>\n",
       "      <th></th>\n",
       "      <th></th>\n",
       "      <th></th>\n",
       "      <th></th>\n",
       "      <th></th>\n",
       "    </tr>\n",
       "  </thead>\n",
       "  <tbody>\n",
       "    <tr>\n",
       "      <th>1</th>\n",
       "      <td>457</td>\n",
       "      <td>465</td>\n",
       "      <td>163038.39</td>\n",
       "      <td>3</td>\n",
       "      <td>1</td>\n",
       "      <td>4</td>\n",
       "      <td>8</td>\n",
       "    </tr>\n",
       "    <tr>\n",
       "      <th>2</th>\n",
       "      <td>457</td>\n",
       "      <td>425</td>\n",
       "      <td>33761.03</td>\n",
       "      <td>3</td>\n",
       "      <td>1</td>\n",
       "      <td>1</td>\n",
       "      <td>5</td>\n",
       "    </tr>\n",
       "    <tr>\n",
       "      <th>3</th>\n",
       "      <td>465</td>\n",
       "      <td>1351</td>\n",
       "      <td>179604.73</td>\n",
       "      <td>1</td>\n",
       "      <td>4</td>\n",
       "      <td>4</td>\n",
       "      <td>9</td>\n",
       "    </tr>\n",
       "    <tr>\n",
       "      <th>4</th>\n",
       "      <td>456</td>\n",
       "      <td>423</td>\n",
       "      <td>72671.85</td>\n",
       "      <td>4</td>\n",
       "      <td>1</td>\n",
       "      <td>3</td>\n",
       "      <td>8</td>\n",
       "    </tr>\n",
       "    <tr>\n",
       "      <th>5</th>\n",
       "      <td>465</td>\n",
       "      <td>436</td>\n",
       "      <td>39094.91</td>\n",
       "      <td>1</td>\n",
       "      <td>1</td>\n",
       "      <td>1</td>\n",
       "      <td>3</td>\n",
       "    </tr>\n",
       "  </tbody>\n",
       "</table>\n",
       "</div>"
      ],
      "text/plain": [
       "                Recency  Frequency  MonetaryValue  R  F  M  RFM_Score\n",
       "customerNumber                                                       \n",
       "1                   457        465      163038.39  3  1  4          8\n",
       "2                   457        425       33761.03  3  1  1          5\n",
       "3                   465       1351      179604.73  1  4  4          9\n",
       "4                   456        423       72671.85  4  1  3          8\n",
       "5                   465        436       39094.91  1  1  1          3"
      ]
     },
     "execution_count": 56,
     "metadata": {},
     "output_type": "execute_result"
    }
   ],
   "source": [
    "rfm.head(5)"
   ]
  },
  {
   "cell_type": "code",
   "execution_count": 57,
   "id": "9a0109e3",
   "metadata": {},
   "outputs": [
    {
     "data": {
      "text/html": [
       "<div>\n",
       "<style scoped>\n",
       "    .dataframe tbody tr th:only-of-type {\n",
       "        vertical-align: middle;\n",
       "    }\n",
       "\n",
       "    .dataframe tbody tr th {\n",
       "        vertical-align: top;\n",
       "    }\n",
       "\n",
       "    .dataframe thead th {\n",
       "        text-align: right;\n",
       "    }\n",
       "</style>\n",
       "<table border=\"1\" class=\"dataframe\">\n",
       "  <thead>\n",
       "    <tr style=\"text-align: right;\">\n",
       "      <th></th>\n",
       "      <th>Recency</th>\n",
       "      <th>Frequency</th>\n",
       "      <th>MonetaryValue</th>\n",
       "      <th>R</th>\n",
       "      <th>F</th>\n",
       "      <th>M</th>\n",
       "      <th>RFM_Score</th>\n",
       "      <th>RFM_Level</th>\n",
       "    </tr>\n",
       "    <tr>\n",
       "      <th>customerNumber</th>\n",
       "      <th></th>\n",
       "      <th></th>\n",
       "      <th></th>\n",
       "      <th></th>\n",
       "      <th></th>\n",
       "      <th></th>\n",
       "      <th></th>\n",
       "      <th></th>\n",
       "    </tr>\n",
       "  </thead>\n",
       "  <tbody>\n",
       "    <tr>\n",
       "      <th>160</th>\n",
       "      <td>463</td>\n",
       "      <td>449</td>\n",
       "      <td>71403.35</td>\n",
       "      <td>2</td>\n",
       "      <td>1</td>\n",
       "      <td>3</td>\n",
       "      <td>6</td>\n",
       "      <td>Low</td>\n",
       "    </tr>\n",
       "    <tr>\n",
       "      <th>760</th>\n",
       "      <td>464</td>\n",
       "      <td>1243</td>\n",
       "      <td>184761.87</td>\n",
       "      <td>1</td>\n",
       "      <td>4</td>\n",
       "      <td>4</td>\n",
       "      <td>9</td>\n",
       "      <td>High</td>\n",
       "    </tr>\n",
       "    <tr>\n",
       "      <th>630</th>\n",
       "      <td>458</td>\n",
       "      <td>435</td>\n",
       "      <td>53184.58</td>\n",
       "      <td>3</td>\n",
       "      <td>1</td>\n",
       "      <td>2</td>\n",
       "      <td>6</td>\n",
       "      <td>Low</td>\n",
       "    </tr>\n",
       "    <tr>\n",
       "      <th>597</th>\n",
       "      <td>457</td>\n",
       "      <td>475</td>\n",
       "      <td>37702.54</td>\n",
       "      <td>3</td>\n",
       "      <td>2</td>\n",
       "      <td>1</td>\n",
       "      <td>6</td>\n",
       "      <td>Low</td>\n",
       "    </tr>\n",
       "    <tr>\n",
       "      <th>115</th>\n",
       "      <td>476</td>\n",
       "      <td>640</td>\n",
       "      <td>196956.60</td>\n",
       "      <td>1</td>\n",
       "      <td>3</td>\n",
       "      <td>4</td>\n",
       "      <td>8</td>\n",
       "      <td>Middle</td>\n",
       "    </tr>\n",
       "  </tbody>\n",
       "</table>\n",
       "</div>"
      ],
      "text/plain": [
       "                Recency  Frequency  MonetaryValue  R  F  M  RFM_Score  \\\n",
       "customerNumber                                                          \n",
       "160                 463        449       71403.35  2  1  3          6   \n",
       "760                 464       1243      184761.87  1  4  4          9   \n",
       "630                 458        435       53184.58  3  1  2          6   \n",
       "597                 457        475       37702.54  3  2  1          6   \n",
       "115                 476        640      196956.60  1  3  4          8   \n",
       "\n",
       "               RFM_Level  \n",
       "customerNumber            \n",
       "160                  Low  \n",
       "760                 High  \n",
       "630                  Low  \n",
       "597                  Low  \n",
       "115               Middle  "
      ]
     },
     "execution_count": 57,
     "metadata": {},
     "output_type": "execute_result"
    }
   ],
   "source": [
    "score_labels = ['Low', 'Middle', 'High', \"Top Class\"]\n",
    "score_groups = pd.qcut(rfm.RFM_Score, q = 4, labels = score_labels)\n",
    "rfm['RFM_Level'] = score_groups.values\n",
    "\n",
    "rfm.sample(5)"
   ]
  },
  {
   "cell_type": "code",
   "execution_count": 58,
   "id": "847efc1b",
   "metadata": {},
   "outputs": [
    {
     "name": "stdout",
     "output_type": "stream",
     "text": [
      "          Recency Frequency MonetaryValue      \n",
      "             mean      mean          mean count\n",
      "RFM_Level                                      \n",
      "Low        463.80    476.60      50874.50   322\n",
      "Middle     458.90    580.00      72075.60   278\n",
      "High       458.10    802.70     107826.00   258\n",
      "Top Class  456.00   1388.50     171344.00   142\n"
     ]
    }
   ],
   "source": [
    "rfm_level_agg = rfm.groupby('RFM_Level').agg({\n",
    "    'Recency': 'mean',\n",
    "    'Frequency': 'mean',\n",
    "    'MonetaryValue': ['mean', 'count']}).round(1)\n",
    "print(rfm_level_agg)"
   ]
  },
  {
   "cell_type": "code",
   "execution_count": null,
   "id": "c61afbd3",
   "metadata": {},
   "outputs": [],
   "source": []
  },
  {
   "cell_type": "code",
   "execution_count": null,
   "id": "8be59bcd",
   "metadata": {},
   "outputs": [],
   "source": []
  },
  {
   "cell_type": "code",
   "execution_count": 46,
   "id": "610a64c6",
   "metadata": {},
   "outputs": [
    {
     "data": {
      "text/html": [
       "<div>\n",
       "<style scoped>\n",
       "    .dataframe tbody tr th:only-of-type {\n",
       "        vertical-align: middle;\n",
       "    }\n",
       "\n",
       "    .dataframe tbody tr th {\n",
       "        vertical-align: top;\n",
       "    }\n",
       "\n",
       "    .dataframe thead th {\n",
       "        text-align: right;\n",
       "    }\n",
       "</style>\n",
       "<table border=\"1\" class=\"dataframe\">\n",
       "  <thead>\n",
       "    <tr style=\"text-align: right;\">\n",
       "      <th></th>\n",
       "      <th>customerNumber</th>\n",
       "      <th>purchaseDate</th>\n",
       "      <th>branchNumber</th>\n",
       "      <th>articleNumber</th>\n",
       "      <th>quantity</th>\n",
       "      <th>discountOnRecommendedRetailPrice[%]</th>\n",
       "      <th>purchaseAmount</th>\n",
       "    </tr>\n",
       "  </thead>\n",
       "  <tbody>\n",
       "    <tr>\n",
       "      <th>0</th>\n",
       "      <td>557</td>\n",
       "      <td>2021-01-04</td>\n",
       "      <td>19</td>\n",
       "      <td>6013</td>\n",
       "      <td>1.00</td>\n",
       "      <td>0.00</td>\n",
       "      <td>17.24</td>\n",
       "    </tr>\n",
       "    <tr>\n",
       "      <th>1</th>\n",
       "      <td>557</td>\n",
       "      <td>2021-01-04</td>\n",
       "      <td>19</td>\n",
       "      <td>6663</td>\n",
       "      <td>2.00</td>\n",
       "      <td>8.37</td>\n",
       "      <td>94.96</td>\n",
       "    </tr>\n",
       "    <tr>\n",
       "      <th>2</th>\n",
       "      <td>189</td>\n",
       "      <td>2021-01-04</td>\n",
       "      <td>17</td>\n",
       "      <td>2982</td>\n",
       "      <td>2.00</td>\n",
       "      <td>32.23</td>\n",
       "      <td>59.96</td>\n",
       "    </tr>\n",
       "    <tr>\n",
       "      <th>3</th>\n",
       "      <td>490</td>\n",
       "      <td>2021-01-04</td>\n",
       "      <td>19</td>\n",
       "      <td>10658</td>\n",
       "      <td>1.00</td>\n",
       "      <td>25.04</td>\n",
       "      <td>24.05</td>\n",
       "    </tr>\n",
       "    <tr>\n",
       "      <th>4</th>\n",
       "      <td>896</td>\n",
       "      <td>2021-01-04</td>\n",
       "      <td>36</td>\n",
       "      <td>14971</td>\n",
       "      <td>3.00</td>\n",
       "      <td>0.00</td>\n",
       "      <td>26.69</td>\n",
       "    </tr>\n",
       "  </tbody>\n",
       "</table>\n",
       "</div>"
      ],
      "text/plain": [
       "   customerNumber purchaseDate  branchNumber  articleNumber  quantity  \\\n",
       "0             557   2021-01-04            19           6013      1.00   \n",
       "1             557   2021-01-04            19           6663      2.00   \n",
       "2             189   2021-01-04            17           2982      2.00   \n",
       "3             490   2021-01-04            19          10658      1.00   \n",
       "4             896   2021-01-04            36          14971      3.00   \n",
       "\n",
       "   discountOnRecommendedRetailPrice[%]  purchaseAmount  \n",
       "0                                 0.00           17.24  \n",
       "1                                 8.37           94.96  \n",
       "2                                32.23           59.96  \n",
       "3                                25.04           24.05  \n",
       "4                                 0.00           26.69  "
      ]
     },
     "execution_count": 46,
     "metadata": {},
     "output_type": "execute_result"
    }
   ],
   "source": [
    "factura_df.head()"
   ]
  },
  {
   "cell_type": "code",
   "execution_count": null,
   "id": "fe54b3c6",
   "metadata": {},
   "outputs": [],
   "source": []
  }
 ],
 "metadata": {
  "kernelspec": {
   "display_name": "Python 3",
   "language": "python",
   "name": "python3"
  },
  "language_info": {
   "codemirror_mode": {
    "name": "ipython",
    "version": 3
   },
   "file_extension": ".py",
   "mimetype": "text/x-python",
   "name": "python",
   "nbconvert_exporter": "python",
   "pygments_lexer": "ipython3",
   "version": "3.8.8"
  }
 },
 "nbformat": 4,
 "nbformat_minor": 5
}
