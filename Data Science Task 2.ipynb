{
 "cells": [
  {
   "cell_type": "markdown",
   "id": "fd8c7448",
   "metadata": {},
   "source": [
    "# Data Science Task 2"
   ]
  },
  {
   "cell_type": "markdown",
   "id": "2afb3701",
   "metadata": {},
   "source": [
    "This is a segmentation task that uses company sales data as the data basis. In this task, customers are to be divided into segments based on their purchasing behavior (customer segmentation). The main task is to identify relevant patterns in the purchasing behavior of customers. Several segmentation solutions are possible. The ones of particular importance to the company are those that are associated with a gain in customer insight, with implications for revenue and profit growth.\n",
    "\n",
    "In general, a customer segmentation is carried out so that customers can be addressed in a targeted manner or in order to offer suitable products and services to the customer. **Meaningful** differentiation criteria for the company would be the customer price sensitivity, the assortment mix (similarity of the articles purchased by the customer), seasonal buying behavior of the customer, etc."
   ]
  },
  {
   "cell_type": "markdown",
   "id": "d75bf7f1",
   "metadata": {},
   "source": [
    "## Goal of this task"
   ]
  },
  {
   "cell_type": "markdown",
   "id": "cad4504f",
   "metadata": {},
   "source": [
    "Write a small program that divides customers into customer groups based on their purchasing behavior. Use a suitable, respectively preferred programming language (Python, Matlab, R) or library. You are welcome to use notebooks (e.g., Jupyter Notebook) for the purpose of writing and documenting your code.\n",
    "\n",
    "For this task several solutions are possible. Therefore, it is important to document the program code. A logging of a progress, function and error report provides extra points in evaluation.\n",
    "Use company sales data as data basis."
   ]
  },
  {
   "cell_type": "markdown",
   "id": "33e64430",
   "metadata": {},
   "source": [
    "# Scores:"
   ]
  },
  {
   "cell_type": "markdown",
   "id": "5bdb790a",
   "metadata": {},
   "source": [
    "- Final segmentation of customers. The code should be clean, understandable and sufficiently commented. (**50 points**)\n",
    "\n",
    "- Adequate comments and user instructions. All necessary means (e.g. extra libraries to be installed) to run the program (**10 points**).\n",
    "\n",
    "- Graphical representation and interpretation of the final solution (your created customer segmentation) (**15 points**)\n",
    "\n",
    "- Logging of your progress, function and error report (**25 points**)\n",
    "\n",
    "Total **100 points**"
   ]
  },
  {
   "cell_type": "code",
   "execution_count": 61,
   "id": "7355a715",
   "metadata": {},
   "outputs": [],
   "source": [
    "%matplotlib inline\n",
    "import os\n",
    "import glob\n",
    "import numpy as np\n",
    "import seaborn as sns\n",
    "\n",
    "from datetime import datetime\n",
    "import locale\n",
    "locale.setlocale(locale.LC_ALL, \"german\")\n",
    "\n",
    "from scipy import io\n",
    "import matplotlib.pyplot as plt\n",
    "import pandas as pd"
   ]
  },
  {
   "cell_type": "markdown",
   "id": "a8b3aca3",
   "metadata": {},
   "source": [
    "# 1. Data Cleaning & Exploratory Data Analysis"
   ]
  },
  {
   "cell_type": "markdown",
   "id": "12c794bb",
   "metadata": {},
   "source": [
    "## Import Modules, Load Data & Data Review"
   ]
  },
  {
   "cell_type": "code",
   "execution_count": 113,
   "id": "c6c0d1cb",
   "metadata": {},
   "outputs": [
    {
     "data": {
      "text/plain": [
       "customerNumber                           int64\n",
       "purchaseDate                            object\n",
       "branchNumber                             int64\n",
       "articleNumber                            int64\n",
       "quantity                               float64\n",
       "discountOnRecommendedRetailPrice[%]    float64\n",
       "purchaseAmount                         float64\n",
       "dtype: object"
      ]
     },
     "execution_count": 113,
     "metadata": {},
     "output_type": "execute_result"
    }
   ],
   "source": [
    "### Import factura data as data frame ###\n",
    "# The file \"DataScienceAufgabe2_FacturaData\" is located in folder \"/DataScienceAufgabe2/Data/\".\n",
    "# In order to use it in jupyter notebook you have to upload it (See \"Upload\" Button in http://localhost:8889/tree) )\n",
    "\n",
    "factura_df = pd.read_csv(\"DataScienceAufgabe2_FacturaData.csv\", encoding=\"iso-8859-1\", decimal=\",\", sep=\";\")\n",
    "# Get column overview\n",
    "factura_df.dtypes"
   ]
  },
  {
   "cell_type": "code",
   "execution_count": 114,
   "id": "b3430f8d",
   "metadata": {},
   "outputs": [
    {
     "data": {
      "text/html": [
       "<div>\n",
       "<style scoped>\n",
       "    .dataframe tbody tr th:only-of-type {\n",
       "        vertical-align: middle;\n",
       "    }\n",
       "\n",
       "    .dataframe tbody tr th {\n",
       "        vertical-align: top;\n",
       "    }\n",
       "\n",
       "    .dataframe thead th {\n",
       "        text-align: right;\n",
       "    }\n",
       "</style>\n",
       "<table border=\"1\" class=\"dataframe\">\n",
       "  <thead>\n",
       "    <tr style=\"text-align: right;\">\n",
       "      <th></th>\n",
       "      <th>customerNumber</th>\n",
       "      <th>purchaseDate</th>\n",
       "      <th>branchNumber</th>\n",
       "      <th>articleNumber</th>\n",
       "      <th>quantity</th>\n",
       "      <th>discountOnRecommendedRetailPrice[%]</th>\n",
       "      <th>purchaseAmount</th>\n",
       "    </tr>\n",
       "  </thead>\n",
       "  <tbody>\n",
       "    <tr>\n",
       "      <th>0</th>\n",
       "      <td>557</td>\n",
       "      <td>2021-01-04</td>\n",
       "      <td>19</td>\n",
       "      <td>6013</td>\n",
       "      <td>1.00</td>\n",
       "      <td>0.00</td>\n",
       "      <td>17.24</td>\n",
       "    </tr>\n",
       "    <tr>\n",
       "      <th>1</th>\n",
       "      <td>557</td>\n",
       "      <td>2021-01-04</td>\n",
       "      <td>19</td>\n",
       "      <td>6663</td>\n",
       "      <td>2.00</td>\n",
       "      <td>8.37</td>\n",
       "      <td>94.96</td>\n",
       "    </tr>\n",
       "    <tr>\n",
       "      <th>2</th>\n",
       "      <td>189</td>\n",
       "      <td>2021-01-04</td>\n",
       "      <td>17</td>\n",
       "      <td>2982</td>\n",
       "      <td>2.00</td>\n",
       "      <td>32.23</td>\n",
       "      <td>59.96</td>\n",
       "    </tr>\n",
       "    <tr>\n",
       "      <th>3</th>\n",
       "      <td>490</td>\n",
       "      <td>2021-01-04</td>\n",
       "      <td>19</td>\n",
       "      <td>10658</td>\n",
       "      <td>1.00</td>\n",
       "      <td>25.04</td>\n",
       "      <td>24.05</td>\n",
       "    </tr>\n",
       "    <tr>\n",
       "      <th>4</th>\n",
       "      <td>896</td>\n",
       "      <td>2021-01-04</td>\n",
       "      <td>36</td>\n",
       "      <td>14971</td>\n",
       "      <td>3.00</td>\n",
       "      <td>0.00</td>\n",
       "      <td>26.69</td>\n",
       "    </tr>\n",
       "  </tbody>\n",
       "</table>\n",
       "</div>"
      ],
      "text/plain": [
       "   customerNumber purchaseDate  branchNumber  articleNumber  quantity  \\\n",
       "0             557   2021-01-04            19           6013      1.00   \n",
       "1             557   2021-01-04            19           6663      2.00   \n",
       "2             189   2021-01-04            17           2982      2.00   \n",
       "3             490   2021-01-04            19          10658      1.00   \n",
       "4             896   2021-01-04            36          14971      3.00   \n",
       "\n",
       "   discountOnRecommendedRetailPrice[%]  purchaseAmount  \n",
       "0                                 0.00           17.24  \n",
       "1                                 8.37           94.96  \n",
       "2                                32.23           59.96  \n",
       "3                                25.04           24.05  \n",
       "4                                 0.00           26.69  "
      ]
     },
     "execution_count": 114,
     "metadata": {},
     "output_type": "execute_result"
    }
   ],
   "source": [
    "factura_df.head()"
   ]
  },
  {
   "cell_type": "code",
   "execution_count": 115,
   "id": "336338b7",
   "metadata": {},
   "outputs": [
    {
     "data": {
      "text/html": [
       "<div>\n",
       "<style scoped>\n",
       "    .dataframe tbody tr th:only-of-type {\n",
       "        vertical-align: middle;\n",
       "    }\n",
       "\n",
       "    .dataframe tbody tr th {\n",
       "        vertical-align: top;\n",
       "    }\n",
       "\n",
       "    .dataframe thead th {\n",
       "        text-align: right;\n",
       "    }\n",
       "</style>\n",
       "<table border=\"1\" class=\"dataframe\">\n",
       "  <thead>\n",
       "    <tr style=\"text-align: right;\">\n",
       "      <th></th>\n",
       "      <th>count</th>\n",
       "      <th>mean</th>\n",
       "      <th>std</th>\n",
       "      <th>min</th>\n",
       "      <th>25%</th>\n",
       "      <th>50%</th>\n",
       "      <th>75%</th>\n",
       "      <th>max</th>\n",
       "    </tr>\n",
       "  </thead>\n",
       "  <tbody>\n",
       "    <tr>\n",
       "      <th>customerNumber</th>\n",
       "      <td>718987.00</td>\n",
       "      <td>509.37</td>\n",
       "      <td>287.25</td>\n",
       "      <td>1.00</td>\n",
       "      <td>253.00</td>\n",
       "      <td>522.00</td>\n",
       "      <td>746.00</td>\n",
       "      <td>1000.00</td>\n",
       "    </tr>\n",
       "    <tr>\n",
       "      <th>branchNumber</th>\n",
       "      <td>718987.00</td>\n",
       "      <td>48.62</td>\n",
       "      <td>29.36</td>\n",
       "      <td>1.00</td>\n",
       "      <td>25.00</td>\n",
       "      <td>42.00</td>\n",
       "      <td>74.00</td>\n",
       "      <td>101.00</td>\n",
       "    </tr>\n",
       "    <tr>\n",
       "      <th>articleNumber</th>\n",
       "      <td>718987.00</td>\n",
       "      <td>10418.54</td>\n",
       "      <td>6267.80</td>\n",
       "      <td>1.00</td>\n",
       "      <td>4730.00</td>\n",
       "      <td>10207.00</td>\n",
       "      <td>15982.00</td>\n",
       "      <td>21088.00</td>\n",
       "    </tr>\n",
       "    <tr>\n",
       "      <th>quantity</th>\n",
       "      <td>718987.00</td>\n",
       "      <td>15.63</td>\n",
       "      <td>89.42</td>\n",
       "      <td>0.00</td>\n",
       "      <td>1.00</td>\n",
       "      <td>2.00</td>\n",
       "      <td>6.00</td>\n",
       "      <td>13013.00</td>\n",
       "    </tr>\n",
       "    <tr>\n",
       "      <th>discountOnRecommendedRetailPrice[%]</th>\n",
       "      <td>718987.00</td>\n",
       "      <td>3.53</td>\n",
       "      <td>10.93</td>\n",
       "      <td>0.00</td>\n",
       "      <td>0.00</td>\n",
       "      <td>0.00</td>\n",
       "      <td>0.00</td>\n",
       "      <td>100.00</td>\n",
       "    </tr>\n",
       "    <tr>\n",
       "      <th>purchaseAmount</th>\n",
       "      <td>718987.00</td>\n",
       "      <td>123.19</td>\n",
       "      <td>244.96</td>\n",
       "      <td>0.03</td>\n",
       "      <td>21.29</td>\n",
       "      <td>51.96</td>\n",
       "      <td>128.63</td>\n",
       "      <td>24728.52</td>\n",
       "    </tr>\n",
       "  </tbody>\n",
       "</table>\n",
       "</div>"
      ],
      "text/plain": [
       "                                        count     mean     std  min     25%  \\\n",
       "customerNumber                      718987.00   509.37  287.25 1.00  253.00   \n",
       "branchNumber                        718987.00    48.62   29.36 1.00   25.00   \n",
       "articleNumber                       718987.00 10418.54 6267.80 1.00 4730.00   \n",
       "quantity                            718987.00    15.63   89.42 0.00    1.00   \n",
       "discountOnRecommendedRetailPrice[%] 718987.00     3.53   10.93 0.00    0.00   \n",
       "purchaseAmount                      718987.00   123.19  244.96 0.03   21.29   \n",
       "\n",
       "                                         50%      75%      max  \n",
       "customerNumber                        522.00   746.00  1000.00  \n",
       "branchNumber                           42.00    74.00   101.00  \n",
       "articleNumber                       10207.00 15982.00 21088.00  \n",
       "quantity                                2.00     6.00 13013.00  \n",
       "discountOnRecommendedRetailPrice[%]     0.00     0.00   100.00  \n",
       "purchaseAmount                         51.96   128.63 24728.52  "
      ]
     },
     "execution_count": 115,
     "metadata": {},
     "output_type": "execute_result"
    }
   ],
   "source": [
    "factura_df.describe().T"
   ]
  },
  {
   "cell_type": "markdown",
   "id": "0b20d628",
   "metadata": {},
   "source": [
    "Here we can roughly analyze the data distribution. There are no negative values for quantity in the data set. It can be concluded that the data set does not indicate order cancellation. "
   ]
  },
  {
   "cell_type": "code",
   "execution_count": 116,
   "id": "605c7bd6",
   "metadata": {},
   "outputs": [
    {
     "name": "stdout",
     "output_type": "stream",
     "text": [
      "Data shape: (718987, 1)\n",
      "___________________________\n",
      "Data Types:\n",
      "int64      3\n",
      "float64    3\n",
      "object     1\n",
      "Name: Types, dtype: int64\n",
      "___________________________\n"
     ]
    },
    {
     "data": {
      "text/html": [
       "<div>\n",
       "<style scoped>\n",
       "    .dataframe tbody tr th:only-of-type {\n",
       "        vertical-align: middle;\n",
       "    }\n",
       "\n",
       "    .dataframe tbody tr th {\n",
       "        vertical-align: top;\n",
       "    }\n",
       "\n",
       "    .dataframe thead th {\n",
       "        text-align: right;\n",
       "    }\n",
       "</style>\n",
       "<table border=\"1\" class=\"dataframe\">\n",
       "  <thead>\n",
       "    <tr style=\"text-align: right;\">\n",
       "      <th></th>\n",
       "      <th>Types</th>\n",
       "      <th>Counts</th>\n",
       "      <th>Uniques</th>\n",
       "      <th>Nulls</th>\n",
       "      <th>Min</th>\n",
       "      <th>Max</th>\n",
       "    </tr>\n",
       "  </thead>\n",
       "  <tbody>\n",
       "    <tr>\n",
       "      <th>articleNumber</th>\n",
       "      <td>int64</td>\n",
       "      <td>718987</td>\n",
       "      <td>21063</td>\n",
       "      <td>0</td>\n",
       "      <td>1</td>\n",
       "      <td>21088</td>\n",
       "    </tr>\n",
       "    <tr>\n",
       "      <th>branchNumber</th>\n",
       "      <td>int64</td>\n",
       "      <td>718987</td>\n",
       "      <td>101</td>\n",
       "      <td>0</td>\n",
       "      <td>1</td>\n",
       "      <td>101</td>\n",
       "    </tr>\n",
       "    <tr>\n",
       "      <th>customerNumber</th>\n",
       "      <td>int64</td>\n",
       "      <td>718987</td>\n",
       "      <td>1000</td>\n",
       "      <td>0</td>\n",
       "      <td>1</td>\n",
       "      <td>1000</td>\n",
       "    </tr>\n",
       "    <tr>\n",
       "      <th>discountOnRecommendedRetailPrice[%]</th>\n",
       "      <td>float64</td>\n",
       "      <td>718987</td>\n",
       "      <td>7733</td>\n",
       "      <td>0</td>\n",
       "      <td>0.00</td>\n",
       "      <td>100.00</td>\n",
       "    </tr>\n",
       "    <tr>\n",
       "      <th>purchaseAmount</th>\n",
       "      <td>float64</td>\n",
       "      <td>718987</td>\n",
       "      <td>26282</td>\n",
       "      <td>0</td>\n",
       "      <td>0.03</td>\n",
       "      <td>24728.52</td>\n",
       "    </tr>\n",
       "    <tr>\n",
       "      <th>purchaseDate</th>\n",
       "      <td>object</td>\n",
       "      <td>718987</td>\n",
       "      <td>307</td>\n",
       "      <td>0</td>\n",
       "      <td>2021-01-02</td>\n",
       "      <td>2021-12-31</td>\n",
       "    </tr>\n",
       "    <tr>\n",
       "      <th>quantity</th>\n",
       "      <td>float64</td>\n",
       "      <td>718987</td>\n",
       "      <td>1296</td>\n",
       "      <td>0</td>\n",
       "      <td>0.00</td>\n",
       "      <td>13013.00</td>\n",
       "    </tr>\n",
       "  </tbody>\n",
       "</table>\n",
       "</div>"
      ],
      "text/plain": [
       "                                       Types  Counts  Uniques  Nulls  \\\n",
       "articleNumber                          int64  718987    21063      0   \n",
       "branchNumber                           int64  718987      101      0   \n",
       "customerNumber                         int64  718987     1000      0   \n",
       "discountOnRecommendedRetailPrice[%]  float64  718987     7733      0   \n",
       "purchaseAmount                       float64  718987    26282      0   \n",
       "purchaseDate                          object  718987      307      0   \n",
       "quantity                             float64  718987     1296      0   \n",
       "\n",
       "                                            Min         Max  \n",
       "articleNumber                                 1       21088  \n",
       "branchNumber                                  1         101  \n",
       "customerNumber                                1        1000  \n",
       "discountOnRecommendedRetailPrice[%]        0.00      100.00  \n",
       "purchaseAmount                             0.03    24728.52  \n",
       "purchaseDate                         2021-01-02  2021-12-31  \n",
       "quantity                                   0.00    13013.00  "
      ]
     },
     "metadata": {},
     "output_type": "display_data"
    }
   ],
   "source": [
    "def summary(factura_df, pred=None):\n",
    "    obs = factura_df.shape[0]\n",
    "    Types = factura_df.dtypes\n",
    "    Counts = factura_df.apply(lambda x: x.count())\n",
    "    Min = factura_df.min()\n",
    "    Max = factura_df.max()\n",
    "    Uniques = factura_df.apply(lambda x: x.unique().shape[0])\n",
    "    Nulls = factura_df.apply(lambda x: x.isnull().sum())\n",
    "    print('Data shape:', df.shape)\n",
    "\n",
    "    if pred is None:\n",
    "        cols = ['Types', 'Counts', 'Uniques', 'Nulls', 'Min', 'Max']\n",
    "        str = pd.concat([Types, Counts, Uniques, Nulls, Min, Max], axis = 1, sort=True)\n",
    "\n",
    "    str.columns = cols\n",
    "    print('___________________________\\nData Types:')\n",
    "    print(str.Types.value_counts())\n",
    "    print('___________________________')\n",
    "    return str\n",
    "\n",
    "display(summary(factura_df).sort_values(by='Nulls', ascending=False))"
   ]
  },
  {
   "cell_type": "markdown",
   "id": "90edb48a",
   "metadata": {},
   "source": [
    "The number of unique values of the features is important. Reducing the number of unique values is an optimisation technique used to improve the performance of artificial intelligence algorithms. The number of rows is 718987 for this data set. Unique values close to this value can be evaluated in this context."
   ]
  },
  {
   "cell_type": "markdown",
   "id": "aa223496",
   "metadata": {},
   "source": [
    "The purchaseAmount and customerNumber variables are float64. These variables can be converted from float64 to int16 to reduce the calculation cost."
   ]
  },
  {
   "cell_type": "code",
   "execution_count": 118,
   "id": "9ac76845",
   "metadata": {},
   "outputs": [],
   "source": [
    "factura_df.customerNumber = factura_df.customerNumber.astype('int16')\n",
    "factura_df.purchaseAmount = factura_df.purchaseAmount.astype('int16')"
   ]
  },
  {
   "cell_type": "code",
   "execution_count": 120,
   "id": "029b84d8",
   "metadata": {},
   "outputs": [
    {
     "name": "stdout",
     "output_type": "stream",
     "text": [
      "<class 'pandas.core.frame.DataFrame'>\n",
      "RangeIndex: 718987 entries, 0 to 718986\n",
      "Data columns (total 7 columns):\n",
      " #   Column                               Non-Null Count   Dtype  \n",
      "---  ------                               --------------   -----  \n",
      " 0   customerNumber                       718987 non-null  int16  \n",
      " 1   purchaseDate                         718987 non-null  object \n",
      " 2   branchNumber                         718987 non-null  int64  \n",
      " 3   articleNumber                        718987 non-null  int64  \n",
      " 4   quantity                             718987 non-null  float64\n",
      " 5   discountOnRecommendedRetailPrice[%]  718987 non-null  float64\n",
      " 6   purchaseAmount                       718987 non-null  int16  \n",
      "dtypes: float64(2), int16(2), int64(2), object(1)\n",
      "memory usage: 30.2+ MB\n"
     ]
    }
   ],
   "source": [
    "factura_df.info()"
   ]
  },
  {
   "cell_type": "markdown",
   "id": "1fdd9961",
   "metadata": {},
   "source": [
    "## Handling Missing Values"
   ]
  },
  {
   "cell_type": "code",
   "execution_count": 28,
   "id": "947db632",
   "metadata": {},
   "outputs": [
    {
     "data": {
      "text/plain": [
       "customerNumber                         0\n",
       "purchaseDate                           0\n",
       "branchNumber                           0\n",
       "articleNumber                          0\n",
       "quantity                               0\n",
       "discountOnRecommendedRetailPrice[%]    0\n",
       "purchaseAmount                         0\n",
       "dtype: int64"
      ]
     },
     "execution_count": 28,
     "metadata": {},
     "output_type": "execute_result"
    }
   ],
   "source": [
    "factura_df.isnull().sum()"
   ]
  },
  {
   "cell_type": "markdown",
   "id": "ea0d3024",
   "metadata": {},
   "source": [
    "There are no null values in our data set. To optimize the use of machine learning algorithms, null values can be droped if available. "
   ]
  },
  {
   "cell_type": "code",
   "execution_count": 29,
   "id": "840c7b50",
   "metadata": {},
   "outputs": [
    {
     "data": {
      "text/plain": [
       "False    702623\n",
       "True      16364\n",
       "dtype: int64"
      ]
     },
     "execution_count": 29,
     "metadata": {},
     "output_type": "execute_result"
    }
   ],
   "source": [
    "factura_df.duplicated().value_counts()"
   ]
  },
  {
   "cell_type": "markdown",
   "id": "822a9d14",
   "metadata": {},
   "source": [
    "There are 16364 duplicate data in the data set. It was evaluated that the same customer bought the same product several times on the same day. Duplicate data is not dropped for this reason."
   ]
  },
  {
   "cell_type": "markdown",
   "id": "68f65be2",
   "metadata": {},
   "source": [
    "## Grouping data for the purpose of presentation from different perspectives"
   ]
  },
  {
   "cell_type": "code",
   "execution_count": 102,
   "id": "9422f364",
   "metadata": {},
   "outputs": [
    {
     "data": {
      "text/plain": [
       "customerNumber\n",
       "676   2636501.96\n",
       "323    518925.58\n",
       "53     459062.16\n",
       "147    445344.33\n",
       "824    364568.14\n",
       "         ...    \n",
       "641     24916.25\n",
       "132     21178.89\n",
       "226     20143.33\n",
       "144     19071.94\n",
       "705     14835.71\n",
       "Name: purchaseAmount, Length: 1000, dtype: float64"
      ]
     },
     "execution_count": 102,
     "metadata": {},
     "output_type": "execute_result"
    }
   ],
   "source": [
    "pd.set_option('display.float_format', lambda x: '%.2f' % x)\n",
    "factura_df.groupby(\"customerNumber\").purchaseAmount.sum().sort_values(ascending=False)"
   ]
  },
  {
   "cell_type": "code",
   "execution_count": 32,
   "id": "970c2b7d",
   "metadata": {},
   "outputs": [
    {
     "data": {
      "text/plain": [
       "<AxesSubplot:xlabel='customerNumber'>"
      ]
     },
     "execution_count": 32,
     "metadata": {},
     "output_type": "execute_result"
    },
    {
     "data": {
      "image/png": "[encoded data removed]",
      "text/plain": [
       "<Figure size 864x576 with 1 Axes>"
      ]
     },
     "metadata": {
      "needs_background": "light"
     },
     "output_type": "display_data"
    }
   ],
   "source": [
    "plt.figure(figsize=(12,8))\n",
    "factura_df.groupby(\"customerNumber\").purchaseAmount.sum().plot(kind=\"bar\")"
   ]
  },
  {
   "cell_type": "markdown",
   "id": "52eb7d72",
   "metadata": {},
   "source": [
    "Where the totals of the purchase amount are grouped by customers. The top ten customers who make the most purchases can be an important piece of information."
   ]
  },
  {
   "cell_type": "code",
   "execution_count": 40,
   "id": "2c7a5280",
   "metadata": {},
   "outputs": [
    {
     "data": {
      "text/plain": [
       "267.789"
      ]
     },
     "execution_count": 40,
     "metadata": {},
     "output_type": "execute_result"
    }
   ],
   "source": [
    "factura_df.groupby(\"customerNumber\").articleNumber.nunique().mean()"
   ]
  },
  {
   "cell_type": "markdown",
   "id": "af3f7837",
   "metadata": {},
   "source": [
    "This value show us the average number of unqiue items per customer."
   ]
  },
  {
   "cell_type": "code",
   "execution_count": 41,
   "id": "898659e5",
   "metadata": {},
   "outputs": [
    {
     "data": {
      "text/plain": [
       "customerNumber\n",
       "1       224\n",
       "2       200\n",
       "3       299\n",
       "4       214\n",
       "5       159\n",
       "       ... \n",
       "996     189\n",
       "997     250\n",
       "998     285\n",
       "999     199\n",
       "1000    270\n",
       "Name: articleNumber, Length: 1000, dtype: int64"
      ]
     },
     "execution_count": 41,
     "metadata": {},
     "output_type": "execute_result"
    }
   ],
   "source": [
    "factura_df.groupby(\"customerNumber\").articleNumber.nunique()"
   ]
  },
  {
   "cell_type": "code",
   "execution_count": null,
   "id": "20922527",
   "metadata": {},
   "outputs": [],
   "source": [
    "You can see number of unqiue items per customer."
   ]
  },
  {
   "cell_type": "code",
   "execution_count": null,
   "id": "3892c3a2",
   "metadata": {},
   "outputs": [],
   "source": []
  },
  {
   "cell_type": "code",
   "execution_count": null,
   "id": "e94fd8d2",
   "metadata": {},
   "outputs": [],
   "source": []
  },
  {
   "cell_type": "code",
   "execution_count": 35,
   "id": "b7485bf9",
   "metadata": {},
   "outputs": [
    {
     "data": {
      "text/html": [
       "<div>\n",
       "<style scoped>\n",
       "    .dataframe tbody tr th:only-of-type {\n",
       "        vertical-align: middle;\n",
       "    }\n",
       "\n",
       "    .dataframe tbody tr th {\n",
       "        vertical-align: top;\n",
       "    }\n",
       "\n",
       "    .dataframe thead th {\n",
       "        text-align: right;\n",
       "    }\n",
       "</style>\n",
       "<table border=\"1\" class=\"dataframe\">\n",
       "  <thead>\n",
       "    <tr style=\"text-align: right;\">\n",
       "      <th></th>\n",
       "      <th>customerNumber</th>\n",
       "      <th>purchaseDate</th>\n",
       "      <th>branchNumber</th>\n",
       "      <th>articleNumber</th>\n",
       "      <th>quantity</th>\n",
       "      <th>discountOnRecommendedRetailPrice[%]</th>\n",
       "      <th>purchaseAmount</th>\n",
       "    </tr>\n",
       "  </thead>\n",
       "  <tbody>\n",
       "    <tr>\n",
       "      <th>0</th>\n",
       "      <td>557</td>\n",
       "      <td>2021-01-04</td>\n",
       "      <td>19</td>\n",
       "      <td>6013</td>\n",
       "      <td>1.00</td>\n",
       "      <td>0.00</td>\n",
       "      <td>17.24</td>\n",
       "    </tr>\n",
       "    <tr>\n",
       "      <th>1</th>\n",
       "      <td>557</td>\n",
       "      <td>2021-01-04</td>\n",
       "      <td>19</td>\n",
       "      <td>6663</td>\n",
       "      <td>2.00</td>\n",
       "      <td>8.37</td>\n",
       "      <td>94.96</td>\n",
       "    </tr>\n",
       "    <tr>\n",
       "      <th>2</th>\n",
       "      <td>189</td>\n",
       "      <td>2021-01-04</td>\n",
       "      <td>17</td>\n",
       "      <td>2982</td>\n",
       "      <td>2.00</td>\n",
       "      <td>32.23</td>\n",
       "      <td>59.96</td>\n",
       "    </tr>\n",
       "    <tr>\n",
       "      <th>3</th>\n",
       "      <td>490</td>\n",
       "      <td>2021-01-04</td>\n",
       "      <td>19</td>\n",
       "      <td>10658</td>\n",
       "      <td>1.00</td>\n",
       "      <td>25.04</td>\n",
       "      <td>24.05</td>\n",
       "    </tr>\n",
       "    <tr>\n",
       "      <th>4</th>\n",
       "      <td>896</td>\n",
       "      <td>2021-01-04</td>\n",
       "      <td>36</td>\n",
       "      <td>14971</td>\n",
       "      <td>3.00</td>\n",
       "      <td>0.00</td>\n",
       "      <td>26.69</td>\n",
       "    </tr>\n",
       "  </tbody>\n",
       "</table>\n",
       "</div>"
      ],
      "text/plain": [
       "   customerNumber purchaseDate  branchNumber  articleNumber  quantity  \\\n",
       "0             557   2021-01-04            19           6013      1.00   \n",
       "1             557   2021-01-04            19           6663      2.00   \n",
       "2             189   2021-01-04            17           2982      2.00   \n",
       "3             490   2021-01-04            19          10658      1.00   \n",
       "4             896   2021-01-04            36          14971      3.00   \n",
       "\n",
       "   discountOnRecommendedRetailPrice[%]  purchaseAmount  \n",
       "0                                 0.00           17.24  \n",
       "1                                 8.37           94.96  \n",
       "2                                32.23           59.96  \n",
       "3                                25.04           24.05  \n",
       "4                                 0.00           26.69  "
      ]
     },
     "execution_count": 35,
     "metadata": {},
     "output_type": "execute_result"
    }
   ],
   "source": [
    "factura_df.head()"
   ]
  },
  {
   "cell_type": "code",
   "execution_count": null,
   "id": "8b90fabb",
   "metadata": {},
   "outputs": [],
   "source": []
  },
  {
   "cell_type": "markdown",
   "id": "3d8dc4dd",
   "metadata": {},
   "source": [
    "# 2. RFM Analysis"
   ]
  },
  {
   "cell_type": "markdown",
   "id": "f31ed14c",
   "metadata": {},
   "source": [
    "In the age of the internet and e-commerce, companies that do not expand their businesses online or utilize digital tools to reach their customers will run into issues like scalability and a lack of digital precsence. An important marketing strategy e-commerce businesses use for analyzing and predicting customer value is customer segmentation. Customer data is used to sort customers into group based on their behaviors and preferences.\n",
    "\n",
    "**[RFM](https://www.putler.com/rfm-analysis/) (Recency, Frequency, Monetary) Analysis** is a customer segmentation technique for analyzing customer value based on past buying behavior. RFM analysis was first used by the direct mail industry more than four decades ago, yet it is still an effective way to optimize your marketing.\n",
    "<br>\n",
    "<br>\n",
    "Our goal in this Notebook is to cluster the customers in our data set to:\n",
    " - Recognize who are our most valuable customers\n",
    " - Increase revenue\n",
    " - Increase customer retention\n",
    " - Learn more about the trends and behaviors of our customers\n",
    " - Define customers that are at risk\n",
    "\n",
    "We will start with **RFM Analysis** and then compliment our findings with predictive analysis using **K-Means Clustering Algorithms.**\n",
    "\n",
    "- RECENCY (R): Time since last purchase\n",
    "- FREQUENCY (F): Total number of purchases\n",
    "- MONETARY VALUE (M): Total monetary value\n",
    "\n",
    "\n",
    "\n",
    "\n",
    "Benefits of RFM Analysis\n",
    "\n",
    "- Increased customer retention\n",
    "- Increased response rate\n",
    "- Increased conversion rate\n",
    "- Increased revenue\n",
    "\n",
    "RFM Analysis answers the following questions:\n",
    " - Who are our best customers?\n",
    " - Who has the potential to be converted into more profitable customers?\n",
    " - Which customers do we need to retain?\n",
    " - Which group of customers is most likely to respond to our marketing campaign?"
   ]
  },
  {
   "cell_type": "code",
   "execution_count": 42,
   "id": "0be4deb6",
   "metadata": {},
   "outputs": [
    {
     "name": "stdout",
     "output_type": "stream",
     "text": [
      "Min:2021-01-02; Max:2021-12-31\n"
     ]
    }
   ],
   "source": [
    "#Finding min and max days\n",
    "print('Min:{}; Max:{}'.format(min(factura_df.purchaseDate), max(factura_df.purchaseDate)))"
   ]
  },
  {
   "cell_type": "code",
   "execution_count": 44,
   "id": "4bff907a",
   "metadata": {},
   "outputs": [],
   "source": [
    "import datetime\n",
    "NOW = datetime.datetime(2023,3,31)"
   ]
  },
  {
   "cell_type": "code",
   "execution_count": 51,
   "id": "01135e12",
   "metadata": {},
   "outputs": [],
   "source": [
    "factura_df['purchaseDate'] =  pd.to_datetime(factura_df['purchaseDate'])"
   ]
  },
  {
   "cell_type": "code",
   "execution_count": 54,
   "id": "e182d036",
   "metadata": {},
   "outputs": [
    {
     "data": {
      "text/html": [
       "<div>\n",
       "<style scoped>\n",
       "    .dataframe tbody tr th:only-of-type {\n",
       "        vertical-align: middle;\n",
       "    }\n",
       "\n",
       "    .dataframe tbody tr th {\n",
       "        vertical-align: top;\n",
       "    }\n",
       "\n",
       "    .dataframe thead th {\n",
       "        text-align: right;\n",
       "    }\n",
       "</style>\n",
       "<table border=\"1\" class=\"dataframe\">\n",
       "  <thead>\n",
       "    <tr style=\"text-align: right;\">\n",
       "      <th></th>\n",
       "      <th>Recency</th>\n",
       "      <th>Frequency</th>\n",
       "      <th>MonetaryValue</th>\n",
       "    </tr>\n",
       "    <tr>\n",
       "      <th>customerNumber</th>\n",
       "      <th></th>\n",
       "      <th></th>\n",
       "      <th></th>\n",
       "    </tr>\n",
       "  </thead>\n",
       "  <tbody>\n",
       "    <tr>\n",
       "      <th>1</th>\n",
       "      <td>457</td>\n",
       "      <td>465</td>\n",
       "      <td>163038.39</td>\n",
       "    </tr>\n",
       "    <tr>\n",
       "      <th>2</th>\n",
       "      <td>457</td>\n",
       "      <td>425</td>\n",
       "      <td>33761.03</td>\n",
       "    </tr>\n",
       "    <tr>\n",
       "      <th>3</th>\n",
       "      <td>465</td>\n",
       "      <td>1351</td>\n",
       "      <td>179604.73</td>\n",
       "    </tr>\n",
       "    <tr>\n",
       "      <th>4</th>\n",
       "      <td>456</td>\n",
       "      <td>423</td>\n",
       "      <td>72671.85</td>\n",
       "    </tr>\n",
       "    <tr>\n",
       "      <th>5</th>\n",
       "      <td>465</td>\n",
       "      <td>436</td>\n",
       "      <td>39094.91</td>\n",
       "    </tr>\n",
       "    <tr>\n",
       "      <th>6</th>\n",
       "      <td>456</td>\n",
       "      <td>418</td>\n",
       "      <td>42451.10</td>\n",
       "    </tr>\n",
       "    <tr>\n",
       "      <th>7</th>\n",
       "      <td>457</td>\n",
       "      <td>485</td>\n",
       "      <td>70876.08</td>\n",
       "    </tr>\n",
       "  </tbody>\n",
       "</table>\n",
       "</div>"
      ],
      "text/plain": [
       "                Recency  Frequency  MonetaryValue\n",
       "customerNumber                                   \n",
       "1                   457        465      163038.39\n",
       "2                   457        425       33761.03\n",
       "3                   465       1351      179604.73\n",
       "4                   456        423       72671.85\n",
       "5                   465        436       39094.91\n",
       "6                   456        418       42451.10\n",
       "7                   457        485       70876.08"
      ]
     },
     "execution_count": 54,
     "metadata": {},
     "output_type": "execute_result"
    }
   ],
   "source": [
    "#Creating a dataframe (rfm) for rfm analysis\n",
    "rfm = factura_df.groupby(['customerNumber']).agg({\n",
    "    'purchaseDate': lambda x: (NOW - x.max()).days,\n",
    "    'articleNumber': 'count',\n",
    "    'purchaseAmount': 'sum'})\n",
    "\n",
    "# Rename the columns \n",
    "rfm.rename(columns={'purchaseDate': 'Recency',\n",
    "                         'articleNumber': 'Frequency',\n",
    "                         'purchaseAmount': 'MonetaryValue'}, inplace=True)\n",
    "rfm.head(7)"
   ]
  },
  {
   "cell_type": "code",
   "execution_count": 55,
   "id": "ab3159bc",
   "metadata": {},
   "outputs": [],
   "source": [
    "#Creating 4 division for rfm levels\n",
    "\n",
    "r_labels = range(4, 0,-1); f_labels = range(1, 5); m_labels = range(1, 5)\n",
    "\n",
    "r_groups = pd.qcut(rfm['Recency'], q=4, labels=r_labels)\n",
    "\n",
    "f_groups = pd.qcut(rfm['Frequency'], q=4, labels=f_labels)\n",
    "\n",
    "m_groups = pd.qcut(rfm['MonetaryValue'], q=4, labels=m_labels)\n",
    "\n",
    "rfm = rfm.assign(R=r_groups.values, F=f_groups.values, M=m_groups.values)\n",
    "\n",
    "rfm['RFM_Score'] = rfm[['R','F','M']].sum(axis=1)"
   ]
  },
  {
   "cell_type": "code",
   "execution_count": 56,
   "id": "7ae6846e",
   "metadata": {},
   "outputs": [
    {
     "data": {
      "text/html": [
       "<div>\n",
       "<style scoped>\n",
       "    .dataframe tbody tr th:only-of-type {\n",
       "        vertical-align: middle;\n",
       "    }\n",
       "\n",
       "    .dataframe tbody tr th {\n",
       "        vertical-align: top;\n",
       "    }\n",
       "\n",
       "    .dataframe thead th {\n",
       "        text-align: right;\n",
       "    }\n",
       "</style>\n",
       "<table border=\"1\" class=\"dataframe\">\n",
       "  <thead>\n",
       "    <tr style=\"text-align: right;\">\n",
       "      <th></th>\n",
       "      <th>Recency</th>\n",
       "      <th>Frequency</th>\n",
       "      <th>MonetaryValue</th>\n",
       "      <th>R</th>\n",
       "      <th>F</th>\n",
       "      <th>M</th>\n",
       "      <th>RFM_Score</th>\n",
       "    </tr>\n",
       "    <tr>\n",
       "      <th>customerNumber</th>\n",
       "      <th></th>\n",
       "      <th></th>\n",
       "      <th></th>\n",
       "      <th></th>\n",
       "      <th></th>\n",
       "      <th></th>\n",
       "      <th></th>\n",
       "    </tr>\n",
       "  </thead>\n",
       "  <tbody>\n",
       "    <tr>\n",
       "      <th>1</th>\n",
       "      <td>457</td>\n",
       "      <td>465</td>\n",
       "      <td>163038.39</td>\n",
       "      <td>3</td>\n",
       "      <td>1</td>\n",
       "      <td>4</td>\n",
       "      <td>8</td>\n",
       "    </tr>\n",
       "    <tr>\n",
       "      <th>2</th>\n",
       "      <td>457</td>\n",
       "      <td>425</td>\n",
       "      <td>33761.03</td>\n",
       "      <td>3</td>\n",
       "      <td>1</td>\n",
       "      <td>1</td>\n",
       "      <td>5</td>\n",
       "    </tr>\n",
       "    <tr>\n",
       "      <th>3</th>\n",
       "      <td>465</td>\n",
       "      <td>1351</td>\n",
       "      <td>179604.73</td>\n",
       "      <td>1</td>\n",
       "      <td>4</td>\n",
       "      <td>4</td>\n",
       "      <td>9</td>\n",
       "    </tr>\n",
       "    <tr>\n",
       "      <th>4</th>\n",
       "      <td>456</td>\n",
       "      <td>423</td>\n",
       "      <td>72671.85</td>\n",
       "      <td>4</td>\n",
       "      <td>1</td>\n",
       "      <td>3</td>\n",
       "      <td>8</td>\n",
       "    </tr>\n",
       "    <tr>\n",
       "      <th>5</th>\n",
       "      <td>465</td>\n",
       "      <td>436</td>\n",
       "      <td>39094.91</td>\n",
       "      <td>1</td>\n",
       "      <td>1</td>\n",
       "      <td>1</td>\n",
       "      <td>3</td>\n",
       "    </tr>\n",
       "  </tbody>\n",
       "</table>\n",
       "</div>"
      ],
      "text/plain": [
       "                Recency  Frequency  MonetaryValue  R  F  M  RFM_Score\n",
       "customerNumber                                                       \n",
       "1                   457        465      163038.39  3  1  4          8\n",
       "2                   457        425       33761.03  3  1  1          5\n",
       "3                   465       1351      179604.73  1  4  4          9\n",
       "4                   456        423       72671.85  4  1  3          8\n",
       "5                   465        436       39094.91  1  1  1          3"
      ]
     },
     "execution_count": 56,
     "metadata": {},
     "output_type": "execute_result"
    }
   ],
   "source": [
    "rfm.head(5)"
   ]
  },
  {
   "cell_type": "code",
   "execution_count": 57,
   "id": "d003b6ab",
   "metadata": {},
   "outputs": [
    {
     "data": {
      "text/html": [
       "<div>\n",
       "<style scoped>\n",
       "    .dataframe tbody tr th:only-of-type {\n",
       "        vertical-align: middle;\n",
       "    }\n",
       "\n",
       "    .dataframe tbody tr th {\n",
       "        vertical-align: top;\n",
       "    }\n",
       "\n",
       "    .dataframe thead th {\n",
       "        text-align: right;\n",
       "    }\n",
       "</style>\n",
       "<table border=\"1\" class=\"dataframe\">\n",
       "  <thead>\n",
       "    <tr style=\"text-align: right;\">\n",
       "      <th></th>\n",
       "      <th>Recency</th>\n",
       "      <th>Frequency</th>\n",
       "      <th>MonetaryValue</th>\n",
       "      <th>R</th>\n",
       "      <th>F</th>\n",
       "      <th>M</th>\n",
       "      <th>RFM_Score</th>\n",
       "      <th>RFM_Level</th>\n",
       "    </tr>\n",
       "    <tr>\n",
       "      <th>customerNumber</th>\n",
       "      <th></th>\n",
       "      <th></th>\n",
       "      <th></th>\n",
       "      <th></th>\n",
       "      <th></th>\n",
       "      <th></th>\n",
       "      <th></th>\n",
       "      <th></th>\n",
       "    </tr>\n",
       "  </thead>\n",
       "  <tbody>\n",
       "    <tr>\n",
       "      <th>160</th>\n",
       "      <td>463</td>\n",
       "      <td>449</td>\n",
       "      <td>71403.35</td>\n",
       "      <td>2</td>\n",
       "      <td>1</td>\n",
       "      <td>3</td>\n",
       "      <td>6</td>\n",
       "      <td>Low</td>\n",
       "    </tr>\n",
       "    <tr>\n",
       "      <th>760</th>\n",
       "      <td>464</td>\n",
       "      <td>1243</td>\n",
       "      <td>184761.87</td>\n",
       "      <td>1</td>\n",
       "      <td>4</td>\n",
       "      <td>4</td>\n",
       "      <td>9</td>\n",
       "      <td>High</td>\n",
       "    </tr>\n",
       "    <tr>\n",
       "      <th>630</th>\n",
       "      <td>458</td>\n",
       "      <td>435</td>\n",
       "      <td>53184.58</td>\n",
       "      <td>3</td>\n",
       "      <td>1</td>\n",
       "      <td>2</td>\n",
       "      <td>6</td>\n",
       "      <td>Low</td>\n",
       "    </tr>\n",
       "    <tr>\n",
       "      <th>597</th>\n",
       "      <td>457</td>\n",
       "      <td>475</td>\n",
       "      <td>37702.54</td>\n",
       "      <td>3</td>\n",
       "      <td>2</td>\n",
       "      <td>1</td>\n",
       "      <td>6</td>\n",
       "      <td>Low</td>\n",
       "    </tr>\n",
       "    <tr>\n",
       "      <th>115</th>\n",
       "      <td>476</td>\n",
       "      <td>640</td>\n",
       "      <td>196956.60</td>\n",
       "      <td>1</td>\n",
       "      <td>3</td>\n",
       "      <td>4</td>\n",
       "      <td>8</td>\n",
       "      <td>Middle</td>\n",
       "    </tr>\n",
       "  </tbody>\n",
       "</table>\n",
       "</div>"
      ],
      "text/plain": [
       "                Recency  Frequency  MonetaryValue  R  F  M  RFM_Score  \\\n",
       "customerNumber                                                          \n",
       "160                 463        449       71403.35  2  1  3          6   \n",
       "760                 464       1243      184761.87  1  4  4          9   \n",
       "630                 458        435       53184.58  3  1  2          6   \n",
       "597                 457        475       37702.54  3  2  1          6   \n",
       "115                 476        640      196956.60  1  3  4          8   \n",
       "\n",
       "               RFM_Level  \n",
       "customerNumber            \n",
       "160                  Low  \n",
       "760                 High  \n",
       "630                  Low  \n",
       "597                  Low  \n",
       "115               Middle  "
      ]
     },
     "execution_count": 57,
     "metadata": {},
     "output_type": "execute_result"
    }
   ],
   "source": [
    "score_labels = ['Low', 'Middle', 'High', \"Top Class\"]\n",
    "score_groups = pd.qcut(rfm.RFM_Score, q = 4, labels = score_labels)\n",
    "rfm['RFM_Level'] = score_groups.values\n",
    "\n",
    "rfm.sample(5)"
   ]
  },
  {
   "cell_type": "code",
   "execution_count": 58,
   "id": "f81a4ad4",
   "metadata": {},
   "outputs": [
    {
     "name": "stdout",
     "output_type": "stream",
     "text": [
      "          Recency Frequency MonetaryValue      \n",
      "             mean      mean          mean count\n",
      "RFM_Level                                      \n",
      "Low        463.80    476.60      50874.50   322\n",
      "Middle     458.90    580.00      72075.60   278\n",
      "High       458.10    802.70     107826.00   258\n",
      "Top Class  456.00   1388.50     171344.00   142\n"
     ]
    }
   ],
   "source": [
    "rfm_level_agg = rfm.groupby('RFM_Level').agg({\n",
    "    'Recency': 'mean',\n",
    "    'Frequency': 'mean',\n",
    "    'MonetaryValue': ['mean', 'count']}).round(1)\n",
    "print(rfm_level_agg)"
   ]
  },
  {
   "cell_type": "markdown",
   "id": "660599fd",
   "metadata": {},
   "source": [
    "# 3. Applying K-Means Clustering"
   ]
  },
  {
   "cell_type": "markdown",
   "id": "a9e05fc8",
   "metadata": {},
   "source": [
    "Now that we have our customers segmented into 6 different categories, we can gain further insight into customer behavior by using predictive models in conjuction with out RFM model.\n",
    "Possible algorithms include **Logistic Regression**, **K-means Clustering**, and **K-nearest Neighbor**. We will go with [K-Means](https://towardsdatascience.com/understanding-k-means-clustering-in-machine-learning-6a6e67336aa1) since we already have our distinct groups determined. K-means has also been widely used for market segmentation and has the advantage of being simple to implement."
   ]
  },
  {
   "cell_type": "code",
   "execution_count": 59,
   "id": "94388e35",
   "metadata": {},
   "outputs": [
    {
     "data": {
      "text/html": [
       "<div>\n",
       "<style scoped>\n",
       "    .dataframe tbody tr th:only-of-type {\n",
       "        vertical-align: middle;\n",
       "    }\n",
       "\n",
       "    .dataframe tbody tr th {\n",
       "        vertical-align: top;\n",
       "    }\n",
       "\n",
       "    .dataframe thead th {\n",
       "        text-align: right;\n",
       "    }\n",
       "</style>\n",
       "<table border=\"1\" class=\"dataframe\">\n",
       "  <thead>\n",
       "    <tr style=\"text-align: right;\">\n",
       "      <th></th>\n",
       "      <th>Recency</th>\n",
       "      <th>Frequency</th>\n",
       "      <th>MonetaryValue</th>\n",
       "    </tr>\n",
       "    <tr>\n",
       "      <th>customerNumber</th>\n",
       "      <th></th>\n",
       "      <th></th>\n",
       "      <th></th>\n",
       "    </tr>\n",
       "  </thead>\n",
       "  <tbody>\n",
       "    <tr>\n",
       "      <th>444</th>\n",
       "      <td>463</td>\n",
       "      <td>878</td>\n",
       "      <td>98086.32</td>\n",
       "    </tr>\n",
       "    <tr>\n",
       "      <th>116</th>\n",
       "      <td>456</td>\n",
       "      <td>528</td>\n",
       "      <td>53625.72</td>\n",
       "    </tr>\n",
       "    <tr>\n",
       "      <th>585</th>\n",
       "      <td>456</td>\n",
       "      <td>1073</td>\n",
       "      <td>112958.59</td>\n",
       "    </tr>\n",
       "    <tr>\n",
       "      <th>707</th>\n",
       "      <td>459</td>\n",
       "      <td>763</td>\n",
       "      <td>76288.36</td>\n",
       "    </tr>\n",
       "    <tr>\n",
       "      <th>963</th>\n",
       "      <td>455</td>\n",
       "      <td>798</td>\n",
       "      <td>67374.75</td>\n",
       "    </tr>\n",
       "  </tbody>\n",
       "</table>\n",
       "</div>"
      ],
      "text/plain": [
       "                Recency  Frequency  MonetaryValue\n",
       "customerNumber                                   \n",
       "444                 463        878       98086.32\n",
       "116                 456        528       53625.72\n",
       "585                 456       1073      112958.59\n",
       "707                 459        763       76288.36\n",
       "963                 455        798       67374.75"
      ]
     },
     "execution_count": 59,
     "metadata": {},
     "output_type": "execute_result"
    }
   ],
   "source": [
    "rfm_df=rfm.loc[:,[\"Recency\" , \"Frequency\", \"MonetaryValue\"]]\n",
    "rfm_df.sample(5)"
   ]
  },
  {
   "cell_type": "code",
   "execution_count": 62,
   "id": "e2b57b8e",
   "metadata": {},
   "outputs": [
    {
     "name": "stderr",
     "output_type": "stream",
     "text": [
      "C:\\Users\\Taner\\anaconda3\\lib\\site-packages\\seaborn\\distributions.py:2557: FutureWarning: `distplot` is a deprecated function and will be removed in a future version. Please adapt your code to use either `displot` (a figure-level function with similar flexibility) or `histplot` (an axes-level function for histograms).\n",
      "  warnings.warn(msg, FutureWarning)\n",
      "C:\\Users\\Taner\\anaconda3\\lib\\site-packages\\seaborn\\distributions.py:2557: FutureWarning: `distplot` is a deprecated function and will be removed in a future version. Please adapt your code to use either `displot` (a figure-level function with similar flexibility) or `histplot` (an axes-level function for histograms).\n",
      "  warnings.warn(msg, FutureWarning)\n",
      "C:\\Users\\Taner\\anaconda3\\lib\\site-packages\\seaborn\\distributions.py:2557: FutureWarning: `distplot` is a deprecated function and will be removed in a future version. Please adapt your code to use either `displot` (a figure-level function with similar flexibility) or `histplot` (an axes-level function for histograms).\n",
      "  warnings.warn(msg, FutureWarning)\n"
     ]
    },
    {
     "data": {
      "image/png": "[encoded data removed]",
      "text/plain": [
       "<Figure size 720x432 with 3 Axes>"
      ]
     },
     "metadata": {
      "needs_background": "light"
     },
     "output_type": "display_data"
    }
   ],
   "source": [
    "plt.figure(figsize=(10,6))\n",
    "plt.subplot(3, 1, 1); sns.distplot(rfm_df.Recency)\n",
    "plt.subplot(3, 1, 2); sns.distplot(rfm_df.Frequency)\n",
    "plt.subplot(3, 1, 3); sns.distplot(rfm_df.MonetaryValue)\n",
    "plt.show()"
   ]
  },
  {
   "cell_type": "markdown",
   "id": "5c3b469c",
   "metadata": {},
   "source": [
    "## Using the logarithm method to normalize the values in a column."
   ]
  },
  {
   "cell_type": "markdown",
   "id": "2bef830b",
   "metadata": {},
   "source": [
    "You can use the logarithm method to normalize the values in a column."
   ]
  },
  {
   "cell_type": "code",
   "execution_count": 63,
   "id": "462d6308",
   "metadata": {},
   "outputs": [],
   "source": [
    "rfm_log = np.log(rfm_df+1)"
   ]
  },
  {
   "cell_type": "code",
   "execution_count": 64,
   "id": "f912a6cf",
   "metadata": {},
   "outputs": [],
   "source": [
    "from sklearn.preprocessing import StandardScaler\n",
    "scaler = StandardScaler()\n",
    "scaler.fit(rfm_log)\n",
    "\n",
    "rfm_normalized = scaler.transform(rfm_log)\n",
    "\n",
    "rfm_normalized = pd.DataFrame(data=rfm_normalized, index=rfm_df.index, columns=rfm_df.columns)"
   ]
  },
  {
   "cell_type": "code",
   "execution_count": 65,
   "id": "81e77b77",
   "metadata": {},
   "outputs": [
    {
     "data": {
      "text/html": [
       "<div>\n",
       "<style scoped>\n",
       "    .dataframe tbody tr th:only-of-type {\n",
       "        vertical-align: middle;\n",
       "    }\n",
       "\n",
       "    .dataframe tbody tr th {\n",
       "        vertical-align: top;\n",
       "    }\n",
       "\n",
       "    .dataframe thead th {\n",
       "        text-align: right;\n",
       "    }\n",
       "</style>\n",
       "<table border=\"1\" class=\"dataframe\">\n",
       "  <thead>\n",
       "    <tr style=\"text-align: right;\">\n",
       "      <th></th>\n",
       "      <th>Recency</th>\n",
       "      <th>Frequency</th>\n",
       "      <th>MonetaryValue</th>\n",
       "    </tr>\n",
       "    <tr>\n",
       "      <th>customerNumber</th>\n",
       "      <th></th>\n",
       "      <th></th>\n",
       "      <th></th>\n",
       "    </tr>\n",
       "  </thead>\n",
       "  <tbody>\n",
       "    <tr>\n",
       "      <th>138</th>\n",
       "      <td>-0.52</td>\n",
       "      <td>-0.59</td>\n",
       "      <td>-0.42</td>\n",
       "    </tr>\n",
       "    <tr>\n",
       "      <th>417</th>\n",
       "      <td>-0.52</td>\n",
       "      <td>-0.77</td>\n",
       "      <td>-0.85</td>\n",
       "    </tr>\n",
       "    <tr>\n",
       "      <th>978</th>\n",
       "      <td>-0.52</td>\n",
       "      <td>-0.94</td>\n",
       "      <td>-1.98</td>\n",
       "    </tr>\n",
       "    <tr>\n",
       "      <th>354</th>\n",
       "      <td>-0.65</td>\n",
       "      <td>1.28</td>\n",
       "      <td>0.68</td>\n",
       "    </tr>\n",
       "    <tr>\n",
       "      <th>949</th>\n",
       "      <td>-0.52</td>\n",
       "      <td>-0.03</td>\n",
       "      <td>2.67</td>\n",
       "    </tr>\n",
       "  </tbody>\n",
       "</table>\n",
       "</div>"
      ],
      "text/plain": [
       "                Recency  Frequency  MonetaryValue\n",
       "customerNumber                                   \n",
       "138               -0.52      -0.59          -0.42\n",
       "417               -0.52      -0.77          -0.85\n",
       "978               -0.52      -0.94          -1.98\n",
       "354               -0.65       1.28           0.68\n",
       "949               -0.52      -0.03           2.67"
      ]
     },
     "execution_count": 65,
     "metadata": {},
     "output_type": "execute_result"
    }
   ],
   "source": [
    "rfm_normalized.sample(5)"
   ]
  },
  {
   "cell_type": "code",
   "execution_count": 66,
   "id": "1082f250",
   "metadata": {},
   "outputs": [],
   "source": [
    "rfm_normalized2=rfm_normalized.copy()"
   ]
  },
  {
   "cell_type": "code",
   "execution_count": 68,
   "id": "b37d2c01",
   "metadata": {},
   "outputs": [
    {
     "data": {
      "text/html": [
       "<div>\n",
       "<style scoped>\n",
       "    .dataframe tbody tr th:only-of-type {\n",
       "        vertical-align: middle;\n",
       "    }\n",
       "\n",
       "    .dataframe tbody tr th {\n",
       "        vertical-align: top;\n",
       "    }\n",
       "\n",
       "    .dataframe thead th {\n",
       "        text-align: right;\n",
       "    }\n",
       "</style>\n",
       "<table border=\"1\" class=\"dataframe\">\n",
       "  <thead>\n",
       "    <tr style=\"text-align: right;\">\n",
       "      <th></th>\n",
       "      <th>Recency</th>\n",
       "      <th>Frequency</th>\n",
       "      <th>MonetaryValue</th>\n",
       "    </tr>\n",
       "  </thead>\n",
       "  <tbody>\n",
       "    <tr>\n",
       "      <th>mean</th>\n",
       "      <td>0.00</td>\n",
       "      <td>0.00</td>\n",
       "      <td>-0.00</td>\n",
       "    </tr>\n",
       "    <tr>\n",
       "      <th>std</th>\n",
       "      <td>1.00</td>\n",
       "      <td>1.00</td>\n",
       "      <td>1.00</td>\n",
       "    </tr>\n",
       "  </tbody>\n",
       "</table>\n",
       "</div>"
      ],
      "text/plain": [
       "      Recency  Frequency  MonetaryValue\n",
       "mean     0.00       0.00          -0.00\n",
       "std      1.00       1.00           1.00"
      ]
     },
     "execution_count": 68,
     "metadata": {},
     "output_type": "execute_result"
    }
   ],
   "source": [
    "rfm_normalized.agg([\"mean\", \"std\"]).round()"
   ]
  },
  {
   "cell_type": "code",
   "execution_count": 69,
   "id": "65b0bee9",
   "metadata": {},
   "outputs": [
    {
     "name": "stderr",
     "output_type": "stream",
     "text": [
      "C:\\Users\\Taner\\anaconda3\\lib\\site-packages\\seaborn\\distributions.py:2557: FutureWarning: `distplot` is a deprecated function and will be removed in a future version. Please adapt your code to use either `displot` (a figure-level function with similar flexibility) or `histplot` (an axes-level function for histograms).\n",
      "  warnings.warn(msg, FutureWarning)\n",
      "C:\\Users\\Taner\\anaconda3\\lib\\site-packages\\seaborn\\distributions.py:2557: FutureWarning: `distplot` is a deprecated function and will be removed in a future version. Please adapt your code to use either `displot` (a figure-level function with similar flexibility) or `histplot` (an axes-level function for histograms).\n",
      "  warnings.warn(msg, FutureWarning)\n",
      "C:\\Users\\Taner\\anaconda3\\lib\\site-packages\\seaborn\\distributions.py:2557: FutureWarning: `distplot` is a deprecated function and will be removed in a future version. Please adapt your code to use either `displot` (a figure-level function with similar flexibility) or `histplot` (an axes-level function for histograms).\n",
      "  warnings.warn(msg, FutureWarning)\n"
     ]
    },
    {
     "data": {
      "image/png": "[encoded data removed]",
      "text/plain": [
       "<Figure size 720x432 with 3 Axes>"
      ]
     },
     "metadata": {
      "needs_background": "light"
     },
     "output_type": "display_data"
    }
   ],
   "source": [
    "plt.figure(figsize=(10,6))\n",
    "plt.subplot(3, 1, 1); sns.distplot(rfm_normalized.Recency)\n",
    "plt.subplot(3, 1, 2); sns.distplot(rfm_normalized.Frequency)\n",
    "plt.subplot(3, 1, 3); sns.distplot(rfm_normalized.MonetaryValue)\n",
    "plt.show()"
   ]
  },
  {
   "cell_type": "markdown",
   "id": "99d90920",
   "metadata": {},
   "source": [
    "## K-Means Implementation"
   ]
  },
  {
   "cell_type": "markdown",
   "id": "09c5a016",
   "metadata": {},
   "source": [
    "For k-means, you have to set k to the number of clusters you want, but figuring out how many clusters is not obvious from the beginning. We will try different cluster numbers and check their silhouette coefficient. The silhouette coefficient for a data point measures how similar it is to its assigned cluster from -1 (dissimilar) to 1 (similar).\n",
    "\n",
    "Note: K-means is sensitive to initializations because they are critical to qualifty of optima found. Thus, we will use smart initialization called \"Elbow Method\"."
   ]
  },
  {
   "cell_type": "markdown",
   "id": "d41dbd73",
   "metadata": {},
   "source": [
    "### Define the Optimal Number of Clusters"
   ]
  },
  {
   "cell_type": "code",
   "execution_count": 70,
   "id": "1c5d24c5",
   "metadata": {},
   "outputs": [
    {
     "data": {
      "text/plain": [
       "<seaborn.axisgrid.PairGrid at 0x219f3ac5640>"
      ]
     },
     "execution_count": 70,
     "metadata": {},
     "output_type": "execute_result"
    },
    {
     "data": {
      "image/png": "[encoded data removed]",
      "text/plain": [
       "<Figure size 540x540 with 12 Axes>"
      ]
     },
     "metadata": {
      "needs_background": "light"
     },
     "output_type": "display_data"
    }
   ],
   "source": [
    "sns.pairplot(rfm_normalized)"
   ]
  },
  {
   "cell_type": "code",
   "execution_count": 71,
   "id": "1af15e5d",
   "metadata": {},
   "outputs": [
    {
     "name": "stderr",
     "output_type": "stream",
     "text": [
      "C:\\Users\\Taner\\anaconda3\\lib\\site-packages\\sklearn\\cluster\\_kmeans.py:881: UserWarning: KMeans is known to have a memory leak on Windows with MKL, when there are less chunks than available threads. You can avoid it by setting the environment variable OMP_NUM_THREADS=4.\n",
      "  warnings.warn(\n"
     ]
    }
   ],
   "source": [
    "from sklearn.cluster import KMeans\n",
    "sse={}\n",
    "for k in range(1,15):\n",
    "    kmeans = KMeans(n_clusters=k, random_state=101)\n",
    "    kmeans.fit(rfm_normalized)\n",
    "    sse[k] = kmeans.inertia_"
   ]
  },
  {
   "cell_type": "code",
   "execution_count": 72,
   "id": "a728346c",
   "metadata": {},
   "outputs": [
    {
     "data": {
      "image/png": "[encoded data removed]",
      "text/plain": [
       "<Figure size 864x576 with 1 Axes>"
      ]
     },
     "metadata": {
      "needs_background": "light"
     },
     "output_type": "display_data"
    }
   ],
   "source": [
    "plt.figure(figsize=(12,8))\n",
    "plt.title('The Elbow Method')\n",
    "plt.xlabel('k')\n",
    "plt.ylabel('SSE')\n",
    "sns.pointplot(x=list(sse.keys()), y=list(sse.values()))\n",
    "sns.set_style(\"darkgrid\")\n",
    "plt.show()"
   ]
  },
  {
   "cell_type": "code",
   "execution_count": 73,
   "id": "5d681c9a",
   "metadata": {},
   "outputs": [
    {
     "data": {
      "text/plain": [
       "0.03329859161630722"
      ]
     },
     "execution_count": 73,
     "metadata": {},
     "output_type": "execute_result"
    }
   ],
   "source": [
    "from pyclustertend import hopkins\n",
    "hopkins(rfm_normalized, rfm_normalized.shape[0])"
   ]
  },
  {
   "cell_type": "markdown",
   "id": "2bbf9d7f",
   "metadata": {},
   "source": [
    "A value of 0 indicates that the sample is on or very close to the decision boundary between two neighboring clusters and negative values indicate that those samples might have been assigned to the wrong cluster."
   ]
  },
  {
   "cell_type": "code",
   "execution_count": 74,
   "id": "00e64c33",
   "metadata": {},
   "outputs": [
    {
     "name": "stdout",
     "output_type": "stream",
     "text": [
      "For n_clusters=2, the silhouette score is 0.40412676426962524\n",
      "For n_clusters=3, the silhouette score is 0.4217605845282431\n",
      "For n_clusters=4, the silhouette score is 0.31246030933605584\n",
      "For n_clusters=5, the silhouette score is 0.31606184908722706\n",
      "For n_clusters=6, the silhouette score is 0.28563629025436366\n",
      "For n_clusters=7, the silhouette score is 0.2799600116829452\n",
      "For n_clusters=8, the silhouette score is 0.282870463732882\n"
     ]
    }
   ],
   "source": [
    "from sklearn.metrics import silhouette_score\n",
    "range_n_clusters = [2, 3, 4, 5, 6, 7, 8]\n",
    "\n",
    "for num_clusters in range_n_clusters:\n",
    "    \n",
    "    \n",
    "    kmeans = KMeans(n_clusters=num_clusters, max_iter=50)\n",
    "    kmeans.fit(rfm_normalized)\n",
    "    \n",
    "    cluster_labels = kmeans.labels_\n",
    "    \n",
    "    \n",
    "    silhouette_avg = silhouette_score(rfm_normalized, cluster_labels)\n",
    "    print(\"For n_clusters={0}, the silhouette score is {1}\".format(num_clusters, silhouette_avg))"
   ]
  },
  {
   "cell_type": "markdown",
   "id": "cbcb6384",
   "metadata": {},
   "source": [
    "### Model Fitting"
   ]
  },
  {
   "cell_type": "markdown",
   "id": "9b3274ea",
   "metadata": {},
   "source": [
    "The K-Means Algorithm must be fitted to the optimum number of clusters we have determined."
   ]
  },
  {
   "cell_type": "code",
   "execution_count": 83,
   "id": "2e158f1d",
   "metadata": {},
   "outputs": [],
   "source": [
    "from sklearn.cluster import KMeans\n",
    "kmeans = KMeans(n_clusters=5)\n",
    "kmeans.fit(rfm_normalized)\n",
    "y_kmeans = kmeans.predict(rfm_normalized)"
   ]
  },
  {
   "cell_type": "code",
   "execution_count": 84,
   "id": "85271d88",
   "metadata": {},
   "outputs": [
    {
     "data": {
      "image/png": "[encoded data removed]",
      "text/plain": [
       "<Figure size 864x576 with 1 Axes>"
      ]
     },
     "metadata": {},
     "output_type": "display_data"
    }
   ],
   "source": [
    "plt.figure(figsize=(12,8))\n",
    "plt.scatter(rfm_normalized.iloc[:, 0], rfm_normalized.iloc[:, 1], c=y_kmeans, s=50, cmap='viridis')\n",
    "centers = kmeans.cluster_centers_\n",
    "plt.scatter(centers[:, 0], centers[:, 1], c='red', s=200, alpha=0.9);"
   ]
  },
  {
   "cell_type": "code",
   "execution_count": 95,
   "id": "689ba670",
   "metadata": {},
   "outputs": [
    {
     "data": {
      "text/html": [
       "<div>\n",
       "<style scoped>\n",
       "    .dataframe tbody tr th:only-of-type {\n",
       "        vertical-align: middle;\n",
       "    }\n",
       "\n",
       "    .dataframe tbody tr th {\n",
       "        vertical-align: top;\n",
       "    }\n",
       "\n",
       "    .dataframe thead th {\n",
       "        text-align: right;\n",
       "    }\n",
       "</style>\n",
       "<table border=\"1\" class=\"dataframe\">\n",
       "  <thead>\n",
       "    <tr style=\"text-align: right;\">\n",
       "      <th></th>\n",
       "      <th>Recency</th>\n",
       "      <th>Frequency</th>\n",
       "      <th>MonetaryValue</th>\n",
       "      <th>R</th>\n",
       "      <th>F</th>\n",
       "      <th>M</th>\n",
       "      <th>RFM_Score</th>\n",
       "      <th>RFM_Level</th>\n",
       "      <th>Cluster</th>\n",
       "    </tr>\n",
       "    <tr>\n",
       "      <th>customerNumber</th>\n",
       "      <th></th>\n",
       "      <th></th>\n",
       "      <th></th>\n",
       "      <th></th>\n",
       "      <th></th>\n",
       "      <th></th>\n",
       "      <th></th>\n",
       "      <th></th>\n",
       "      <th></th>\n",
       "    </tr>\n",
       "  </thead>\n",
       "  <tbody>\n",
       "    <tr>\n",
       "      <th>703</th>\n",
       "      <td>458</td>\n",
       "      <td>444</td>\n",
       "      <td>64785.89</td>\n",
       "      <td>3</td>\n",
       "      <td>1</td>\n",
       "      <td>2</td>\n",
       "      <td>6</td>\n",
       "      <td>Low</td>\n",
       "      <td>1</td>\n",
       "    </tr>\n",
       "    <tr>\n",
       "      <th>620</th>\n",
       "      <td>458</td>\n",
       "      <td>571</td>\n",
       "      <td>82185.83</td>\n",
       "      <td>3</td>\n",
       "      <td>2</td>\n",
       "      <td>3</td>\n",
       "      <td>8</td>\n",
       "      <td>Middle</td>\n",
       "      <td>3</td>\n",
       "    </tr>\n",
       "    <tr>\n",
       "      <th>637</th>\n",
       "      <td>456</td>\n",
       "      <td>684</td>\n",
       "      <td>67667.94</td>\n",
       "      <td>4</td>\n",
       "      <td>3</td>\n",
       "      <td>2</td>\n",
       "      <td>9</td>\n",
       "      <td>High</td>\n",
       "      <td>3</td>\n",
       "    </tr>\n",
       "    <tr>\n",
       "      <th>588</th>\n",
       "      <td>466</td>\n",
       "      <td>392</td>\n",
       "      <td>79557.93</td>\n",
       "      <td>1</td>\n",
       "      <td>1</td>\n",
       "      <td>3</td>\n",
       "      <td>5</td>\n",
       "      <td>Low</td>\n",
       "      <td>0</td>\n",
       "    </tr>\n",
       "    <tr>\n",
       "      <th>650</th>\n",
       "      <td>455</td>\n",
       "      <td>466</td>\n",
       "      <td>64112.12</td>\n",
       "      <td>4</td>\n",
       "      <td>1</td>\n",
       "      <td>2</td>\n",
       "      <td>7</td>\n",
       "      <td>Middle</td>\n",
       "      <td>1</td>\n",
       "    </tr>\n",
       "    <tr>\n",
       "      <th>402</th>\n",
       "      <td>456</td>\n",
       "      <td>548</td>\n",
       "      <td>90087.41</td>\n",
       "      <td>4</td>\n",
       "      <td>2</td>\n",
       "      <td>3</td>\n",
       "      <td>9</td>\n",
       "      <td>High</td>\n",
       "      <td>3</td>\n",
       "    </tr>\n",
       "    <tr>\n",
       "      <th>189</th>\n",
       "      <td>465</td>\n",
       "      <td>417</td>\n",
       "      <td>35237.15</td>\n",
       "      <td>1</td>\n",
       "      <td>1</td>\n",
       "      <td>1</td>\n",
       "      <td>3</td>\n",
       "      <td>Low</td>\n",
       "      <td>0</td>\n",
       "    </tr>\n",
       "    <tr>\n",
       "      <th>933</th>\n",
       "      <td>464</td>\n",
       "      <td>810</td>\n",
       "      <td>162494.67</td>\n",
       "      <td>1</td>\n",
       "      <td>4</td>\n",
       "      <td>4</td>\n",
       "      <td>9</td>\n",
       "      <td>High</td>\n",
       "      <td>3</td>\n",
       "    </tr>\n",
       "    <tr>\n",
       "      <th>317</th>\n",
       "      <td>456</td>\n",
       "      <td>532</td>\n",
       "      <td>75268.30</td>\n",
       "      <td>4</td>\n",
       "      <td>2</td>\n",
       "      <td>3</td>\n",
       "      <td>9</td>\n",
       "      <td>High</td>\n",
       "      <td>1</td>\n",
       "    </tr>\n",
       "    <tr>\n",
       "      <th>536</th>\n",
       "      <td>459</td>\n",
       "      <td>958</td>\n",
       "      <td>137865.55</td>\n",
       "      <td>2</td>\n",
       "      <td>4</td>\n",
       "      <td>4</td>\n",
       "      <td>10</td>\n",
       "      <td>High</td>\n",
       "      <td>3</td>\n",
       "    </tr>\n",
       "    <tr>\n",
       "      <th>944</th>\n",
       "      <td>459</td>\n",
       "      <td>409</td>\n",
       "      <td>35041.64</td>\n",
       "      <td>2</td>\n",
       "      <td>1</td>\n",
       "      <td>1</td>\n",
       "      <td>4</td>\n",
       "      <td>Low</td>\n",
       "      <td>1</td>\n",
       "    </tr>\n",
       "    <tr>\n",
       "      <th>309</th>\n",
       "      <td>455</td>\n",
       "      <td>646</td>\n",
       "      <td>89936.36</td>\n",
       "      <td>4</td>\n",
       "      <td>3</td>\n",
       "      <td>3</td>\n",
       "      <td>10</td>\n",
       "      <td>High</td>\n",
       "      <td>3</td>\n",
       "    </tr>\n",
       "    <tr>\n",
       "      <th>814</th>\n",
       "      <td>455</td>\n",
       "      <td>1236</td>\n",
       "      <td>147518.52</td>\n",
       "      <td>4</td>\n",
       "      <td>4</td>\n",
       "      <td>4</td>\n",
       "      <td>12</td>\n",
       "      <td>Top Class</td>\n",
       "      <td>2</td>\n",
       "    </tr>\n",
       "    <tr>\n",
       "      <th>290</th>\n",
       "      <td>458</td>\n",
       "      <td>438</td>\n",
       "      <td>56476.04</td>\n",
       "      <td>3</td>\n",
       "      <td>1</td>\n",
       "      <td>2</td>\n",
       "      <td>6</td>\n",
       "      <td>Low</td>\n",
       "      <td>1</td>\n",
       "    </tr>\n",
       "    <tr>\n",
       "      <th>265</th>\n",
       "      <td>455</td>\n",
       "      <td>572</td>\n",
       "      <td>109742.89</td>\n",
       "      <td>4</td>\n",
       "      <td>2</td>\n",
       "      <td>4</td>\n",
       "      <td>10</td>\n",
       "      <td>High</td>\n",
       "      <td>3</td>\n",
       "    </tr>\n",
       "    <tr>\n",
       "      <th>824</th>\n",
       "      <td>456</td>\n",
       "      <td>1224</td>\n",
       "      <td>364568.14</td>\n",
       "      <td>4</td>\n",
       "      <td>4</td>\n",
       "      <td>4</td>\n",
       "      <td>12</td>\n",
       "      <td>Top Class</td>\n",
       "      <td>2</td>\n",
       "    </tr>\n",
       "    <tr>\n",
       "      <th>108</th>\n",
       "      <td>457</td>\n",
       "      <td>1114</td>\n",
       "      <td>275394.56</td>\n",
       "      <td>3</td>\n",
       "      <td>4</td>\n",
       "      <td>4</td>\n",
       "      <td>11</td>\n",
       "      <td>Top Class</td>\n",
       "      <td>2</td>\n",
       "    </tr>\n",
       "    <tr>\n",
       "      <th>886</th>\n",
       "      <td>463</td>\n",
       "      <td>545</td>\n",
       "      <td>43863.08</td>\n",
       "      <td>2</td>\n",
       "      <td>2</td>\n",
       "      <td>1</td>\n",
       "      <td>5</td>\n",
       "      <td>Low</td>\n",
       "      <td>0</td>\n",
       "    </tr>\n",
       "    <tr>\n",
       "      <th>270</th>\n",
       "      <td>456</td>\n",
       "      <td>530</td>\n",
       "      <td>63684.03</td>\n",
       "      <td>4</td>\n",
       "      <td>2</td>\n",
       "      <td>2</td>\n",
       "      <td>8</td>\n",
       "      <td>Middle</td>\n",
       "      <td>1</td>\n",
       "    </tr>\n",
       "    <tr>\n",
       "      <th>288</th>\n",
       "      <td>455</td>\n",
       "      <td>729</td>\n",
       "      <td>69025.63</td>\n",
       "      <td>4</td>\n",
       "      <td>3</td>\n",
       "      <td>2</td>\n",
       "      <td>9</td>\n",
       "      <td>High</td>\n",
       "      <td>3</td>\n",
       "    </tr>\n",
       "    <tr>\n",
       "      <th>143</th>\n",
       "      <td>463</td>\n",
       "      <td>498</td>\n",
       "      <td>61019.71</td>\n",
       "      <td>2</td>\n",
       "      <td>2</td>\n",
       "      <td>2</td>\n",
       "      <td>6</td>\n",
       "      <td>Low</td>\n",
       "      <td>0</td>\n",
       "    </tr>\n",
       "    <tr>\n",
       "      <th>74</th>\n",
       "      <td>455</td>\n",
       "      <td>529</td>\n",
       "      <td>44901.79</td>\n",
       "      <td>4</td>\n",
       "      <td>2</td>\n",
       "      <td>1</td>\n",
       "      <td>7</td>\n",
       "      <td>Middle</td>\n",
       "      <td>1</td>\n",
       "    </tr>\n",
       "    <tr>\n",
       "      <th>509</th>\n",
       "      <td>456</td>\n",
       "      <td>1475</td>\n",
       "      <td>190332.96</td>\n",
       "      <td>4</td>\n",
       "      <td>4</td>\n",
       "      <td>4</td>\n",
       "      <td>12</td>\n",
       "      <td>Top Class</td>\n",
       "      <td>2</td>\n",
       "    </tr>\n",
       "    <tr>\n",
       "      <th>238</th>\n",
       "      <td>456</td>\n",
       "      <td>558</td>\n",
       "      <td>82177.34</td>\n",
       "      <td>4</td>\n",
       "      <td>2</td>\n",
       "      <td>3</td>\n",
       "      <td>9</td>\n",
       "      <td>High</td>\n",
       "      <td>3</td>\n",
       "    </tr>\n",
       "    <tr>\n",
       "      <th>340</th>\n",
       "      <td>455</td>\n",
       "      <td>990</td>\n",
       "      <td>99888.05</td>\n",
       "      <td>4</td>\n",
       "      <td>4</td>\n",
       "      <td>3</td>\n",
       "      <td>11</td>\n",
       "      <td>Top Class</td>\n",
       "      <td>3</td>\n",
       "    </tr>\n",
       "    <tr>\n",
       "      <th>999</th>\n",
       "      <td>456</td>\n",
       "      <td>534</td>\n",
       "      <td>75466.64</td>\n",
       "      <td>4</td>\n",
       "      <td>2</td>\n",
       "      <td>3</td>\n",
       "      <td>9</td>\n",
       "      <td>High</td>\n",
       "      <td>1</td>\n",
       "    </tr>\n",
       "    <tr>\n",
       "      <th>300</th>\n",
       "      <td>478</td>\n",
       "      <td>609</td>\n",
       "      <td>44200.63</td>\n",
       "      <td>1</td>\n",
       "      <td>3</td>\n",
       "      <td>1</td>\n",
       "      <td>5</td>\n",
       "      <td>Low</td>\n",
       "      <td>0</td>\n",
       "    </tr>\n",
       "    <tr>\n",
       "      <th>659</th>\n",
       "      <td>458</td>\n",
       "      <td>1623</td>\n",
       "      <td>127877.08</td>\n",
       "      <td>3</td>\n",
       "      <td>4</td>\n",
       "      <td>4</td>\n",
       "      <td>11</td>\n",
       "      <td>Top Class</td>\n",
       "      <td>2</td>\n",
       "    </tr>\n",
       "    <tr>\n",
       "      <th>802</th>\n",
       "      <td>459</td>\n",
       "      <td>413</td>\n",
       "      <td>52597.40</td>\n",
       "      <td>2</td>\n",
       "      <td>1</td>\n",
       "      <td>2</td>\n",
       "      <td>5</td>\n",
       "      <td>Low</td>\n",
       "      <td>1</td>\n",
       "    </tr>\n",
       "    <tr>\n",
       "      <th>36</th>\n",
       "      <td>466</td>\n",
       "      <td>536</td>\n",
       "      <td>73534.53</td>\n",
       "      <td>1</td>\n",
       "      <td>2</td>\n",
       "      <td>3</td>\n",
       "      <td>6</td>\n",
       "      <td>Low</td>\n",
       "      <td>0</td>\n",
       "    </tr>\n",
       "    <tr>\n",
       "      <th>819</th>\n",
       "      <td>457</td>\n",
       "      <td>528</td>\n",
       "      <td>47444.02</td>\n",
       "      <td>3</td>\n",
       "      <td>2</td>\n",
       "      <td>1</td>\n",
       "      <td>6</td>\n",
       "      <td>Low</td>\n",
       "      <td>1</td>\n",
       "    </tr>\n",
       "    <tr>\n",
       "      <th>375</th>\n",
       "      <td>466</td>\n",
       "      <td>473</td>\n",
       "      <td>44681.32</td>\n",
       "      <td>1</td>\n",
       "      <td>2</td>\n",
       "      <td>1</td>\n",
       "      <td>4</td>\n",
       "      <td>Low</td>\n",
       "      <td>0</td>\n",
       "    </tr>\n",
       "    <tr>\n",
       "      <th>820</th>\n",
       "      <td>463</td>\n",
       "      <td>423</td>\n",
       "      <td>38363.87</td>\n",
       "      <td>2</td>\n",
       "      <td>1</td>\n",
       "      <td>1</td>\n",
       "      <td>4</td>\n",
       "      <td>Low</td>\n",
       "      <td>0</td>\n",
       "    </tr>\n",
       "    <tr>\n",
       "      <th>504</th>\n",
       "      <td>456</td>\n",
       "      <td>426</td>\n",
       "      <td>34479.24</td>\n",
       "      <td>4</td>\n",
       "      <td>1</td>\n",
       "      <td>1</td>\n",
       "      <td>6</td>\n",
       "      <td>Low</td>\n",
       "      <td>1</td>\n",
       "    </tr>\n",
       "    <tr>\n",
       "      <th>991</th>\n",
       "      <td>456</td>\n",
       "      <td>640</td>\n",
       "      <td>102060.84</td>\n",
       "      <td>4</td>\n",
       "      <td>3</td>\n",
       "      <td>3</td>\n",
       "      <td>10</td>\n",
       "      <td>High</td>\n",
       "      <td>3</td>\n",
       "    </tr>\n",
       "  </tbody>\n",
       "</table>\n",
       "</div>"
      ],
      "text/plain": [
       "                Recency  Frequency  MonetaryValue  R  F  M  RFM_Score  \\\n",
       "customerNumber                                                          \n",
       "703                 458        444       64785.89  3  1  2          6   \n",
       "620                 458        571       82185.83  3  2  3          8   \n",
       "637                 456        684       67667.94  4  3  2          9   \n",
       "588                 466        392       79557.93  1  1  3          5   \n",
       "650                 455        466       64112.12  4  1  2          7   \n",
       "402                 456        548       90087.41  4  2  3          9   \n",
       "189                 465        417       35237.15  1  1  1          3   \n",
       "933                 464        810      162494.67  1  4  4          9   \n",
       "317                 456        532       75268.30  4  2  3          9   \n",
       "536                 459        958      137865.55  2  4  4         10   \n",
       "944                 459        409       35041.64  2  1  1          4   \n",
       "309                 455        646       89936.36  4  3  3         10   \n",
       "814                 455       1236      147518.52  4  4  4         12   \n",
       "290                 458        438       56476.04  3  1  2          6   \n",
       "265                 455        572      109742.89  4  2  4         10   \n",
       "824                 456       1224      364568.14  4  4  4         12   \n",
       "108                 457       1114      275394.56  3  4  4         11   \n",
       "886                 463        545       43863.08  2  2  1          5   \n",
       "270                 456        530       63684.03  4  2  2          8   \n",
       "288                 455        729       69025.63  4  3  2          9   \n",
       "143                 463        498       61019.71  2  2  2          6   \n",
       "74                  455        529       44901.79  4  2  1          7   \n",
       "509                 456       1475      190332.96  4  4  4         12   \n",
       "238                 456        558       82177.34  4  2  3          9   \n",
       "340                 455        990       99888.05  4  4  3         11   \n",
       "999                 456        534       75466.64  4  2  3          9   \n",
       "300                 478        609       44200.63  1  3  1          5   \n",
       "659                 458       1623      127877.08  3  4  4         11   \n",
       "802                 459        413       52597.40  2  1  2          5   \n",
       "36                  466        536       73534.53  1  2  3          6   \n",
       "819                 457        528       47444.02  3  2  1          6   \n",
       "375                 466        473       44681.32  1  2  1          4   \n",
       "820                 463        423       38363.87  2  1  1          4   \n",
       "504                 456        426       34479.24  4  1  1          6   \n",
       "991                 456        640      102060.84  4  3  3         10   \n",
       "\n",
       "                RFM_Level  Cluster  \n",
       "customerNumber                      \n",
       "703                   Low        1  \n",
       "620                Middle        3  \n",
       "637                  High        3  \n",
       "588                   Low        0  \n",
       "650                Middle        1  \n",
       "402                  High        3  \n",
       "189                   Low        0  \n",
       "933                  High        3  \n",
       "317                  High        1  \n",
       "536                  High        3  \n",
       "944                   Low        1  \n",
       "309                  High        3  \n",
       "814             Top Class        2  \n",
       "290                   Low        1  \n",
       "265                  High        3  \n",
       "824             Top Class        2  \n",
       "108             Top Class        2  \n",
       "886                   Low        0  \n",
       "270                Middle        1  \n",
       "288                  High        3  \n",
       "143                   Low        0  \n",
       "74                 Middle        1  \n",
       "509             Top Class        2  \n",
       "238                  High        3  \n",
       "340             Top Class        3  \n",
       "999                  High        1  \n",
       "300                   Low        0  \n",
       "659             Top Class        2  \n",
       "802                   Low        1  \n",
       "36                    Low        0  \n",
       "819                   Low        1  \n",
       "375                   Low        0  \n",
       "820                   Low        0  \n",
       "504                   Low        1  \n",
       "991                  High        3  "
      ]
     },
     "execution_count": 95,
     "metadata": {},
     "output_type": "execute_result"
    }
   ],
   "source": [
    "cluster_labels = kmeans.labels_\n",
    "rfm_k5 = rfm.assign(Cluster=cluster_labels)\n",
    "rfm_k5.sample(35)"
   ]
  },
  {
   "cell_type": "code",
   "execution_count": 86,
   "id": "266ebddc",
   "metadata": {},
   "outputs": [
    {
     "data": {
      "text/html": [
       "<div>\n",
       "<style scoped>\n",
       "    .dataframe tbody tr th:only-of-type {\n",
       "        vertical-align: middle;\n",
       "    }\n",
       "\n",
       "    .dataframe tbody tr th {\n",
       "        vertical-align: top;\n",
       "    }\n",
       "\n",
       "    .dataframe thead tr th {\n",
       "        text-align: left;\n",
       "    }\n",
       "\n",
       "    .dataframe thead tr:last-of-type th {\n",
       "        text-align: right;\n",
       "    }\n",
       "</style>\n",
       "<table border=\"1\" class=\"dataframe\">\n",
       "  <thead>\n",
       "    <tr>\n",
       "      <th></th>\n",
       "      <th>Recency</th>\n",
       "      <th>Frequency</th>\n",
       "      <th colspan=\"2\" halign=\"left\">MonetaryValue</th>\n",
       "    </tr>\n",
       "    <tr>\n",
       "      <th></th>\n",
       "      <th>mean</th>\n",
       "      <th>mean</th>\n",
       "      <th>mean</th>\n",
       "      <th>count</th>\n",
       "    </tr>\n",
       "    <tr>\n",
       "      <th>Cluster</th>\n",
       "      <th></th>\n",
       "      <th></th>\n",
       "      <th></th>\n",
       "      <th></th>\n",
       "    </tr>\n",
       "  </thead>\n",
       "  <tbody>\n",
       "    <tr>\n",
       "      <th>0</th>\n",
       "      <td>466.90</td>\n",
       "      <td>503.50</td>\n",
       "      <td>56291.30</td>\n",
       "      <td>176</td>\n",
       "    </tr>\n",
       "    <tr>\n",
       "      <th>1</th>\n",
       "      <td>456.70</td>\n",
       "      <td>502.50</td>\n",
       "      <td>52649.30</td>\n",
       "      <td>349</td>\n",
       "    </tr>\n",
       "    <tr>\n",
       "      <th>2</th>\n",
       "      <td>458.20</td>\n",
       "      <td>1714.70</td>\n",
       "      <td>216881.00</td>\n",
       "      <td>110</td>\n",
       "    </tr>\n",
       "    <tr>\n",
       "      <th>3</th>\n",
       "      <td>458.70</td>\n",
       "      <td>735.30</td>\n",
       "      <td>100642.80</td>\n",
       "      <td>358</td>\n",
       "    </tr>\n",
       "    <tr>\n",
       "      <th>4</th>\n",
       "      <td>526.60</td>\n",
       "      <td>451.90</td>\n",
       "      <td>57088.70</td>\n",
       "      <td>7</td>\n",
       "    </tr>\n",
       "  </tbody>\n",
       "</table>\n",
       "</div>"
      ],
      "text/plain": [
       "        Recency Frequency MonetaryValue      \n",
       "           mean      mean          mean count\n",
       "Cluster                                      \n",
       "0        466.90    503.50      56291.30   176\n",
       "1        456.70    502.50      52649.30   349\n",
       "2        458.20   1714.70     216881.00   110\n",
       "3        458.70    735.30     100642.80   358\n",
       "4        526.60    451.90      57088.70     7"
      ]
     },
     "execution_count": 86,
     "metadata": {},
     "output_type": "execute_result"
    }
   ],
   "source": [
    "grouped = rfm_k5.groupby(['Cluster'])\n",
    "avg_df=grouped.agg({\n",
    "    'Recency': 'mean',\n",
    "    'Frequency': 'mean',\n",
    "    'MonetaryValue': ['mean', 'count']\n",
    "  }).round(1)\n",
    "avg_df"
   ]
  },
  {
   "cell_type": "code",
   "execution_count": 87,
   "id": "5c28501d",
   "metadata": {},
   "outputs": [
    {
     "data": {
      "text/plain": [
       "<AxesSubplot:xlabel='Cluster', ylabel='None-None'>"
      ]
     },
     "execution_count": 87,
     "metadata": {},
     "output_type": "execute_result"
    },
    {
     "data": {
      "image/png": "[encoded data removed]",
      "text/plain": [
       "<Figure size 432x288 with 2 Axes>"
      ]
     },
     "metadata": {},
     "output_type": "display_data"
    }
   ],
   "source": [
    "sns.heatmap(avg_df.iloc[:,:-1].T, cmap=\"RdYlGn\")"
   ]
  },
  {
   "cell_type": "code",
   "execution_count": 89,
   "id": "2b60c72d",
   "metadata": {},
   "outputs": [],
   "source": [
    "def rfm_level(df):\n",
    "    if df['RFM_Score'] >= 11:\n",
    "        return 'Platinum'\n",
    "    elif ((df['RFM_Score'] >= 8) and (df['RFM_Score'] < 11)):\n",
    "      return \"Gold\"\n",
    "    elif ((df['RFM_Score'] >= 5) and (df['RFM_Score'] < 8)):\n",
    "        return 'Bronze'\n",
    "    else:\n",
    "        return 'Silver'\n",
    "\n",
    "rfm_k5['RFM_Segment'] = rfm_k5.apply(rfm_level, axis=1)"
   ]
  },
  {
   "cell_type": "code",
   "execution_count": 99,
   "id": "ffc6a981",
   "metadata": {},
   "outputs": [
    {
     "name": "stdout",
     "output_type": "stream",
     "text": [
      "                Recency  Frequency  MonetaryValue  R  F  M  RFM_Score  \\\n",
      "customerNumber                                                          \n",
      "780                 464        466       56876.49  1  1  2          4   \n",
      "165                 456        590       68352.86  4  3  2          9   \n",
      "938                 464        516       74580.17  1  2  3          6   \n",
      "117                 456        527      147090.50  4  2  4         10   \n",
      "175                 456        667       36894.79  4  3  1          8   \n",
      "904                 455       1149      164481.77  4  4  4         12   \n",
      "268                 457        487       40801.31  3  2  1          6   \n",
      "502                 456        422       52440.92  4  1  2          7   \n",
      "398                 455        534      104594.59  4  2  4         10   \n",
      "224                 459        609       73757.70  2  3  3          8   \n",
      "599                 456        835      140626.92  4  4  4         12   \n",
      "98                  456        639       73608.19  4  3  3         10   \n",
      "766                 459        671      167971.05  2  3  4          9   \n",
      "756                 455        762       75224.45  4  3  3         10   \n",
      "287                 457        454      135601.88  3  1  4          8   \n",
      "122                 455        621       36845.23  4  3  1          8   \n",
      "103                 457        460       97392.38  3  1  3          7   \n",
      "234                 456        470      106523.48  4  2  4         10   \n",
      "118                 469        580      136079.37  1  3  4          8   \n",
      "\n",
      "                RFM_Level  Cluster  \n",
      "customerNumber                      \n",
      "780                   Low        0  \n",
      "165                  High        1  \n",
      "938                   Low        0  \n",
      "117                  High        3  \n",
      "175                Middle        1  \n",
      "904             Top Class        2  \n",
      "268                   Low        1  \n",
      "502                Middle        1  \n",
      "398                  High        3  \n",
      "224                Middle        3  \n",
      "599             Top Class        3  \n",
      "98                   High        3  \n",
      "766                  High        3  \n",
      "756                  High        3  \n",
      "287                Middle        3  \n",
      "122                Middle        1  \n",
      "103                Middle        3  \n",
      "234                  High        3  \n",
      "118                Middle        3  \n"
     ]
    }
   ],
   "source": [
    "print(rfm_k5.sample(19))"
   ]
  },
  {
   "cell_type": "code",
   "execution_count": 100,
   "id": "b7da0382",
   "metadata": {},
   "outputs": [
    {
     "name": "stdout",
     "output_type": "stream",
     "text": [
      "clustering success for cluster0 is 0.95 \n",
      " clustering success for cluster1 is 0.49\n",
      " clustering success for cluster2 is 0.64\n",
      " clustering success for cluster3 is 0.51\n"
     ]
    }
   ],
   "source": [
    "cluster3= rfm_k5[(rfm_k5[\"RFM_Level\"]==\"High\") & (rfm_k5.Cluster==3)].Recency.count()/rfm_k5[rfm_k5.Cluster==3].Recency.count()\n",
    "cluster0= rfm_k5[(rfm_k5[\"RFM_Level\"]==\"Low\") & (rfm_k5.Cluster==0)].Recency.count()/rfm_k5[rfm_k5.Cluster==0].Recency.count()\n",
    "cluster2= rfm_k5[(rfm_k5[\"RFM_Level\"]==\"Top Class\") & (rfm_k5.Cluster==2)].Recency.count()/rfm_k5[rfm_k5.Cluster==2].Recency.count()\n",
    "cluster1= rfm_k5[(rfm_k5[\"RFM_Level\"]==\"Middle\") & (rfm_k5.Cluster==1)].Recency.count()/rfm_k5[rfm_k5.Cluster==1].Recency.count()\n",
    "\n",
    "print(\"clustering success for cluster0 is {:.2f} \\n clustering success for cluster1 is {:.2f}\\n clustering success for cluster2 is {:.2f}\\n clustering success for cluster3 is {:.2f}\".format(cluster0, cluster1, cluster2, cluster3))"
   ]
  },
  {
   "cell_type": "code",
   "execution_count": null,
   "id": "bda87e62",
   "metadata": {},
   "outputs": [],
   "source": []
  },
  {
   "cell_type": "code",
   "execution_count": null,
   "id": "4dd936b7",
   "metadata": {},
   "outputs": [],
   "source": []
  },
  {
   "cell_type": "code",
   "execution_count": 67,
   "id": "a0d02646",
   "metadata": {},
   "outputs": [
    {
     "data": {
      "text/html": [
       "<div>\n",
       "<style scoped>\n",
       "    .dataframe tbody tr th:only-of-type {\n",
       "        vertical-align: middle;\n",
       "    }\n",
       "\n",
       "    .dataframe tbody tr th {\n",
       "        vertical-align: top;\n",
       "    }\n",
       "\n",
       "    .dataframe thead th {\n",
       "        text-align: right;\n",
       "    }\n",
       "</style>\n",
       "<table border=\"1\" class=\"dataframe\">\n",
       "  <thead>\n",
       "    <tr style=\"text-align: right;\">\n",
       "      <th></th>\n",
       "      <th>customerNumber</th>\n",
       "      <th>purchaseDate</th>\n",
       "      <th>branchNumber</th>\n",
       "      <th>articleNumber</th>\n",
       "      <th>quantity</th>\n",
       "      <th>discountOnRecommendedRetailPrice[%]</th>\n",
       "      <th>purchaseAmount</th>\n",
       "    </tr>\n",
       "  </thead>\n",
       "  <tbody>\n",
       "    <tr>\n",
       "      <th>0</th>\n",
       "      <td>557</td>\n",
       "      <td>2021-01-04</td>\n",
       "      <td>19</td>\n",
       "      <td>6013</td>\n",
       "      <td>1.00</td>\n",
       "      <td>0.00</td>\n",
       "      <td>17.24</td>\n",
       "    </tr>\n",
       "    <tr>\n",
       "      <th>1</th>\n",
       "      <td>557</td>\n",
       "      <td>2021-01-04</td>\n",
       "      <td>19</td>\n",
       "      <td>6663</td>\n",
       "      <td>2.00</td>\n",
       "      <td>8.37</td>\n",
       "      <td>94.96</td>\n",
       "    </tr>\n",
       "    <tr>\n",
       "      <th>2</th>\n",
       "      <td>189</td>\n",
       "      <td>2021-01-04</td>\n",
       "      <td>17</td>\n",
       "      <td>2982</td>\n",
       "      <td>2.00</td>\n",
       "      <td>32.23</td>\n",
       "      <td>59.96</td>\n",
       "    </tr>\n",
       "    <tr>\n",
       "      <th>3</th>\n",
       "      <td>490</td>\n",
       "      <td>2021-01-04</td>\n",
       "      <td>19</td>\n",
       "      <td>10658</td>\n",
       "      <td>1.00</td>\n",
       "      <td>25.04</td>\n",
       "      <td>24.05</td>\n",
       "    </tr>\n",
       "    <tr>\n",
       "      <th>4</th>\n",
       "      <td>896</td>\n",
       "      <td>2021-01-04</td>\n",
       "      <td>36</td>\n",
       "      <td>14971</td>\n",
       "      <td>3.00</td>\n",
       "      <td>0.00</td>\n",
       "      <td>26.69</td>\n",
       "    </tr>\n",
       "  </tbody>\n",
       "</table>\n",
       "</div>"
      ],
      "text/plain": [
       "   customerNumber purchaseDate  branchNumber  articleNumber  quantity  \\\n",
       "0             557   2021-01-04            19           6013      1.00   \n",
       "1             557   2021-01-04            19           6663      2.00   \n",
       "2             189   2021-01-04            17           2982      2.00   \n",
       "3             490   2021-01-04            19          10658      1.00   \n",
       "4             896   2021-01-04            36          14971      3.00   \n",
       "\n",
       "   discountOnRecommendedRetailPrice[%]  purchaseAmount  \n",
       "0                                 0.00           17.24  \n",
       "1                                 8.37           94.96  \n",
       "2                                32.23           59.96  \n",
       "3                                25.04           24.05  \n",
       "4                                 0.00           26.69  "
      ]
     },
     "execution_count": 67,
     "metadata": {},
     "output_type": "execute_result"
    }
   ],
   "source": [
    "factura_df.head()"
   ]
  },
  {
   "cell_type": "code",
   "execution_count": null,
   "id": "22012072",
   "metadata": {},
   "outputs": [],
   "source": []
  }
 ],
 "metadata": {
  "kernelspec": {
   "display_name": "Python 3",
   "language": "python",
   "name": "python3"
  },
  "language_info": {
   "codemirror_mode": {
    "name": "ipython",
    "version": 3
   },
   "file_extension": ".py",
   "mimetype": "text/x-python",
   "name": "python",
   "nbconvert_exporter": "python",
   "pygments_lexer": "ipython3",
   "version": "3.8.8"
  }
 },
 "nbformat": 4,
 "nbformat_minor": 5
}
