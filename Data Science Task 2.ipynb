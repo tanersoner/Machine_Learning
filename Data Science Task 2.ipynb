{
 "cells": [
  {
   "cell_type": "markdown",
   "id": "02fb6666",
   "metadata": {},
   "source": [
    "# Data Science Task 2"
   ]
  },
  {
   "cell_type": "markdown",
   "id": "cb170e10",
   "metadata": {},
   "source": [
    "This is a segmentation task that uses company sales data as the data basis. In this task, customers are to be divided into segments based on their purchasing behavior (customer segmentation). The main task is to identify relevant patterns in the purchasing behavior of customers. Several segmentation solutions are possible. The ones of particular importance to the company are those that are associated with a gain in customer insight, with implications for revenue and profit growth.\n",
    "\n",
    "In general, a customer segmentation is carried out so that customers can be addressed in a targeted manner or in order to offer suitable products and services to the customer. **Meaningful** differentiation criteria for the company would be the customer price sensitivity, the assortment mix (similarity of the articles purchased by the customer), seasonal buying behavior of the customer, etc."
   ]
  },
  {
   "cell_type": "markdown",
   "id": "0358a061",
   "metadata": {},
   "source": [
    "## Goal of this task"
   ]
  },
  {
   "cell_type": "markdown",
   "id": "574bc690",
   "metadata": {},
   "source": [
    "Write a small program that divides customers into customer groups based on their purchasing behavior. Use a suitable, respectively preferred programming language (Python, Matlab, R) or library. You are welcome to use notebooks (e.g., Jupyter Notebook) for the purpose of writing and documenting your code.\n",
    "\n",
    "For this task several solutions are possible. Therefore, it is important to document the program code. A logging of a progress, function and error report provides extra points in evaluation.\n",
    "Use company sales data as data basis."
   ]
  },
  {
   "cell_type": "markdown",
   "id": "8166f6a9",
   "metadata": {},
   "source": [
    "# Scores:"
   ]
  },
  {
   "cell_type": "markdown",
   "id": "7cf86613",
   "metadata": {},
   "source": [
    "Final segmentation of customers. The code should be clean, understandable and sufficiently commented. (**50 points**)\n",
    "\n",
    "Adequate comments and user instructions. All necessary means (e.g. extra libraries to be installed) to run the program (**10 points**).\n",
    "\n",
    "Graphical representation and interpretation of the final solution (your created customer segmentation) (**15 points**)\n",
    "\n",
    "Logging of your progress, function and error report (**25 points**)\n",
    "\n",
    "Total **100 points**"
   ]
  },
  {
   "cell_type": "code",
   "execution_count": 1,
   "id": "ed17d26a",
   "metadata": {},
   "outputs": [],
   "source": [
    "%matplotlib inline\n",
    "import os\n",
    "import glob\n",
    "import numpy as np\n",
    "\n",
    "from datetime import datetime\n",
    "import locale\n",
    "locale.setlocale(locale.LC_ALL, \"german\")\n",
    "\n",
    "from scipy import io\n",
    "import matplotlib.pyplot as plt\n",
    "import pandas as pd"
   ]
  },
  {
   "cell_type": "code",
   "execution_count": null,
   "id": "9791bc25",
   "metadata": {},
   "outputs": [],
   "source": []
  }
 ],
 "metadata": {
  "kernelspec": {
   "display_name": "Python 3",
   "language": "python",
   "name": "python3"
  },
  "language_info": {
   "codemirror_mode": {
    "name": "ipython",
    "version": 3
   },
   "file_extension": ".py",
   "mimetype": "text/x-python",
   "name": "python",
   "nbconvert_exporter": "python",
   "pygments_lexer": "ipython3",
   "version": "3.8.8"
  }
 },
 "nbformat": 4,
 "nbformat_minor": 5
}
