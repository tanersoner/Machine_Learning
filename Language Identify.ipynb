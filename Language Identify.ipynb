{
 "cells": [
  {
   "cell_type": "markdown",
   "id": "85ef64ca",
   "metadata": {},
   "source": [
    "### Importing Modules"
   ]
  },
  {
   "cell_type": "code",
   "execution_count": 77,
   "id": "46a5bcaf",
   "metadata": {},
   "outputs": [],
   "source": [
    "import pandas as pd\n",
    "import numpy as np\n",
    "import re\n",
    "import seaborn as sns\n",
    "import matplotlib.pyplot as plt\n",
    "import pickle\n",
    "\n",
    "import warnings\n",
    "warnings.simplefilter(\"ignore\")"
   ]
  },
  {
   "cell_type": "markdown",
   "id": "0b288fb3",
   "metadata": {},
   "source": [
    "## Exploratory Data Analysis"
   ]
  },
  {
   "cell_type": "code",
   "execution_count": 78,
   "id": "0a9bf138",
   "metadata": {},
   "outputs": [],
   "source": [
    "df = pd.read_csv(\"Language Identify.csv\")"
   ]
  },
  {
   "cell_type": "code",
   "execution_count": 79,
   "id": "4c7d1ed4",
   "metadata": {},
   "outputs": [
    {
     "data": {
      "text/html": [
       "<div>\n",
       "<style scoped>\n",
       "    .dataframe tbody tr th:only-of-type {\n",
       "        vertical-align: middle;\n",
       "    }\n",
       "\n",
       "    .dataframe tbody tr th {\n",
       "        vertical-align: top;\n",
       "    }\n",
       "\n",
       "    .dataframe thead th {\n",
       "        text-align: right;\n",
       "    }\n",
       "</style>\n",
       "<table border=\"1\" class=\"dataframe\">\n",
       "  <thead>\n",
       "    <tr style=\"text-align: right;\">\n",
       "      <th></th>\n",
       "      <th>Text</th>\n",
       "      <th>Language</th>\n",
       "    </tr>\n",
       "  </thead>\n",
       "  <tbody>\n",
       "    <tr>\n",
       "      <th>0</th>\n",
       "      <td>Nature, in the broadest sense, is the natural...</td>\n",
       "      <td>English</td>\n",
       "    </tr>\n",
       "    <tr>\n",
       "      <th>1</th>\n",
       "      <td>\"Nature\" can refer to the phenomena of the phy...</td>\n",
       "      <td>English</td>\n",
       "    </tr>\n",
       "    <tr>\n",
       "      <th>2</th>\n",
       "      <td>The study of nature is a large, if not the onl...</td>\n",
       "      <td>English</td>\n",
       "    </tr>\n",
       "    <tr>\n",
       "      <th>3</th>\n",
       "      <td>Although humans are part of nature, human acti...</td>\n",
       "      <td>English</td>\n",
       "    </tr>\n",
       "    <tr>\n",
       "      <th>4</th>\n",
       "      <td>[1] The word nature is borrowed from the Old F...</td>\n",
       "      <td>English</td>\n",
       "    </tr>\n",
       "  </tbody>\n",
       "</table>\n",
       "</div>"
      ],
      "text/plain": [
       "                                                Text Language\n",
       "0   Nature, in the broadest sense, is the natural...  English\n",
       "1  \"Nature\" can refer to the phenomena of the phy...  English\n",
       "2  The study of nature is a large, if not the onl...  English\n",
       "3  Although humans are part of nature, human acti...  English\n",
       "4  [1] The word nature is borrowed from the Old F...  English"
      ]
     },
     "execution_count": 79,
     "metadata": {},
     "output_type": "execute_result"
    }
   ],
   "source": [
    "df.head()"
   ]
  },
  {
   "cell_type": "code",
   "execution_count": 80,
   "id": "8ab1fe26",
   "metadata": {},
   "outputs": [
    {
     "data": {
      "text/html": [
       "<div>\n",
       "<style scoped>\n",
       "    .dataframe tbody tr th:only-of-type {\n",
       "        vertical-align: middle;\n",
       "    }\n",
       "\n",
       "    .dataframe tbody tr th {\n",
       "        vertical-align: top;\n",
       "    }\n",
       "\n",
       "    .dataframe thead th {\n",
       "        text-align: right;\n",
       "    }\n",
       "</style>\n",
       "<table border=\"1\" class=\"dataframe\">\n",
       "  <thead>\n",
       "    <tr style=\"text-align: right;\">\n",
       "      <th></th>\n",
       "      <th>Text</th>\n",
       "      <th>Language</th>\n",
       "    </tr>\n",
       "  </thead>\n",
       "  <tbody>\n",
       "    <tr>\n",
       "      <th>4140</th>\n",
       "      <td>je ne suis pas sûr d'être d'accord.</td>\n",
       "      <td>French</td>\n",
       "    </tr>\n",
       "    <tr>\n",
       "      <th>7834</th>\n",
       "      <td>Bilgiler tartışılır, değerlendirilir ve içeriğ...</td>\n",
       "      <td>Turkish</td>\n",
       "    </tr>\n",
       "    <tr>\n",
       "      <th>353</th>\n",
       "      <td>[80] In 2010, Daniel Tosh encouraged viewers o...</td>\n",
       "      <td>English</td>\n",
       "    </tr>\n",
       "    <tr>\n",
       "      <th>106</th>\n",
       "      <td>Other lakes are found in endorheic basins or a...</td>\n",
       "      <td>English</td>\n",
       "    </tr>\n",
       "    <tr>\n",
       "      <th>2039</th>\n",
       "      <td>क्या आप मुझे एक सवारी घर देना चाहेंगे?</td>\n",
       "      <td>Hindi</td>\n",
       "    </tr>\n",
       "    <tr>\n",
       "      <th>5293</th>\n",
       "      <td>Quiero recordarte que en caso de que estés bus...</td>\n",
       "      <td>Spanish</td>\n",
       "    </tr>\n",
       "    <tr>\n",
       "      <th>1196</th>\n",
       "      <td>i'm sorry.</td>\n",
       "      <td>English</td>\n",
       "    </tr>\n",
       "    <tr>\n",
       "      <th>2896</th>\n",
       "      <td>digamos que você tenha muitas tarefas e um tes...</td>\n",
       "      <td>Portugeese</td>\n",
       "    </tr>\n",
       "    <tr>\n",
       "      <th>6606</th>\n",
       "      <td>бесконечно благодарен.</td>\n",
       "      <td>Russian</td>\n",
       "    </tr>\n",
       "    <tr>\n",
       "      <th>1</th>\n",
       "      <td>\"Nature\" can refer to the phenomena of the phy...</td>\n",
       "      <td>English</td>\n",
       "    </tr>\n",
       "    <tr>\n",
       "      <th>7682</th>\n",
       "      <td>essere d'accordo e non essere d'accordo.</td>\n",
       "      <td>Italian</td>\n",
       "    </tr>\n",
       "    <tr>\n",
       "      <th>8575</th>\n",
       "      <td>Man hittade att tillit till konsensus ofta led...</td>\n",
       "      <td>Sweedish</td>\n",
       "    </tr>\n",
       "    <tr>\n",
       "      <th>2577</th>\n",
       "      <td>Nenhum artigo ou o seu conteúdo é propriedade ...</td>\n",
       "      <td>Portugeese</td>\n",
       "    </tr>\n",
       "    <tr>\n",
       "      <th>6407</th>\n",
       "      <td>поблагодарить вас заранее.</td>\n",
       "      <td>Russian</td>\n",
       "    </tr>\n",
       "    <tr>\n",
       "      <th>6018</th>\n",
       "      <td>Однако в дальнейшем в ходе внутреннего расслед...</td>\n",
       "      <td>Russian</td>\n",
       "    </tr>\n",
       "  </tbody>\n",
       "</table>\n",
       "</div>"
      ],
      "text/plain": [
       "                                                   Text    Language\n",
       "4140                je ne suis pas sûr d'être d'accord.      French\n",
       "7834  Bilgiler tartışılır, değerlendirilir ve içeriğ...     Turkish\n",
       "353   [80] In 2010, Daniel Tosh encouraged viewers o...     English\n",
       "106   Other lakes are found in endorheic basins or a...     English\n",
       "2039             क्या आप मुझे एक सवारी घर देना चाहेंगे?       Hindi\n",
       "5293  Quiero recordarte que en caso de que estés bus...     Spanish\n",
       "1196                                         i'm sorry.     English\n",
       "2896  digamos que você tenha muitas tarefas e um tes...  Portugeese\n",
       "6606                             бесконечно благодарен.     Russian\n",
       "1     \"Nature\" can refer to the phenomena of the phy...     English\n",
       "7682           essere d'accordo e non essere d'accordo.     Italian\n",
       "8575  Man hittade att tillit till konsensus ofta led...    Sweedish\n",
       "2577  Nenhum artigo ou o seu conteúdo é propriedade ...  Portugeese\n",
       "6407                         поблагодарить вас заранее.     Russian\n",
       "6018  Однако в дальнейшем в ходе внутреннего расслед...     Russian"
      ]
     },
     "execution_count": 80,
     "metadata": {},
     "output_type": "execute_result"
    }
   ],
   "source": [
    "df.sample(15)"
   ]
  },
  {
   "cell_type": "code",
   "execution_count": 81,
   "id": "f8e7a31c",
   "metadata": {},
   "outputs": [
    {
     "data": {
      "text/plain": [
       "English       1385\n",
       "French        1014\n",
       "Spanish        819\n",
       "Portugeese     739\n",
       "Italian        698\n",
       "Russian        692\n",
       "Sweedish       676\n",
       "Malayalam      594\n",
       "Dutch          546\n",
       "Arabic         536\n",
       "Turkish        474\n",
       "German         470\n",
       "Tamil          469\n",
       "Danish         428\n",
       "Kannada        369\n",
       "Greek          365\n",
       "Hindi           63\n",
       "Name: Language, dtype: int64"
      ]
     },
     "execution_count": 81,
     "metadata": {},
     "output_type": "execute_result"
    }
   ],
   "source": [
    "df[\"Language\"].value_counts()"
   ]
  },
  {
   "cell_type": "markdown",
   "id": "b591c505",
   "metadata": {},
   "source": [
    "Data set contains text details for 17 different languages."
   ]
  },
  {
   "cell_type": "markdown",
   "id": "3e9cb1ee",
   "metadata": {},
   "source": [
    "### Missing Value Detection"
   ]
  },
  {
   "cell_type": "code",
   "execution_count": 82,
   "id": "5687a7f1",
   "metadata": {},
   "outputs": [
    {
     "data": {
      "text/plain": [
       "Text        0\n",
       "Language    0\n",
       "dtype: int64"
      ]
     },
     "execution_count": 82,
     "metadata": {},
     "output_type": "execute_result"
    }
   ],
   "source": [
    "df.isnull().sum()"
   ]
  },
  {
   "cell_type": "code",
   "execution_count": 90,
   "id": "1314b131",
   "metadata": {},
   "outputs": [
    {
     "name": "stdout",
     "output_type": "stream",
     "text": [
      "<class 'pandas.core.frame.DataFrame'>\n",
      "RangeIndex: 10337 entries, 0 to 10336\n",
      "Data columns (total 2 columns):\n",
      " #   Column    Non-Null Count  Dtype \n",
      "---  ------    --------------  ----- \n",
      " 0   Text      10337 non-null  object\n",
      " 1   Language  10337 non-null  object\n",
      "dtypes: object(2)\n",
      "memory usage: 161.6+ KB\n"
     ]
    }
   ],
   "source": [
    "df.info()"
   ]
  },
  {
   "cell_type": "code",
   "execution_count": 91,
   "id": "4f6582dd",
   "metadata": {},
   "outputs": [
    {
     "data": {
      "text/plain": [
       "False    10271\n",
       "True        66\n",
       "dtype: int64"
      ]
     },
     "execution_count": 91,
     "metadata": {},
     "output_type": "execute_result"
    }
   ],
   "source": [
    "df.duplicated().value_counts()"
   ]
  },
  {
   "cell_type": "markdown",
   "id": "78970ea1",
   "metadata": {},
   "source": [
    "This data set is small data set. I will not drop duplicated value."
   ]
  },
  {
   "cell_type": "markdown",
   "id": "b04b06b0",
   "metadata": {},
   "source": [
    "## Split Data as Train and Test set"
   ]
  },
  {
   "cell_type": "markdown",
   "id": "28f7d5e7",
   "metadata": {},
   "source": [
    "To run machine learning algorithms we need to convert text files into numerical feature vectors. We will use bag of words model for our analysis.\n",
    "\n",
    "First we spliting the data into train and test sets:Here, Dataset is broken into two parts in ratio of 80:20. It means 80% data will used for model training and 20% for model testing."
   ]
  },
  {
   "cell_type": "code",
   "execution_count": 121,
   "id": "2faaab77",
   "metadata": {},
   "outputs": [],
   "source": [
    "X = df[\"Text\"]\n",
    "y = df[\"Language\"]"
   ]
  },
  {
   "cell_type": "markdown",
   "id": "d7407a42",
   "metadata": {},
   "source": [
    "I separate the dependent and independent variables as X and y."
   ]
  },
  {
   "cell_type": "markdown",
   "id": "1008a176",
   "metadata": {},
   "source": [
    "### Label Encoding\n",
    "\n",
    "Lots of machine learning algorithms require numerical input data, so you need to represent categorical columns in a numerical column. In order to encode this data, you could map each value to a number. Language column's value can be represented as numerical."
   ]
  },
  {
   "cell_type": "code",
   "execution_count": 122,
   "id": "bf1a0ed7",
   "metadata": {},
   "outputs": [],
   "source": [
    "from sklearn.preprocessing import LabelEncoder\n",
    "le = LabelEncoder()\n",
    "y = le.fit_transform(y)"
   ]
  },
  {
   "cell_type": "markdown",
   "id": "aec6aa7e",
   "metadata": {},
   "source": [
    "### Text Preprocessing\n",
    "I found this data set in Kaggle. It contains many unwanted symbols, so I should use text preprocessing techniques."
   ]
  },
  {
   "cell_type": "code",
   "execution_count": 123,
   "id": "9973fc1b",
   "metadata": {},
   "outputs": [],
   "source": [
    "data_list = []\n",
    "for text in X:\n",
    "    text = re.sub(r'[!@#$(),\\n\"%^*?\\:;~`0-9]', ' ', text)\n",
    "    text = re.sub(r'[[]]', ' ', text)\n",
    "    text = text.lower()\n",
    "    data_list.append(text)"
   ]
  },
  {
   "cell_type": "markdown",
   "id": "1b1e42de",
   "metadata": {},
   "source": [
    "### Vectorization"
   ]
  },
  {
   "cell_type": "markdown",
   "id": "9baece09",
   "metadata": {},
   "source": [
    "In the next step we create a numerical feature vector for each document:"
   ]
  },
  {
   "cell_type": "code",
   "execution_count": 124,
   "id": "1b4c0377",
   "metadata": {},
   "outputs": [],
   "source": [
    "from sklearn.feature_extraction.text import CountVectorizer\n",
    "cv = CountVectorizer()\n",
    "X = cv.fit_transform(data_list).toarray()"
   ]
  },
  {
   "cell_type": "code",
   "execution_count": 87,
   "id": "191ca8e0",
   "metadata": {},
   "outputs": [
    {
     "data": {
      "text/plain": [
       "(10337, 39404)"
      ]
     },
     "execution_count": 87,
     "metadata": {},
     "output_type": "execute_result"
    }
   ],
   "source": [
    "X.shape"
   ]
  },
  {
   "cell_type": "code",
   "execution_count": 125,
   "id": "7845ddad",
   "metadata": {},
   "outputs": [],
   "source": [
    "from sklearn.model_selection import train_test_split\n",
    "\n",
    "x_train, x_test, y_train, y_test = train_test_split(X, y, test_size = 0.20, stratify = y, random_state = 42)"
   ]
  },
  {
   "cell_type": "markdown",
   "id": "10ad42be",
   "metadata": {},
   "source": [
    "## Model Building\n",
    "\n",
    "The model is trained with x _train, y_train data sets."
   ]
  },
  {
   "cell_type": "code",
   "execution_count": 89,
   "id": "dfe470d7",
   "metadata": {},
   "outputs": [
    {
     "data": {
      "text/plain": [
       "MultinomialNB()"
      ]
     },
     "execution_count": 89,
     "metadata": {},
     "output_type": "execute_result"
    }
   ],
   "source": [
    "from sklearn.naive_bayes import MultinomialNB\n",
    "\n",
    "model = MultinomialNB()\n",
    "model.fit(x_train, y_train)"
   ]
  },
  {
   "cell_type": "code",
   "execution_count": 92,
   "id": "29edbb90",
   "metadata": {},
   "outputs": [],
   "source": [
    "y_pred = model.predict(x_test)"
   ]
  },
  {
   "cell_type": "code",
   "execution_count": 93,
   "id": "5247edbc",
   "metadata": {},
   "outputs": [],
   "source": [
    "from sklearn.metrics import accuracy_score, confusion_matrix, classification_report\n",
    "\n",
    "ac = accuracy_score(y_test, y_pred)\n",
    "cm = confusion_matrix(y_test, y_pred)\n",
    "cr = classification_report(y_test, y_pred)\n"
   ]
  },
  {
   "cell_type": "code",
   "execution_count": 111,
   "id": "9c336439",
   "metadata": {},
   "outputs": [
    {
     "name": "stdout",
     "output_type": "stream",
     "text": [
      "Accuracy of Model : 0.9763056092843327\n"
     ]
    }
   ],
   "source": [
    "print(\"Accuracy of Model :\",ac)"
   ]
  },
  {
   "cell_type": "code",
   "execution_count": 95,
   "id": "a6a2b541",
   "metadata": {},
   "outputs": [
    {
     "name": "stdout",
     "output_type": "stream",
     "text": [
      "              precision    recall  f1-score   support\n",
      "\n",
      "           0       1.00      0.95      0.98       107\n",
      "           1       1.00      0.98      0.99        86\n",
      "           2       1.00      0.97      0.99       109\n",
      "           3       0.88      0.99      0.93       277\n",
      "           4       0.99      0.99      0.99       203\n",
      "           5       1.00      0.98      0.99        94\n",
      "           6       1.00      0.97      0.99        73\n",
      "           7       1.00      1.00      1.00        12\n",
      "           8       1.00      0.98      0.99       140\n",
      "           9       1.00      0.95      0.97        74\n",
      "          10       0.98      0.99      0.98       119\n",
      "          11       1.00      0.98      0.99       148\n",
      "          12       1.00      0.96      0.98       138\n",
      "          13       0.97      0.99      0.98       164\n",
      "          14       0.99      0.98      0.99       135\n",
      "          15       1.00      0.98      0.99        94\n",
      "          16       1.00      0.92      0.96        95\n",
      "\n",
      "    accuracy                           0.98      2068\n",
      "   macro avg       0.99      0.97      0.98      2068\n",
      "weighted avg       0.98      0.98      0.98      2068\n",
      "\n"
     ]
    }
   ],
   "source": [
    "# classification report\n",
    "print(cr)"
   ]
  },
  {
   "cell_type": "markdown",
   "id": "b3452958",
   "metadata": {},
   "source": [
    "### Confusion Matrix & Yellow Blick "
   ]
  },
  {
   "cell_type": "code",
   "execution_count": 101,
   "id": "f933532f",
   "metadata": {},
   "outputs": [
    {
     "data": {
      "image/png": "[encoded data removed]",
      "text/plain": [
       "<Figure size 1080x720 with 2 Axes>"
      ]
     },
     "metadata": {},
     "output_type": "display_data"
    }
   ],
   "source": [
    "plt.figure(figsize=(15,10))\n",
    "sns.heatmap(cm, annot = True)\n",
    "plt.show()"
   ]
  },
  {
   "cell_type": "code",
   "execution_count": 99,
   "id": "f41108d0",
   "metadata": {},
   "outputs": [
    {
     "data": {
      "image/png": "[encoded data removed]",
      "text/plain": [
       "<Figure size 576x396 with 1 Axes>"
      ]
     },
     "metadata": {},
     "output_type": "display_data"
    }
   ],
   "source": [
    "from yellowbrick.classifier import ClassPredictionError\n",
    "\n",
    "visualizer = ClassPredictionError(model)\n",
    "\n",
    "# Fit the training data to the visualizer\n",
    "visualizer.fit(x_train, y_train)\n",
    "\n",
    "# Evaluate the model on the test data\n",
    "visualizer.score(x_test, y_test)\n",
    "\n",
    "# Draw visualization\n",
    "visualizer.poof();"
   ]
  },
  {
   "cell_type": "markdown",
   "id": "e1f5065a",
   "metadata": {},
   "source": [
    "This grahpic shows us prediction error. Model finds texts of 0,1 ve 2 languages as %100 accuracy. There are 38 errors for 300 texts of 3 language."
   ]
  },
  {
   "cell_type": "markdown",
   "id": "4a18b6b3",
   "metadata": {},
   "source": [
    "### Logistic Regression"
   ]
  },
  {
   "cell_type": "code",
   "execution_count": 112,
   "id": "77716d17",
   "metadata": {},
   "outputs": [],
   "source": [
    "from sklearn.linear_model import LogisticRegression\n",
    "from sklearn.model_selection import cross_val_score\n",
    "from sklearn.metrics import classification_report\n",
    "from sklearn.metrics import confusion_matrix"
   ]
  },
  {
   "cell_type": "code",
   "execution_count": 113,
   "id": "99e0fd9b",
   "metadata": {},
   "outputs": [
    {
     "data": {
      "text/plain": [
       "LogisticRegression(C=10)"
      ]
     },
     "execution_count": 113,
     "metadata": {},
     "output_type": "execute_result"
    }
   ],
   "source": [
    "logmodel_count = LogisticRegression(C = 10)\n",
    "logmodel_count.fit(x_train, y_train)"
   ]
  },
  {
   "cell_type": "code",
   "execution_count": 114,
   "id": "ac1af21d",
   "metadata": {},
   "outputs": [
    {
     "name": "stdout",
     "output_type": "stream",
     "text": [
      "[[ 95   0   0   0   0   0   0   0   0  12   0   0   0   0   0   0   0]\n",
      " [  0  80   0   0   0   0   0   0   0   3   0   0   0   1   2   0   0]\n",
      " [  0   1 105   0   0   0   0   0   0   2   0   0   0   0   1   0   0]\n",
      " [  0   0   0 272   0   0   0   0   1   3   0   0   0   1   0   0   0]\n",
      " [  0   0   0   1 196   0   0   0   0   4   0   1   0   1   0   0   0]\n",
      " [  0   0   0   0   0  90   0   0   0   3   0   0   0   0   1   0   0]\n",
      " [  0   0   0   0   0   0  67   0   0   6   0   0   0   0   0   0   0]\n",
      " [  0   0   0   0   0   0   0  12   0   0   0   0   0   0   0   0   0]\n",
      " [  0   0   0   0   1   0   0   0 133   5   0   0   0   1   0   0   0]\n",
      " [  0   0   0   0   0   0   0   0   0  74   0   0   0   0   0   0   0]\n",
      " [  0   0   0   0   0   0   0   0   0   2 117   0   0   0   0   0   0]\n",
      " [  0   0   0   0   0   0   0   0   0   3   0 141   0   4   0   0   0]\n",
      " [  0   0   0   0   0   0   0   0   0   7   0   0 131   0   0   0   0]\n",
      " [  0   0   0   1   0   0   0   0   3   3   0   0   0 157   0   0   0]\n",
      " [  0   4   0   1   0   0   0   0   0   2   0   0   0   2 126   0   0]\n",
      " [  0   0   0   0   0   0   0   0   0   2   0   0   0   0   0  92   0]\n",
      " [  0   0   0   0   0   0   0   0   0  11   0   0   0   0   0   0  84]]\n",
      "              precision    recall  f1-score   support\n",
      "\n",
      "           0       1.00      0.89      0.94       107\n",
      "           1       0.94      0.93      0.94        86\n",
      "           2       1.00      0.96      0.98       109\n",
      "           3       0.99      0.98      0.99       277\n",
      "           4       0.99      0.97      0.98       203\n",
      "           5       1.00      0.96      0.98        94\n",
      "           6       1.00      0.92      0.96        73\n",
      "           7       1.00      1.00      1.00        12\n",
      "           8       0.97      0.95      0.96       140\n",
      "           9       0.52      1.00      0.69        74\n",
      "          10       1.00      0.98      0.99       119\n",
      "          11       0.99      0.95      0.97       148\n",
      "          12       1.00      0.95      0.97       138\n",
      "          13       0.94      0.96      0.95       164\n",
      "          14       0.97      0.93      0.95       135\n",
      "          15       1.00      0.98      0.99        94\n",
      "          16       1.00      0.88      0.94        95\n",
      "\n",
      "    accuracy                           0.95      2068\n",
      "   macro avg       0.96      0.95      0.95      2068\n",
      "weighted avg       0.97      0.95      0.96      2068\n",
      "\n"
     ]
    }
   ],
   "source": [
    "y_pred = logmodel_count.predict(x_test)\n",
    "print(confusion_matrix(y_test, y_pred))\n",
    "print(classification_report(y_test, y_pred))"
   ]
  },
  {
   "cell_type": "markdown",
   "id": "e225d88e",
   "metadata": {},
   "source": [
    "Accuracy for Logistic Regression model is 0.95."
   ]
  },
  {
   "cell_type": "markdown",
   "id": "2f79d9c7",
   "metadata": {},
   "source": [
    "### Support Vector Machine (SVM)"
   ]
  },
  {
   "cell_type": "code",
   "execution_count": 115,
   "id": "6a8c2878",
   "metadata": {},
   "outputs": [],
   "source": [
    "from sklearn.svm import LinearSVC"
   ]
  },
  {
   "cell_type": "code",
   "execution_count": 116,
   "id": "6ee02a4a",
   "metadata": {},
   "outputs": [
    {
     "name": "stdout",
     "output_type": "stream",
     "text": [
      "[[ 95   0   0   0   0   0   0   0   0  12   0   0   0   0   0   0   0]\n",
      " [  0  80   0   0   0   0   0   0   0   3   0   1   0   0   2   0   0]\n",
      " [  0   1 105   0   0   0   0   0   0   2   0   0   0   0   1   0   0]\n",
      " [  0   0   0 270   0   0   0   0   1   4   0   0   0   1   1   0   0]\n",
      " [  0   0   1   2 194   0   0   0   0   4   0   1   0   1   0   0   0]\n",
      " [  0   0   0   0   0  91   0   0   0   3   0   0   0   0   0   0   0]\n",
      " [  0   0   0   0   0   0  67   0   0   6   0   0   0   0   0   0   0]\n",
      " [  0   0   0   0   0   0   0  12   0   0   0   0   0   0   0   0   0]\n",
      " [  0   0   0   0   1   0   0   0 133   6   0   0   0   0   0   0   0]\n",
      " [  0   0   0   0   0   0   0   0   0  74   0   0   0   0   0   0   0]\n",
      " [  0   0   0   0   0   0   0   0   0   4 115   0   0   0   0   0   0]\n",
      " [  0   0   0   0   0   0   0   0   0   3   0 142   0   3   0   0   0]\n",
      " [  0   0   0   0   0   0   0   0   0  10   0   0 128   0   0   0   0]\n",
      " [  0   0   0   1   1   0   0   0   3   3   0   0   0 156   0   0   0]\n",
      " [  0   4   0   1   0   0   0   0   0   2   0   0   0   2 126   0   0]\n",
      " [  0   0   0   0   0   0   0   0   0   2   0   0   0   0   0  92   0]\n",
      " [  0   0   0   0   0   0   0   0   0  13   0   0   0   0   0   0  82]]\n",
      "              precision    recall  f1-score   support\n",
      "\n",
      "           0       1.00      0.89      0.94       107\n",
      "           1       0.94      0.93      0.94        86\n",
      "           2       0.99      0.96      0.98       109\n",
      "           3       0.99      0.97      0.98       277\n",
      "           4       0.99      0.96      0.97       203\n",
      "           5       1.00      0.97      0.98        94\n",
      "           6       1.00      0.92      0.96        73\n",
      "           7       1.00      1.00      1.00        12\n",
      "           8       0.97      0.95      0.96       140\n",
      "           9       0.49      1.00      0.66        74\n",
      "          10       1.00      0.97      0.98       119\n",
      "          11       0.99      0.96      0.97       148\n",
      "          12       1.00      0.93      0.96       138\n",
      "          13       0.96      0.95      0.95       164\n",
      "          14       0.97      0.93      0.95       135\n",
      "          15       1.00      0.98      0.99        94\n",
      "          16       1.00      0.86      0.93        95\n",
      "\n",
      "    accuracy                           0.95      2068\n",
      "   macro avg       0.96      0.95      0.95      2068\n",
      "weighted avg       0.97      0.95      0.95      2068\n",
      "\n"
     ]
    }
   ],
   "source": [
    "svm_count = LinearSVC(C=10).fit(x_train, y_train)\n",
    "y_pred = svm_count.predict(x_test)\n",
    "print(confusion_matrix(y_test, y_pred))\n",
    "print(classification_report(y_test, y_pred))"
   ]
  },
  {
   "cell_type": "markdown",
   "id": "a6bfa06b",
   "metadata": {},
   "source": [
    "Accuracy for Support Vector Machine model is 0.95."
   ]
  },
  {
   "cell_type": "markdown",
   "id": "f713a978",
   "metadata": {},
   "source": [
    "### Random Forest "
   ]
  },
  {
   "cell_type": "code",
   "execution_count": 117,
   "id": "368425bd",
   "metadata": {},
   "outputs": [],
   "source": [
    "from sklearn.ensemble import RandomForestClassifier"
   ]
  },
  {
   "cell_type": "code",
   "execution_count": 118,
   "id": "64238cb9",
   "metadata": {},
   "outputs": [
    {
     "name": "stdout",
     "output_type": "stream",
     "text": [
      "[[ 94   0   0   0   0   0   0   0   0  13   0   0   0   0   0   0   0]\n",
      " [  0  81   0   0   1   0   0   0   0   3   0   0   0   0   1   0   0]\n",
      " [  0   0 105   0   0   0   0   0   0   2   0   0   0   1   1   0   0]\n",
      " [  0   0   0 269   0   0   0   0   1   4   0   0   0   3   0   0   0]\n",
      " [  0   0   0   2 192   0   0   0   0   6   0   1   0   2   0   0   0]\n",
      " [  0   0   0   0   0  90   0   0   0   3   0   0   0   0   1   0   0]\n",
      " [  0   0   0   0   0   0  66   0   0   7   0   0   0   0   0   0   0]\n",
      " [  0   0   0   0   0   0   0  12   0   0   0   0   0   0   0   0   0]\n",
      " [  0   0   0   0   0   0   0   0 127   8   0   0   0   4   0   0   1]\n",
      " [  0   0   0   0   0   0   0   0   0  74   0   0   0   0   0   0   0]\n",
      " [  0   0   0   0   0   0   0   0   0   6 113   0   0   0   0   0   0]\n",
      " [  0   0   0   1   0   0   0   0   0   4   0 140   0   3   0   0   0]\n",
      " [  0   0   0   0   0   0   0   0   0  14   0   0 124   0   0   0   0]\n",
      " [  0   0   0   1   2   0   0   0   4   5   0   1   0 151   0   0   0]\n",
      " [  0   4   0   1   0   0   0   0   0   2   0   0   0   2 126   0   0]\n",
      " [  0   0   0   0   0   0   0   0   0   2   0   0   0   0   0  92   0]\n",
      " [  0   0   0   0   0   0   0   0   0  19   0   0   0   0   0   0  76]]\n",
      "              precision    recall  f1-score   support\n",
      "\n",
      "           0       1.00      0.88      0.94       107\n",
      "           1       0.95      0.94      0.95        86\n",
      "           2       1.00      0.96      0.98       109\n",
      "           3       0.98      0.97      0.98       277\n",
      "           4       0.98      0.95      0.96       203\n",
      "           5       1.00      0.96      0.98        94\n",
      "           6       1.00      0.90      0.95        73\n",
      "           7       1.00      1.00      1.00        12\n",
      "           8       0.96      0.91      0.93       140\n",
      "           9       0.43      1.00      0.60        74\n",
      "          10       1.00      0.95      0.97       119\n",
      "          11       0.99      0.95      0.97       148\n",
      "          12       1.00      0.90      0.95       138\n",
      "          13       0.91      0.92      0.92       164\n",
      "          14       0.98      0.93      0.95       135\n",
      "          15       1.00      0.98      0.99        94\n",
      "          16       0.99      0.80      0.88        95\n",
      "\n",
      "    accuracy                           0.93      2068\n",
      "   macro avg       0.95      0.94      0.94      2068\n",
      "weighted avg       0.96      0.93      0.94      2068\n",
      "\n"
     ]
    }
   ],
   "source": [
    "rf_count = RandomForestClassifier(300, n_jobs = -1, min_samples_split =3, random_state = 42).fit(x_train, y_train)\n",
    "y_pred = rf_count.predict(x_test)\n",
    "print(confusion_matrix(y_test, y_pred))\n",
    "print(classification_report(y_test, y_pred))"
   ]
  },
  {
   "cell_type": "markdown",
   "id": "e92e13ec",
   "metadata": {},
   "source": [
    "Accuracy for Random Forest model is 0.93."
   ]
  },
  {
   "cell_type": "code",
   "execution_count": 130,
   "id": "248c9f38",
   "metadata": {},
   "outputs": [
    {
     "data": {
      "image/png": "[encoded data removed]",
      "text/plain": [
       "<Figure size 576x396 with 1 Axes>"
      ]
     },
     "metadata": {},
     "output_type": "display_data"
    }
   ],
   "source": [
    "from yellowbrick.classifier import ClassPredictionError\n",
    "\n",
    "visualizer = ClassPredictionError(rf_count)\n",
    "\n",
    "# Fit the training data to the visualizer\n",
    "visualizer.fit(x_train, y_train)\n",
    "\n",
    "# Evaluate the model on the test data\n",
    "visualizer.score(x_test, y_test)\n",
    "\n",
    "# Draw visualization\n",
    "visualizer.poof();"
   ]
  },
  {
   "cell_type": "markdown",
   "id": "3870d5e6",
   "metadata": {},
   "source": [
    "## Conclusion"
   ]
  },
  {
   "cell_type": "markdown",
   "id": "bf35dc4b",
   "metadata": {},
   "source": [
    "This assignment was aimed to implement a method to identify the language. I started with Exploratory Data Analysis and split data as train and test set. After I used Label Encoding to represent categorical columns in a numerical column. Following I used bag of words model to convert the text into numerical feature vectors. Finally I started training Navie Bayes, Logistic Regression, Support vector Machine and Random Forest models for classification problem and I got the best accuracy of 0.976 for Navie Bayes."
   ]
  }
 ],
 "metadata": {
  "kernelspec": {
   "display_name": "Python 3",
   "language": "python",
   "name": "python3"
  },
  "language_info": {
   "codemirror_mode": {
    "name": "ipython",
    "version": 3
   },
   "file_extension": ".py",
   "mimetype": "text/x-python",
   "name": "python",
   "nbconvert_exporter": "python",
   "pygments_lexer": "ipython3",
   "version": "3.8.8"
  }
 },
 "nbformat": 4,
 "nbformat_minor": 5
}
